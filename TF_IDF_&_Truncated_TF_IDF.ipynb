{
  "nbformat": 4,
  "nbformat_minor": 0,
  "metadata": {
    "colab": {
      "provenance": [],
      "collapsed_sections": [
        "L3mqrk4KG2wy",
        "AJzsoumuHCU3",
        "WLOe1El_IMbe",
        "qcdrcnN4l4QA",
        "t8UQbs8dIPdg",
        "5sWpUYZIPGy2",
        "EYH3s9zaPQeb",
        "UbIstTkvlfWn",
        "hFBp906zPQ3n",
        "MlMIrGJCloAi"
      ],
      "authorship_tag": "ABX9TyPb3ID6b+0qA+iSgV4GwAVc",
      "include_colab_link": true
    },
    "kernelspec": {
      "name": "python3",
      "display_name": "Python 3"
    },
    "language_info": {
      "name": "python"
    }
  },
  "cells": [
    {
      "cell_type": "markdown",
      "metadata": {
        "id": "view-in-github",
        "colab_type": "text"
      },
      "source": [
        "<a href=\"https://colab.research.google.com/github/nirmit10000/Social_Media_Political_Bias_Detection_/blob/main/TF_IDF_%26_Truncated_TF_IDF.ipynb\" target=\"_parent\"><img src=\"https://colab.research.google.com/assets/colab-badge.svg\" alt=\"Open In Colab\"/></a>"
      ]
    },
    {
      "cell_type": "markdown",
      "source": [
        "#Installing python packages, importing libraries and utilities"
      ],
      "metadata": {
        "id": "L3mqrk4KG2wy"
      }
    },
    {
      "cell_type": "markdown",
      "source": [
        "INSTALLING PYTHON PACKAGES"
      ],
      "metadata": {
        "id": "EDQzwNnb6dIu"
      }
    },
    {
      "cell_type": "code",
      "execution_count": 141,
      "metadata": {
        "colab": {
          "base_uri": "https://localhost:8080/"
        },
        "collapsed": true,
        "id": "ey8eZHhtCKNU",
        "outputId": "6bd1c9ef-8a53-47fa-aa5b-ffb560b9a359"
      },
      "outputs": [
        {
          "output_type": "stream",
          "name": "stdout",
          "text": [
            "Requirement already satisfied: numpy==1.23.5 in /usr/local/lib/python3.11/dist-packages (1.23.5)\n",
            "Requirement already satisfied: pandas==1.5.3 in /usr/local/lib/python3.11/dist-packages (1.5.3)\n",
            "Requirement already satisfied: scikit-learn==1.2.2 in /usr/local/lib/python3.11/dist-packages (1.2.2)\n",
            "Requirement already satisfied: tensorflow==2.12.0 in /usr/local/lib/python3.11/dist-packages (2.12.0)\n",
            "Requirement already satisfied: python-dateutil>=2.8.1 in /usr/local/lib/python3.11/dist-packages (from pandas==1.5.3) (2.8.2)\n",
            "Requirement already satisfied: pytz>=2020.1 in /usr/local/lib/python3.11/dist-packages (from pandas==1.5.3) (2025.1)\n",
            "Requirement already satisfied: scipy>=1.3.2 in /usr/local/lib/python3.11/dist-packages (from scikit-learn==1.2.2) (1.14.1)\n",
            "Requirement already satisfied: joblib>=1.1.1 in /usr/local/lib/python3.11/dist-packages (from scikit-learn==1.2.2) (1.4.2)\n",
            "Requirement already satisfied: threadpoolctl>=2.0.0 in /usr/local/lib/python3.11/dist-packages (from scikit-learn==1.2.2) (3.6.0)\n",
            "Requirement already satisfied: absl-py>=1.0.0 in /usr/local/lib/python3.11/dist-packages (from tensorflow==2.12.0) (1.4.0)\n",
            "Requirement already satisfied: astunparse>=1.6.0 in /usr/local/lib/python3.11/dist-packages (from tensorflow==2.12.0) (1.6.3)\n",
            "Requirement already satisfied: flatbuffers>=2.0 in /usr/local/lib/python3.11/dist-packages (from tensorflow==2.12.0) (25.2.10)\n",
            "Requirement already satisfied: gast<=0.4.0,>=0.2.1 in /usr/local/lib/python3.11/dist-packages (from tensorflow==2.12.0) (0.4.0)\n",
            "Requirement already satisfied: google-pasta>=0.1.1 in /usr/local/lib/python3.11/dist-packages (from tensorflow==2.12.0) (0.2.0)\n",
            "Requirement already satisfied: grpcio<2.0,>=1.24.3 in /usr/local/lib/python3.11/dist-packages (from tensorflow==2.12.0) (1.71.0)\n",
            "Requirement already satisfied: h5py>=2.9.0 in /usr/local/lib/python3.11/dist-packages (from tensorflow==2.12.0) (3.13.0)\n",
            "Requirement already satisfied: jax>=0.3.15 in /usr/local/lib/python3.11/dist-packages (from tensorflow==2.12.0) (0.4.30)\n",
            "Requirement already satisfied: keras<2.13,>=2.12.0 in /usr/local/lib/python3.11/dist-packages (from tensorflow==2.12.0) (2.12.0)\n",
            "Requirement already satisfied: libclang>=13.0.0 in /usr/local/lib/python3.11/dist-packages (from tensorflow==2.12.0) (18.1.1)\n",
            "Requirement already satisfied: opt-einsum>=2.3.2 in /usr/local/lib/python3.11/dist-packages (from tensorflow==2.12.0) (3.4.0)\n",
            "Requirement already satisfied: packaging in /usr/local/lib/python3.11/dist-packages (from tensorflow==2.12.0) (24.2)\n",
            "Requirement already satisfied: protobuf!=4.21.0,!=4.21.1,!=4.21.2,!=4.21.3,!=4.21.4,!=4.21.5,<5.0.0dev,>=3.20.3 in /usr/local/lib/python3.11/dist-packages (from tensorflow==2.12.0) (4.25.6)\n",
            "Requirement already satisfied: setuptools in /usr/local/lib/python3.11/dist-packages (from tensorflow==2.12.0) (75.1.0)\n",
            "Requirement already satisfied: six>=1.12.0 in /usr/local/lib/python3.11/dist-packages (from tensorflow==2.12.0) (1.17.0)\n",
            "Requirement already satisfied: tensorboard<2.13,>=2.12 in /usr/local/lib/python3.11/dist-packages (from tensorflow==2.12.0) (2.12.3)\n",
            "Requirement already satisfied: tensorflow-estimator<2.13,>=2.12.0 in /usr/local/lib/python3.11/dist-packages (from tensorflow==2.12.0) (2.12.0)\n",
            "Requirement already satisfied: termcolor>=1.1.0 in /usr/local/lib/python3.11/dist-packages (from tensorflow==2.12.0) (2.5.0)\n",
            "Requirement already satisfied: typing-extensions>=3.6.6 in /usr/local/lib/python3.11/dist-packages (from tensorflow==2.12.0) (4.12.2)\n",
            "Requirement already satisfied: wrapt<1.15,>=1.11.0 in /usr/local/lib/python3.11/dist-packages (from tensorflow==2.12.0) (1.14.1)\n",
            "Requirement already satisfied: tensorflow-io-gcs-filesystem>=0.23.1 in /usr/local/lib/python3.11/dist-packages (from tensorflow==2.12.0) (0.37.1)\n",
            "Requirement already satisfied: wheel<1.0,>=0.23.0 in /usr/local/lib/python3.11/dist-packages (from astunparse>=1.6.0->tensorflow==2.12.0) (0.45.1)\n",
            "Requirement already satisfied: jaxlib<=0.4.30,>=0.4.27 in /usr/local/lib/python3.11/dist-packages (from jax>=0.3.15->tensorflow==2.12.0) (0.4.30)\n",
            "Requirement already satisfied: ml-dtypes>=0.2.0 in /usr/local/lib/python3.11/dist-packages (from jax>=0.3.15->tensorflow==2.12.0) (0.4.1)\n",
            "Requirement already satisfied: google-auth<3,>=1.6.3 in /usr/local/lib/python3.11/dist-packages (from tensorboard<2.13,>=2.12->tensorflow==2.12.0) (2.38.0)\n",
            "Requirement already satisfied: google-auth-oauthlib<1.1,>=0.5 in /usr/local/lib/python3.11/dist-packages (from tensorboard<2.13,>=2.12->tensorflow==2.12.0) (1.0.0)\n",
            "Requirement already satisfied: markdown>=2.6.8 in /usr/local/lib/python3.11/dist-packages (from tensorboard<2.13,>=2.12->tensorflow==2.12.0) (3.7)\n",
            "Requirement already satisfied: requests<3,>=2.21.0 in /usr/local/lib/python3.11/dist-packages (from tensorboard<2.13,>=2.12->tensorflow==2.12.0) (2.32.3)\n",
            "Requirement already satisfied: tensorboard-data-server<0.8.0,>=0.7.0 in /usr/local/lib/python3.11/dist-packages (from tensorboard<2.13,>=2.12->tensorflow==2.12.0) (0.7.2)\n",
            "Requirement already satisfied: werkzeug>=1.0.1 in /usr/local/lib/python3.11/dist-packages (from tensorboard<2.13,>=2.12->tensorflow==2.12.0) (3.1.3)\n",
            "Requirement already satisfied: cachetools<6.0,>=2.0.0 in /usr/local/lib/python3.11/dist-packages (from google-auth<3,>=1.6.3->tensorboard<2.13,>=2.12->tensorflow==2.12.0) (5.5.2)\n",
            "Requirement already satisfied: pyasn1-modules>=0.2.1 in /usr/local/lib/python3.11/dist-packages (from google-auth<3,>=1.6.3->tensorboard<2.13,>=2.12->tensorflow==2.12.0) (0.4.1)\n",
            "Requirement already satisfied: rsa<5,>=3.1.4 in /usr/local/lib/python3.11/dist-packages (from google-auth<3,>=1.6.3->tensorboard<2.13,>=2.12->tensorflow==2.12.0) (4.9)\n",
            "Requirement already satisfied: requests-oauthlib>=0.7.0 in /usr/local/lib/python3.11/dist-packages (from google-auth-oauthlib<1.1,>=0.5->tensorboard<2.13,>=2.12->tensorflow==2.12.0) (2.0.0)\n",
            "Requirement already satisfied: charset-normalizer<4,>=2 in /usr/local/lib/python3.11/dist-packages (from requests<3,>=2.21.0->tensorboard<2.13,>=2.12->tensorflow==2.12.0) (3.4.1)\n",
            "Requirement already satisfied: idna<4,>=2.5 in /usr/local/lib/python3.11/dist-packages (from requests<3,>=2.21.0->tensorboard<2.13,>=2.12->tensorflow==2.12.0) (3.10)\n",
            "Requirement already satisfied: urllib3<3,>=1.21.1 in /usr/local/lib/python3.11/dist-packages (from requests<3,>=2.21.0->tensorboard<2.13,>=2.12->tensorflow==2.12.0) (2.3.0)\n",
            "Requirement already satisfied: certifi>=2017.4.17 in /usr/local/lib/python3.11/dist-packages (from requests<3,>=2.21.0->tensorboard<2.13,>=2.12->tensorflow==2.12.0) (2025.1.31)\n",
            "Requirement already satisfied: MarkupSafe>=2.1.1 in /usr/local/lib/python3.11/dist-packages (from werkzeug>=1.0.1->tensorboard<2.13,>=2.12->tensorflow==2.12.0) (3.0.2)\n",
            "Requirement already satisfied: pyasn1<0.7.0,>=0.4.6 in /usr/local/lib/python3.11/dist-packages (from pyasn1-modules>=0.2.1->google-auth<3,>=1.6.3->tensorboard<2.13,>=2.12->tensorflow==2.12.0) (0.6.1)\n",
            "Requirement already satisfied: oauthlib>=3.0.0 in /usr/local/lib/python3.11/dist-packages (from requests-oauthlib>=0.7.0->google-auth-oauthlib<1.1,>=0.5->tensorboard<2.13,>=2.12->tensorflow==2.12.0) (3.2.2)\n",
            "Requirement already satisfied: tensorflow-addons in /usr/local/lib/python3.11/dist-packages (0.23.0)\n",
            "Requirement already satisfied: packaging in /usr/local/lib/python3.11/dist-packages (from tensorflow-addons) (24.2)\n",
            "Requirement already satisfied: typeguard<3.0.0,>=2.7 in /usr/local/lib/python3.11/dist-packages (from tensorflow-addons) (2.13.3)\n"
          ]
        }
      ],
      "source": [
        "# Install specific versions of libraries for compatibility\n",
        "!pip install -U numpy==1.23.5 pandas==1.5.3 scikit-learn==1.2.2 tensorflow==2.12.0\n",
        "!pip install tensorflow-addons\n"
      ]
    },
    {
      "cell_type": "markdown",
      "source": [
        "IMPORTING PYTHON LIBRARIES"
      ],
      "metadata": {
        "id": "v_4hfoMJ6nqF"
      }
    },
    {
      "cell_type": "code",
      "source": [
        "# Importing necessary libraries\n",
        "import numpy as np\n",
        "import pandas as pd\n",
        "import tensorflow as tf\n",
        "import sklearn\n",
        "import matplotlib.pyplot as plt\n"
      ],
      "metadata": {
        "id": "wDw6NGGxCZGo"
      },
      "execution_count": 142,
      "outputs": []
    },
    {
      "cell_type": "code",
      "source": [
        "# Importing NLP-related libraries\n",
        "import nltk\n",
        "import re\n",
        "from nltk.tokenize import word_tokenize\n",
        "from nltk.corpus import stopwords\n",
        "from nltk.stem import WordNetLemmatizer"
      ],
      "metadata": {
        "id": "34yNqNOtFZYv"
      },
      "execution_count": 143,
      "outputs": []
    },
    {
      "cell_type": "code",
      "source": [
        "#TensorFlow Addons\n",
        "import tensorflow_addons as tfa\n"
      ],
      "metadata": {
        "id": "wYfzZ50FKDr_"
      },
      "execution_count": 144,
      "outputs": []
    },
    {
      "cell_type": "markdown",
      "source": [
        "IMPORTING NECESSARY UTILITIES"
      ],
      "metadata": {
        "id": "_JzFnbQBblch"
      }
    },
    {
      "cell_type": "code",
      "source": [
        "## Importing preprocessing and feature engineering tool\n",
        "from sklearn.compose import ColumnTransformer\n",
        "from sklearn.preprocessing import OneHotEncoder\n",
        "from sklearn.preprocessing import StandardScaler\n",
        "from sklearn.model_selection import train_test_split\n",
        "from sklearn.feature_extraction.text import TfidfVectorizer"
      ],
      "metadata": {
        "id": "9KrDeQ33E-Rh"
      },
      "execution_count": 145,
      "outputs": []
    },
    {
      "cell_type": "code",
      "source": [
        "# Importing classification models from scikit-learn\n",
        "from sklearn.linear_model import LogisticRegression\n",
        "from sklearn.neighbors import KNeighborsClassifier\n",
        "from sklearn.svm import SVC\n",
        "from sklearn.naive_bayes import GaussianNB, MultinomialNB, ComplementNB, BernoulliNB\n",
        "from sklearn.tree import DecisionTreeClassifier\n",
        "from sklearn.ensemble import RandomForestClassifier\n",
        "from sklearn.ensemble import GradientBoostingClassifier\n",
        "from sklearn.ensemble import AdaBoostClassifier\n",
        "from sklearn.ensemble import ExtraTreesClassifier\n"
      ],
      "metadata": {
        "id": "Vj_VNNING1mb"
      },
      "execution_count": 146,
      "outputs": []
    },
    {
      "cell_type": "code",
      "source": [
        "from tensorflow.keras.models import Model\n",
        "from tensorflow.keras.layers import Input, Dense, Dropout, BatchNormalization\n",
        "\n",
        "from sklearn.decomposition import TruncatedSVD\n",
        "from tensorflow.keras.models import Sequential\n"
      ],
      "metadata": {
        "id": "2nvSIImNIfHZ"
      },
      "execution_count": 147,
      "outputs": []
    },
    {
      "cell_type": "code",
      "source": [
        "from sklearn.metrics import accuracy_score, precision_score, f1_score, recall_score, precision_recall_curve"
      ],
      "metadata": {
        "id": "m6bYhSXZHVFa"
      },
      "execution_count": 148,
      "outputs": []
    },
    {
      "cell_type": "markdown",
      "source": [
        "#Importing the data, data preprocessing and EDA"
      ],
      "metadata": {
        "id": "WTP2tCqFG7wq"
      }
    },
    {
      "source": [
        "df = pd.read_csv('political_social_media.csv', encoding='latin-1')\n",
        "# or 'cp1252', or any other encoding that might be used for the file"
      ],
      "cell_type": "code",
      "metadata": {
        "id": "mAmAokAlDf20"
      },
      "execution_count": 149,
      "outputs": []
    },
    {
      "cell_type": "code",
      "source": [
        "df.head(5)"
      ],
      "metadata": {
        "colab": {
          "base_uri": "https://localhost:8080/",
          "height": 486
        },
        "id": "OW-ywMs0Dhb6",
        "outputId": "07dd56b7-4e3c-4346-9a5b-13966fcb6cf5"
      },
      "execution_count": 150,
      "outputs": [
        {
          "output_type": "execute_result",
          "data": {
            "text/plain": [
              "    _unit_id  _golden _unit_state  _trusted_judgments _last_judgment_at  audience  audience:confidence      bias  bias:confidence  message  message:confidence  orig__golden  audience_gold  \\\n",
              "0  766192484    False   finalized                   1      8/4/15 21:17  national                  1.0  partisan              1.0   policy                 1.0           NaN            NaN   \n",
              "1  766192485    False   finalized                   1      8/4/15 21:20  national                  1.0  partisan              1.0   attack                 1.0           NaN            NaN   \n",
              "2  766192486    False   finalized                   1      8/4/15 21:14  national                  1.0   neutral              1.0  support                 1.0           NaN            NaN   \n",
              "3  766192487    False   finalized                   1      8/4/15 21:08  national                  1.0   neutral              1.0   policy                 1.0           NaN            NaN   \n",
              "4  766192488    False   finalized                   1      8/4/15 21:26  national                  1.0  partisan              1.0   policy                 1.0           NaN            NaN   \n",
              "\n",
              "   bias_gold    bioid                                              embed           id                                             label  message_gold   source  \\\n",
              "0        NaN  R000596  <blockquote class=\"twitter-tweet\" width=\"450\">...  3.83249E+17    From: Trey Radel (Representative from Florida)           NaN  twitter   \n",
              "1        NaN  M000355  <blockquote class=\"twitter-tweet\" width=\"450\">...  3.11208E+17     From: Mitch McConnell (Senator from Kentucky)           NaN  twitter   \n",
              "2        NaN  S001180  <blockquote class=\"twitter-tweet\" width=\"450\">...  3.39069E+17  From: Kurt Schrader (Representative from Oregon)           NaN  twitter   \n",
              "3        NaN  C000880  <blockquote class=\"twitter-tweet\" width=\"450\">...  2.98528E+17          From: Michael Crapo (Senator from Idaho)           NaN  twitter   \n",
              "4        NaN  U000038  <blockquote class=\"twitter-tweet\" width=\"450\">...  4.07643E+17          From: Mark Udall (Senator from Colorado)           NaN  twitter   \n",
              "\n",
              "                                                text  \n",
              "0  RT @nowthisnews: Rep. Trey Radel (R- #FL) slam...  \n",
              "1  VIDEO - #Obamacare:  Full of Higher Costs and ...  \n",
              "2  Please join me today in remembering our fallen...  \n",
              "3  RT @SenatorLeahy: 1st step toward Senate debat...  \n",
              "4  .@amazon delivery #drones show need to update ...  "
            ],
            "text/html": [
              "\n",
              "  <div id=\"df-93691e59-3bf6-4e2b-b06f-ddcc9ec4c183\" class=\"colab-df-container\">\n",
              "    <div>\n",
              "<style scoped>\n",
              "    .dataframe tbody tr th:only-of-type {\n",
              "        vertical-align: middle;\n",
              "    }\n",
              "\n",
              "    .dataframe tbody tr th {\n",
              "        vertical-align: top;\n",
              "    }\n",
              "\n",
              "    .dataframe thead th {\n",
              "        text-align: right;\n",
              "    }\n",
              "</style>\n",
              "<table border=\"1\" class=\"dataframe\">\n",
              "  <thead>\n",
              "    <tr style=\"text-align: right;\">\n",
              "      <th></th>\n",
              "      <th>_unit_id</th>\n",
              "      <th>_golden</th>\n",
              "      <th>_unit_state</th>\n",
              "      <th>_trusted_judgments</th>\n",
              "      <th>_last_judgment_at</th>\n",
              "      <th>audience</th>\n",
              "      <th>audience:confidence</th>\n",
              "      <th>bias</th>\n",
              "      <th>bias:confidence</th>\n",
              "      <th>message</th>\n",
              "      <th>message:confidence</th>\n",
              "      <th>orig__golden</th>\n",
              "      <th>audience_gold</th>\n",
              "      <th>bias_gold</th>\n",
              "      <th>bioid</th>\n",
              "      <th>embed</th>\n",
              "      <th>id</th>\n",
              "      <th>label</th>\n",
              "      <th>message_gold</th>\n",
              "      <th>source</th>\n",
              "      <th>text</th>\n",
              "    </tr>\n",
              "  </thead>\n",
              "  <tbody>\n",
              "    <tr>\n",
              "      <th>0</th>\n",
              "      <td>766192484</td>\n",
              "      <td>False</td>\n",
              "      <td>finalized</td>\n",
              "      <td>1</td>\n",
              "      <td>8/4/15 21:17</td>\n",
              "      <td>national</td>\n",
              "      <td>1.0</td>\n",
              "      <td>partisan</td>\n",
              "      <td>1.0</td>\n",
              "      <td>policy</td>\n",
              "      <td>1.0</td>\n",
              "      <td>NaN</td>\n",
              "      <td>NaN</td>\n",
              "      <td>NaN</td>\n",
              "      <td>R000596</td>\n",
              "      <td>&lt;blockquote class=\"twitter-tweet\" width=\"450\"&gt;...</td>\n",
              "      <td>3.83249E+17</td>\n",
              "      <td>From: Trey Radel (Representative from Florida)</td>\n",
              "      <td>NaN</td>\n",
              "      <td>twitter</td>\n",
              "      <td>RT @nowthisnews: Rep. Trey Radel (R- #FL) slam...</td>\n",
              "    </tr>\n",
              "    <tr>\n",
              "      <th>1</th>\n",
              "      <td>766192485</td>\n",
              "      <td>False</td>\n",
              "      <td>finalized</td>\n",
              "      <td>1</td>\n",
              "      <td>8/4/15 21:20</td>\n",
              "      <td>national</td>\n",
              "      <td>1.0</td>\n",
              "      <td>partisan</td>\n",
              "      <td>1.0</td>\n",
              "      <td>attack</td>\n",
              "      <td>1.0</td>\n",
              "      <td>NaN</td>\n",
              "      <td>NaN</td>\n",
              "      <td>NaN</td>\n",
              "      <td>M000355</td>\n",
              "      <td>&lt;blockquote class=\"twitter-tweet\" width=\"450\"&gt;...</td>\n",
              "      <td>3.11208E+17</td>\n",
              "      <td>From: Mitch McConnell (Senator from Kentucky)</td>\n",
              "      <td>NaN</td>\n",
              "      <td>twitter</td>\n",
              "      <td>VIDEO - #Obamacare:  Full of Higher Costs and ...</td>\n",
              "    </tr>\n",
              "    <tr>\n",
              "      <th>2</th>\n",
              "      <td>766192486</td>\n",
              "      <td>False</td>\n",
              "      <td>finalized</td>\n",
              "      <td>1</td>\n",
              "      <td>8/4/15 21:14</td>\n",
              "      <td>national</td>\n",
              "      <td>1.0</td>\n",
              "      <td>neutral</td>\n",
              "      <td>1.0</td>\n",
              "      <td>support</td>\n",
              "      <td>1.0</td>\n",
              "      <td>NaN</td>\n",
              "      <td>NaN</td>\n",
              "      <td>NaN</td>\n",
              "      <td>S001180</td>\n",
              "      <td>&lt;blockquote class=\"twitter-tweet\" width=\"450\"&gt;...</td>\n",
              "      <td>3.39069E+17</td>\n",
              "      <td>From: Kurt Schrader (Representative from Oregon)</td>\n",
              "      <td>NaN</td>\n",
              "      <td>twitter</td>\n",
              "      <td>Please join me today in remembering our fallen...</td>\n",
              "    </tr>\n",
              "    <tr>\n",
              "      <th>3</th>\n",
              "      <td>766192487</td>\n",
              "      <td>False</td>\n",
              "      <td>finalized</td>\n",
              "      <td>1</td>\n",
              "      <td>8/4/15 21:08</td>\n",
              "      <td>national</td>\n",
              "      <td>1.0</td>\n",
              "      <td>neutral</td>\n",
              "      <td>1.0</td>\n",
              "      <td>policy</td>\n",
              "      <td>1.0</td>\n",
              "      <td>NaN</td>\n",
              "      <td>NaN</td>\n",
              "      <td>NaN</td>\n",
              "      <td>C000880</td>\n",
              "      <td>&lt;blockquote class=\"twitter-tweet\" width=\"450\"&gt;...</td>\n",
              "      <td>2.98528E+17</td>\n",
              "      <td>From: Michael Crapo (Senator from Idaho)</td>\n",
              "      <td>NaN</td>\n",
              "      <td>twitter</td>\n",
              "      <td>RT @SenatorLeahy: 1st step toward Senate debat...</td>\n",
              "    </tr>\n",
              "    <tr>\n",
              "      <th>4</th>\n",
              "      <td>766192488</td>\n",
              "      <td>False</td>\n",
              "      <td>finalized</td>\n",
              "      <td>1</td>\n",
              "      <td>8/4/15 21:26</td>\n",
              "      <td>national</td>\n",
              "      <td>1.0</td>\n",
              "      <td>partisan</td>\n",
              "      <td>1.0</td>\n",
              "      <td>policy</td>\n",
              "      <td>1.0</td>\n",
              "      <td>NaN</td>\n",
              "      <td>NaN</td>\n",
              "      <td>NaN</td>\n",
              "      <td>U000038</td>\n",
              "      <td>&lt;blockquote class=\"twitter-tweet\" width=\"450\"&gt;...</td>\n",
              "      <td>4.07643E+17</td>\n",
              "      <td>From: Mark Udall (Senator from Colorado)</td>\n",
              "      <td>NaN</td>\n",
              "      <td>twitter</td>\n",
              "      <td>.@amazon delivery #drones show need to update ...</td>\n",
              "    </tr>\n",
              "  </tbody>\n",
              "</table>\n",
              "</div>\n",
              "    <div class=\"colab-df-buttons\">\n",
              "\n",
              "  <div class=\"colab-df-container\">\n",
              "    <button class=\"colab-df-convert\" onclick=\"convertToInteractive('df-93691e59-3bf6-4e2b-b06f-ddcc9ec4c183')\"\n",
              "            title=\"Convert this dataframe to an interactive table.\"\n",
              "            style=\"display:none;\">\n",
              "\n",
              "  <svg xmlns=\"http://www.w3.org/2000/svg\" height=\"24px\" viewBox=\"0 -960 960 960\">\n",
              "    <path d=\"M120-120v-720h720v720H120Zm60-500h600v-160H180v160Zm220 220h160v-160H400v160Zm0 220h160v-160H400v160ZM180-400h160v-160H180v160Zm440 0h160v-160H620v160ZM180-180h160v-160H180v160Zm440 0h160v-160H620v160Z\"/>\n",
              "  </svg>\n",
              "    </button>\n",
              "\n",
              "  <style>\n",
              "    .colab-df-container {\n",
              "      display:flex;\n",
              "      gap: 12px;\n",
              "    }\n",
              "\n",
              "    .colab-df-convert {\n",
              "      background-color: #E8F0FE;\n",
              "      border: none;\n",
              "      border-radius: 50%;\n",
              "      cursor: pointer;\n",
              "      display: none;\n",
              "      fill: #1967D2;\n",
              "      height: 32px;\n",
              "      padding: 0 0 0 0;\n",
              "      width: 32px;\n",
              "    }\n",
              "\n",
              "    .colab-df-convert:hover {\n",
              "      background-color: #E2EBFA;\n",
              "      box-shadow: 0px 1px 2px rgba(60, 64, 67, 0.3), 0px 1px 3px 1px rgba(60, 64, 67, 0.15);\n",
              "      fill: #174EA6;\n",
              "    }\n",
              "\n",
              "    .colab-df-buttons div {\n",
              "      margin-bottom: 4px;\n",
              "    }\n",
              "\n",
              "    [theme=dark] .colab-df-convert {\n",
              "      background-color: #3B4455;\n",
              "      fill: #D2E3FC;\n",
              "    }\n",
              "\n",
              "    [theme=dark] .colab-df-convert:hover {\n",
              "      background-color: #434B5C;\n",
              "      box-shadow: 0px 1px 3px 1px rgba(0, 0, 0, 0.15);\n",
              "      filter: drop-shadow(0px 1px 2px rgba(0, 0, 0, 0.3));\n",
              "      fill: #FFFFFF;\n",
              "    }\n",
              "  </style>\n",
              "\n",
              "    <script>\n",
              "      const buttonEl =\n",
              "        document.querySelector('#df-93691e59-3bf6-4e2b-b06f-ddcc9ec4c183 button.colab-df-convert');\n",
              "      buttonEl.style.display =\n",
              "        google.colab.kernel.accessAllowed ? 'block' : 'none';\n",
              "\n",
              "      async function convertToInteractive(key) {\n",
              "        const element = document.querySelector('#df-93691e59-3bf6-4e2b-b06f-ddcc9ec4c183');\n",
              "        const dataTable =\n",
              "          await google.colab.kernel.invokeFunction('convertToInteractive',\n",
              "                                                    [key], {});\n",
              "        if (!dataTable) return;\n",
              "\n",
              "        const docLinkHtml = 'Like what you see? Visit the ' +\n",
              "          '<a target=\"_blank\" href=https://colab.research.google.com/notebooks/data_table.ipynb>data table notebook</a>'\n",
              "          + ' to learn more about interactive tables.';\n",
              "        element.innerHTML = '';\n",
              "        dataTable['output_type'] = 'display_data';\n",
              "        await google.colab.output.renderOutput(dataTable, element);\n",
              "        const docLink = document.createElement('div');\n",
              "        docLink.innerHTML = docLinkHtml;\n",
              "        element.appendChild(docLink);\n",
              "      }\n",
              "    </script>\n",
              "  </div>\n",
              "\n",
              "\n",
              "<div id=\"df-12768b0f-3f8b-45de-ae79-a824791b0b68\">\n",
              "  <button class=\"colab-df-quickchart\" onclick=\"quickchart('df-12768b0f-3f8b-45de-ae79-a824791b0b68')\"\n",
              "            title=\"Suggest charts\"\n",
              "            style=\"display:none;\">\n",
              "\n",
              "<svg xmlns=\"http://www.w3.org/2000/svg\" height=\"24px\"viewBox=\"0 0 24 24\"\n",
              "     width=\"24px\">\n",
              "    <g>\n",
              "        <path d=\"M19 3H5c-1.1 0-2 .9-2 2v14c0 1.1.9 2 2 2h14c1.1 0 2-.9 2-2V5c0-1.1-.9-2-2-2zM9 17H7v-7h2v7zm4 0h-2V7h2v10zm4 0h-2v-4h2v4z\"/>\n",
              "    </g>\n",
              "</svg>\n",
              "  </button>\n",
              "\n",
              "<style>\n",
              "  .colab-df-quickchart {\n",
              "      --bg-color: #E8F0FE;\n",
              "      --fill-color: #1967D2;\n",
              "      --hover-bg-color: #E2EBFA;\n",
              "      --hover-fill-color: #174EA6;\n",
              "      --disabled-fill-color: #AAA;\n",
              "      --disabled-bg-color: #DDD;\n",
              "  }\n",
              "\n",
              "  [theme=dark] .colab-df-quickchart {\n",
              "      --bg-color: #3B4455;\n",
              "      --fill-color: #D2E3FC;\n",
              "      --hover-bg-color: #434B5C;\n",
              "      --hover-fill-color: #FFFFFF;\n",
              "      --disabled-bg-color: #3B4455;\n",
              "      --disabled-fill-color: #666;\n",
              "  }\n",
              "\n",
              "  .colab-df-quickchart {\n",
              "    background-color: var(--bg-color);\n",
              "    border: none;\n",
              "    border-radius: 50%;\n",
              "    cursor: pointer;\n",
              "    display: none;\n",
              "    fill: var(--fill-color);\n",
              "    height: 32px;\n",
              "    padding: 0;\n",
              "    width: 32px;\n",
              "  }\n",
              "\n",
              "  .colab-df-quickchart:hover {\n",
              "    background-color: var(--hover-bg-color);\n",
              "    box-shadow: 0 1px 2px rgba(60, 64, 67, 0.3), 0 1px 3px 1px rgba(60, 64, 67, 0.15);\n",
              "    fill: var(--button-hover-fill-color);\n",
              "  }\n",
              "\n",
              "  .colab-df-quickchart-complete:disabled,\n",
              "  .colab-df-quickchart-complete:disabled:hover {\n",
              "    background-color: var(--disabled-bg-color);\n",
              "    fill: var(--disabled-fill-color);\n",
              "    box-shadow: none;\n",
              "  }\n",
              "\n",
              "  .colab-df-spinner {\n",
              "    border: 2px solid var(--fill-color);\n",
              "    border-color: transparent;\n",
              "    border-bottom-color: var(--fill-color);\n",
              "    animation:\n",
              "      spin 1s steps(1) infinite;\n",
              "  }\n",
              "\n",
              "  @keyframes spin {\n",
              "    0% {\n",
              "      border-color: transparent;\n",
              "      border-bottom-color: var(--fill-color);\n",
              "      border-left-color: var(--fill-color);\n",
              "    }\n",
              "    20% {\n",
              "      border-color: transparent;\n",
              "      border-left-color: var(--fill-color);\n",
              "      border-top-color: var(--fill-color);\n",
              "    }\n",
              "    30% {\n",
              "      border-color: transparent;\n",
              "      border-left-color: var(--fill-color);\n",
              "      border-top-color: var(--fill-color);\n",
              "      border-right-color: var(--fill-color);\n",
              "    }\n",
              "    40% {\n",
              "      border-color: transparent;\n",
              "      border-right-color: var(--fill-color);\n",
              "      border-top-color: var(--fill-color);\n",
              "    }\n",
              "    60% {\n",
              "      border-color: transparent;\n",
              "      border-right-color: var(--fill-color);\n",
              "    }\n",
              "    80% {\n",
              "      border-color: transparent;\n",
              "      border-right-color: var(--fill-color);\n",
              "      border-bottom-color: var(--fill-color);\n",
              "    }\n",
              "    90% {\n",
              "      border-color: transparent;\n",
              "      border-bottom-color: var(--fill-color);\n",
              "    }\n",
              "  }\n",
              "</style>\n",
              "\n",
              "  <script>\n",
              "    async function quickchart(key) {\n",
              "      const quickchartButtonEl =\n",
              "        document.querySelector('#' + key + ' button');\n",
              "      quickchartButtonEl.disabled = true;  // To prevent multiple clicks.\n",
              "      quickchartButtonEl.classList.add('colab-df-spinner');\n",
              "      try {\n",
              "        const charts = await google.colab.kernel.invokeFunction(\n",
              "            'suggestCharts', [key], {});\n",
              "      } catch (error) {\n",
              "        console.error('Error during call to suggestCharts:', error);\n",
              "      }\n",
              "      quickchartButtonEl.classList.remove('colab-df-spinner');\n",
              "      quickchartButtonEl.classList.add('colab-df-quickchart-complete');\n",
              "    }\n",
              "    (() => {\n",
              "      let quickchartButtonEl =\n",
              "        document.querySelector('#df-12768b0f-3f8b-45de-ae79-a824791b0b68 button');\n",
              "      quickchartButtonEl.style.display =\n",
              "        google.colab.kernel.accessAllowed ? 'block' : 'none';\n",
              "    })();\n",
              "  </script>\n",
              "</div>\n",
              "\n",
              "    </div>\n",
              "  </div>\n"
            ],
            "application/vnd.google.colaboratory.intrinsic+json": {
              "type": "dataframe",
              "variable_name": "df"
            }
          },
          "metadata": {},
          "execution_count": 150
        }
      ]
    },
    {
      "cell_type": "code",
      "source": [
        "df.describe()"
      ],
      "metadata": {
        "colab": {
          "base_uri": "https://localhost:8080/",
          "height": 300
        },
        "id": "EQGE0Y70DmSJ",
        "outputId": "e1f6506c-fb0d-4ccb-c003-4b51dab08737"
      },
      "execution_count": 151,
      "outputs": [
        {
          "output_type": "execute_result",
          "data": {
            "text/plain": [
              "           _unit_id  _trusted_judgments  audience:confidence  bias:confidence  message:confidence  orig__golden  audience_gold  bias_gold  message_gold\n",
              "count  5.000000e+03          5000.00000          5000.000000      5000.000000         5000.000000           0.0            0.0        0.0           0.0\n",
              "mean   7.661950e+08             1.03280             0.995253         0.993903            0.996215           NaN            NaN        NaN           NaN\n",
              "std    1.444060e+03             0.18366             0.046920         0.053241            0.041798           NaN            NaN        NaN           NaN\n",
              "min    7.661925e+08             1.00000             0.505500         0.502000            0.502000           NaN            NaN        NaN           NaN\n",
              "25%    7.661937e+08             1.00000             1.000000         1.000000            1.000000           NaN            NaN        NaN           NaN\n",
              "50%    7.661950e+08             1.00000             1.000000         1.000000            1.000000           NaN            NaN        NaN           NaN\n",
              "75%    7.661962e+08             1.00000             1.000000         1.000000            1.000000           NaN            NaN        NaN           NaN\n",
              "max    7.661975e+08             3.00000             1.000000         1.000000            1.000000           NaN            NaN        NaN           NaN"
            ],
            "text/html": [
              "\n",
              "  <div id=\"df-6c4df514-df18-4525-a548-1b66660547ea\" class=\"colab-df-container\">\n",
              "    <div>\n",
              "<style scoped>\n",
              "    .dataframe tbody tr th:only-of-type {\n",
              "        vertical-align: middle;\n",
              "    }\n",
              "\n",
              "    .dataframe tbody tr th {\n",
              "        vertical-align: top;\n",
              "    }\n",
              "\n",
              "    .dataframe thead th {\n",
              "        text-align: right;\n",
              "    }\n",
              "</style>\n",
              "<table border=\"1\" class=\"dataframe\">\n",
              "  <thead>\n",
              "    <tr style=\"text-align: right;\">\n",
              "      <th></th>\n",
              "      <th>_unit_id</th>\n",
              "      <th>_trusted_judgments</th>\n",
              "      <th>audience:confidence</th>\n",
              "      <th>bias:confidence</th>\n",
              "      <th>message:confidence</th>\n",
              "      <th>orig__golden</th>\n",
              "      <th>audience_gold</th>\n",
              "      <th>bias_gold</th>\n",
              "      <th>message_gold</th>\n",
              "    </tr>\n",
              "  </thead>\n",
              "  <tbody>\n",
              "    <tr>\n",
              "      <th>count</th>\n",
              "      <td>5.000000e+03</td>\n",
              "      <td>5000.00000</td>\n",
              "      <td>5000.000000</td>\n",
              "      <td>5000.000000</td>\n",
              "      <td>5000.000000</td>\n",
              "      <td>0.0</td>\n",
              "      <td>0.0</td>\n",
              "      <td>0.0</td>\n",
              "      <td>0.0</td>\n",
              "    </tr>\n",
              "    <tr>\n",
              "      <th>mean</th>\n",
              "      <td>7.661950e+08</td>\n",
              "      <td>1.03280</td>\n",
              "      <td>0.995253</td>\n",
              "      <td>0.993903</td>\n",
              "      <td>0.996215</td>\n",
              "      <td>NaN</td>\n",
              "      <td>NaN</td>\n",
              "      <td>NaN</td>\n",
              "      <td>NaN</td>\n",
              "    </tr>\n",
              "    <tr>\n",
              "      <th>std</th>\n",
              "      <td>1.444060e+03</td>\n",
              "      <td>0.18366</td>\n",
              "      <td>0.046920</td>\n",
              "      <td>0.053241</td>\n",
              "      <td>0.041798</td>\n",
              "      <td>NaN</td>\n",
              "      <td>NaN</td>\n",
              "      <td>NaN</td>\n",
              "      <td>NaN</td>\n",
              "    </tr>\n",
              "    <tr>\n",
              "      <th>min</th>\n",
              "      <td>7.661925e+08</td>\n",
              "      <td>1.00000</td>\n",
              "      <td>0.505500</td>\n",
              "      <td>0.502000</td>\n",
              "      <td>0.502000</td>\n",
              "      <td>NaN</td>\n",
              "      <td>NaN</td>\n",
              "      <td>NaN</td>\n",
              "      <td>NaN</td>\n",
              "    </tr>\n",
              "    <tr>\n",
              "      <th>25%</th>\n",
              "      <td>7.661937e+08</td>\n",
              "      <td>1.00000</td>\n",
              "      <td>1.000000</td>\n",
              "      <td>1.000000</td>\n",
              "      <td>1.000000</td>\n",
              "      <td>NaN</td>\n",
              "      <td>NaN</td>\n",
              "      <td>NaN</td>\n",
              "      <td>NaN</td>\n",
              "    </tr>\n",
              "    <tr>\n",
              "      <th>50%</th>\n",
              "      <td>7.661950e+08</td>\n",
              "      <td>1.00000</td>\n",
              "      <td>1.000000</td>\n",
              "      <td>1.000000</td>\n",
              "      <td>1.000000</td>\n",
              "      <td>NaN</td>\n",
              "      <td>NaN</td>\n",
              "      <td>NaN</td>\n",
              "      <td>NaN</td>\n",
              "    </tr>\n",
              "    <tr>\n",
              "      <th>75%</th>\n",
              "      <td>7.661962e+08</td>\n",
              "      <td>1.00000</td>\n",
              "      <td>1.000000</td>\n",
              "      <td>1.000000</td>\n",
              "      <td>1.000000</td>\n",
              "      <td>NaN</td>\n",
              "      <td>NaN</td>\n",
              "      <td>NaN</td>\n",
              "      <td>NaN</td>\n",
              "    </tr>\n",
              "    <tr>\n",
              "      <th>max</th>\n",
              "      <td>7.661975e+08</td>\n",
              "      <td>3.00000</td>\n",
              "      <td>1.000000</td>\n",
              "      <td>1.000000</td>\n",
              "      <td>1.000000</td>\n",
              "      <td>NaN</td>\n",
              "      <td>NaN</td>\n",
              "      <td>NaN</td>\n",
              "      <td>NaN</td>\n",
              "    </tr>\n",
              "  </tbody>\n",
              "</table>\n",
              "</div>\n",
              "    <div class=\"colab-df-buttons\">\n",
              "\n",
              "  <div class=\"colab-df-container\">\n",
              "    <button class=\"colab-df-convert\" onclick=\"convertToInteractive('df-6c4df514-df18-4525-a548-1b66660547ea')\"\n",
              "            title=\"Convert this dataframe to an interactive table.\"\n",
              "            style=\"display:none;\">\n",
              "\n",
              "  <svg xmlns=\"http://www.w3.org/2000/svg\" height=\"24px\" viewBox=\"0 -960 960 960\">\n",
              "    <path d=\"M120-120v-720h720v720H120Zm60-500h600v-160H180v160Zm220 220h160v-160H400v160Zm0 220h160v-160H400v160ZM180-400h160v-160H180v160Zm440 0h160v-160H620v160ZM180-180h160v-160H180v160Zm440 0h160v-160H620v160Z\"/>\n",
              "  </svg>\n",
              "    </button>\n",
              "\n",
              "  <style>\n",
              "    .colab-df-container {\n",
              "      display:flex;\n",
              "      gap: 12px;\n",
              "    }\n",
              "\n",
              "    .colab-df-convert {\n",
              "      background-color: #E8F0FE;\n",
              "      border: none;\n",
              "      border-radius: 50%;\n",
              "      cursor: pointer;\n",
              "      display: none;\n",
              "      fill: #1967D2;\n",
              "      height: 32px;\n",
              "      padding: 0 0 0 0;\n",
              "      width: 32px;\n",
              "    }\n",
              "\n",
              "    .colab-df-convert:hover {\n",
              "      background-color: #E2EBFA;\n",
              "      box-shadow: 0px 1px 2px rgba(60, 64, 67, 0.3), 0px 1px 3px 1px rgba(60, 64, 67, 0.15);\n",
              "      fill: #174EA6;\n",
              "    }\n",
              "\n",
              "    .colab-df-buttons div {\n",
              "      margin-bottom: 4px;\n",
              "    }\n",
              "\n",
              "    [theme=dark] .colab-df-convert {\n",
              "      background-color: #3B4455;\n",
              "      fill: #D2E3FC;\n",
              "    }\n",
              "\n",
              "    [theme=dark] .colab-df-convert:hover {\n",
              "      background-color: #434B5C;\n",
              "      box-shadow: 0px 1px 3px 1px rgba(0, 0, 0, 0.15);\n",
              "      filter: drop-shadow(0px 1px 2px rgba(0, 0, 0, 0.3));\n",
              "      fill: #FFFFFF;\n",
              "    }\n",
              "  </style>\n",
              "\n",
              "    <script>\n",
              "      const buttonEl =\n",
              "        document.querySelector('#df-6c4df514-df18-4525-a548-1b66660547ea button.colab-df-convert');\n",
              "      buttonEl.style.display =\n",
              "        google.colab.kernel.accessAllowed ? 'block' : 'none';\n",
              "\n",
              "      async function convertToInteractive(key) {\n",
              "        const element = document.querySelector('#df-6c4df514-df18-4525-a548-1b66660547ea');\n",
              "        const dataTable =\n",
              "          await google.colab.kernel.invokeFunction('convertToInteractive',\n",
              "                                                    [key], {});\n",
              "        if (!dataTable) return;\n",
              "\n",
              "        const docLinkHtml = 'Like what you see? Visit the ' +\n",
              "          '<a target=\"_blank\" href=https://colab.research.google.com/notebooks/data_table.ipynb>data table notebook</a>'\n",
              "          + ' to learn more about interactive tables.';\n",
              "        element.innerHTML = '';\n",
              "        dataTable['output_type'] = 'display_data';\n",
              "        await google.colab.output.renderOutput(dataTable, element);\n",
              "        const docLink = document.createElement('div');\n",
              "        docLink.innerHTML = docLinkHtml;\n",
              "        element.appendChild(docLink);\n",
              "      }\n",
              "    </script>\n",
              "  </div>\n",
              "\n",
              "\n",
              "<div id=\"df-51a23af6-b89e-4550-b4f2-598cc1c1d3b2\">\n",
              "  <button class=\"colab-df-quickchart\" onclick=\"quickchart('df-51a23af6-b89e-4550-b4f2-598cc1c1d3b2')\"\n",
              "            title=\"Suggest charts\"\n",
              "            style=\"display:none;\">\n",
              "\n",
              "<svg xmlns=\"http://www.w3.org/2000/svg\" height=\"24px\"viewBox=\"0 0 24 24\"\n",
              "     width=\"24px\">\n",
              "    <g>\n",
              "        <path d=\"M19 3H5c-1.1 0-2 .9-2 2v14c0 1.1.9 2 2 2h14c1.1 0 2-.9 2-2V5c0-1.1-.9-2-2-2zM9 17H7v-7h2v7zm4 0h-2V7h2v10zm4 0h-2v-4h2v4z\"/>\n",
              "    </g>\n",
              "</svg>\n",
              "  </button>\n",
              "\n",
              "<style>\n",
              "  .colab-df-quickchart {\n",
              "      --bg-color: #E8F0FE;\n",
              "      --fill-color: #1967D2;\n",
              "      --hover-bg-color: #E2EBFA;\n",
              "      --hover-fill-color: #174EA6;\n",
              "      --disabled-fill-color: #AAA;\n",
              "      --disabled-bg-color: #DDD;\n",
              "  }\n",
              "\n",
              "  [theme=dark] .colab-df-quickchart {\n",
              "      --bg-color: #3B4455;\n",
              "      --fill-color: #D2E3FC;\n",
              "      --hover-bg-color: #434B5C;\n",
              "      --hover-fill-color: #FFFFFF;\n",
              "      --disabled-bg-color: #3B4455;\n",
              "      --disabled-fill-color: #666;\n",
              "  }\n",
              "\n",
              "  .colab-df-quickchart {\n",
              "    background-color: var(--bg-color);\n",
              "    border: none;\n",
              "    border-radius: 50%;\n",
              "    cursor: pointer;\n",
              "    display: none;\n",
              "    fill: var(--fill-color);\n",
              "    height: 32px;\n",
              "    padding: 0;\n",
              "    width: 32px;\n",
              "  }\n",
              "\n",
              "  .colab-df-quickchart:hover {\n",
              "    background-color: var(--hover-bg-color);\n",
              "    box-shadow: 0 1px 2px rgba(60, 64, 67, 0.3), 0 1px 3px 1px rgba(60, 64, 67, 0.15);\n",
              "    fill: var(--button-hover-fill-color);\n",
              "  }\n",
              "\n",
              "  .colab-df-quickchart-complete:disabled,\n",
              "  .colab-df-quickchart-complete:disabled:hover {\n",
              "    background-color: var(--disabled-bg-color);\n",
              "    fill: var(--disabled-fill-color);\n",
              "    box-shadow: none;\n",
              "  }\n",
              "\n",
              "  .colab-df-spinner {\n",
              "    border: 2px solid var(--fill-color);\n",
              "    border-color: transparent;\n",
              "    border-bottom-color: var(--fill-color);\n",
              "    animation:\n",
              "      spin 1s steps(1) infinite;\n",
              "  }\n",
              "\n",
              "  @keyframes spin {\n",
              "    0% {\n",
              "      border-color: transparent;\n",
              "      border-bottom-color: var(--fill-color);\n",
              "      border-left-color: var(--fill-color);\n",
              "    }\n",
              "    20% {\n",
              "      border-color: transparent;\n",
              "      border-left-color: var(--fill-color);\n",
              "      border-top-color: var(--fill-color);\n",
              "    }\n",
              "    30% {\n",
              "      border-color: transparent;\n",
              "      border-left-color: var(--fill-color);\n",
              "      border-top-color: var(--fill-color);\n",
              "      border-right-color: var(--fill-color);\n",
              "    }\n",
              "    40% {\n",
              "      border-color: transparent;\n",
              "      border-right-color: var(--fill-color);\n",
              "      border-top-color: var(--fill-color);\n",
              "    }\n",
              "    60% {\n",
              "      border-color: transparent;\n",
              "      border-right-color: var(--fill-color);\n",
              "    }\n",
              "    80% {\n",
              "      border-color: transparent;\n",
              "      border-right-color: var(--fill-color);\n",
              "      border-bottom-color: var(--fill-color);\n",
              "    }\n",
              "    90% {\n",
              "      border-color: transparent;\n",
              "      border-bottom-color: var(--fill-color);\n",
              "    }\n",
              "  }\n",
              "</style>\n",
              "\n",
              "  <script>\n",
              "    async function quickchart(key) {\n",
              "      const quickchartButtonEl =\n",
              "        document.querySelector('#' + key + ' button');\n",
              "      quickchartButtonEl.disabled = true;  // To prevent multiple clicks.\n",
              "      quickchartButtonEl.classList.add('colab-df-spinner');\n",
              "      try {\n",
              "        const charts = await google.colab.kernel.invokeFunction(\n",
              "            'suggestCharts', [key], {});\n",
              "      } catch (error) {\n",
              "        console.error('Error during call to suggestCharts:', error);\n",
              "      }\n",
              "      quickchartButtonEl.classList.remove('colab-df-spinner');\n",
              "      quickchartButtonEl.classList.add('colab-df-quickchart-complete');\n",
              "    }\n",
              "    (() => {\n",
              "      let quickchartButtonEl =\n",
              "        document.querySelector('#df-51a23af6-b89e-4550-b4f2-598cc1c1d3b2 button');\n",
              "      quickchartButtonEl.style.display =\n",
              "        google.colab.kernel.accessAllowed ? 'block' : 'none';\n",
              "    })();\n",
              "  </script>\n",
              "</div>\n",
              "\n",
              "    </div>\n",
              "  </div>\n"
            ],
            "application/vnd.google.colaboratory.intrinsic+json": {
              "type": "dataframe",
              "summary": "{\n  \"name\": \"df\",\n  \"rows\": 8,\n  \"fields\": [\n    {\n      \"column\": \"_unit_id\",\n      \"properties\": {\n        \"dtype\": \"number\",\n        \"std\": 354677867.2742857,\n        \"min\": 1444.0597965940694,\n        \"max\": 766197486.0,\n        \"num_unique_values\": 8,\n        \"samples\": [\n          766194985.16,\n          766194985.5,\n          5000.0\n        ],\n        \"semantic_type\": \"\",\n        \"description\": \"\"\n      }\n    },\n    {\n      \"column\": \"_trusted_judgments\",\n      \"properties\": {\n        \"dtype\": \"number\",\n        \"std\": 1767.3521391753852,\n        \"min\": 0.18365975656423744,\n        \"max\": 5000.0,\n        \"num_unique_values\": 5,\n        \"samples\": [\n          1.0328,\n          3.0,\n          0.18365975656423744\n        ],\n        \"semantic_type\": \"\",\n        \"description\": \"\"\n      }\n    },\n    {\n      \"column\": \"audience:confidence\",\n      \"properties\": {\n        \"dtype\": \"number\",\n        \"std\": 1767.4867875969833,\n        \"min\": 0.04691997307518403,\n        \"max\": 5000.0,\n        \"num_unique_values\": 5,\n        \"samples\": [\n          0.9952527199999999,\n          1.0,\n          0.04691997307518403\n        ],\n        \"semantic_type\": \"\",\n        \"description\": \"\"\n      }\n    },\n    {\n      \"column\": \"bias:confidence\",\n      \"properties\": {\n        \"dtype\": \"number\",\n        \"std\": 1767.4867129760607,\n        \"min\": 0.05324082291139647,\n        \"max\": 5000.0,\n        \"num_unique_values\": 5,\n        \"samples\": [\n          0.9939029600000001,\n          1.0,\n          0.05324082291139647\n        ],\n        \"semantic_type\": \"\",\n        \"description\": \"\"\n      }\n    },\n    {\n      \"column\": \"message:confidence\",\n      \"properties\": {\n        \"dtype\": \"number\",\n        \"std\": 1767.4871748542757,\n        \"min\": 0.04179818549643197,\n        \"max\": 5000.0,\n        \"num_unique_values\": 5,\n        \"samples\": [\n          0.9962152599999999,\n          1.0,\n          0.04179818549643197\n        ],\n        \"semantic_type\": \"\",\n        \"description\": \"\"\n      }\n    },\n    {\n      \"column\": \"orig__golden\",\n      \"properties\": {\n        \"dtype\": \"number\",\n        \"std\": null,\n        \"min\": 0.0,\n        \"max\": 0.0,\n        \"num_unique_values\": 1,\n        \"samples\": [\n          0.0\n        ],\n        \"semantic_type\": \"\",\n        \"description\": \"\"\n      }\n    },\n    {\n      \"column\": \"audience_gold\",\n      \"properties\": {\n        \"dtype\": \"number\",\n        \"std\": null,\n        \"min\": 0.0,\n        \"max\": 0.0,\n        \"num_unique_values\": 1,\n        \"samples\": [\n          0.0\n        ],\n        \"semantic_type\": \"\",\n        \"description\": \"\"\n      }\n    },\n    {\n      \"column\": \"bias_gold\",\n      \"properties\": {\n        \"dtype\": \"number\",\n        \"std\": null,\n        \"min\": 0.0,\n        \"max\": 0.0,\n        \"num_unique_values\": 1,\n        \"samples\": [\n          0.0\n        ],\n        \"semantic_type\": \"\",\n        \"description\": \"\"\n      }\n    },\n    {\n      \"column\": \"message_gold\",\n      \"properties\": {\n        \"dtype\": \"number\",\n        \"std\": null,\n        \"min\": 0.0,\n        \"max\": 0.0,\n        \"num_unique_values\": 1,\n        \"samples\": [\n          0.0\n        ],\n        \"semantic_type\": \"\",\n        \"description\": \"\"\n      }\n    }\n  ]\n}"
            }
          },
          "metadata": {},
          "execution_count": 151
        }
      ]
    },
    {
      "cell_type": "code",
      "source": [
        "df.info()"
      ],
      "metadata": {
        "colab": {
          "base_uri": "https://localhost:8080/"
        },
        "id": "S0eq-pi-DoV1",
        "outputId": "d2b9ae90-ab1f-4ea1-fcc8-f546d1312435"
      },
      "execution_count": 152,
      "outputs": [
        {
          "output_type": "stream",
          "name": "stdout",
          "text": [
            "<class 'pandas.core.frame.DataFrame'>\n",
            "RangeIndex: 5000 entries, 0 to 4999\n",
            "Data columns (total 21 columns):\n",
            " #   Column               Non-Null Count  Dtype  \n",
            "---  ------               --------------  -----  \n",
            " 0   _unit_id             5000 non-null   int64  \n",
            " 1   _golden              5000 non-null   bool   \n",
            " 2   _unit_state          5000 non-null   object \n",
            " 3   _trusted_judgments   5000 non-null   int64  \n",
            " 4   _last_judgment_at    5000 non-null   object \n",
            " 5   audience             5000 non-null   object \n",
            " 6   audience:confidence  5000 non-null   float64\n",
            " 7   bias                 5000 non-null   object \n",
            " 8   bias:confidence      5000 non-null   float64\n",
            " 9   message              5000 non-null   object \n",
            " 10  message:confidence   5000 non-null   float64\n",
            " 11  orig__golden         0 non-null      float64\n",
            " 12  audience_gold        0 non-null      float64\n",
            " 13  bias_gold            0 non-null      float64\n",
            " 14  bioid                5000 non-null   object \n",
            " 15  embed                5000 non-null   object \n",
            " 16  id                   5000 non-null   object \n",
            " 17  label                5000 non-null   object \n",
            " 18  message_gold         0 non-null      float64\n",
            " 19  source               5000 non-null   object \n",
            " 20  text                 5000 non-null   object \n",
            "dtypes: bool(1), float64(7), int64(2), object(11)\n",
            "memory usage: 786.3+ KB\n"
          ]
        }
      ]
    },
    {
      "cell_type": "code",
      "source": [
        "df.isnull().sum()"
      ],
      "metadata": {
        "colab": {
          "base_uri": "https://localhost:8080/",
          "height": 742
        },
        "id": "OVmZDtRvDp83",
        "outputId": "ffffc23e-0426-4fd9-8b69-924cc0f961ef"
      },
      "execution_count": 153,
      "outputs": [
        {
          "output_type": "execute_result",
          "data": {
            "text/plain": [
              "_unit_id                  0\n",
              "_golden                   0\n",
              "_unit_state               0\n",
              "_trusted_judgments        0\n",
              "_last_judgment_at         0\n",
              "audience                  0\n",
              "audience:confidence       0\n",
              "bias                      0\n",
              "bias:confidence           0\n",
              "message                   0\n",
              "message:confidence        0\n",
              "orig__golden           5000\n",
              "audience_gold          5000\n",
              "bias_gold              5000\n",
              "bioid                     0\n",
              "embed                     0\n",
              "id                        0\n",
              "label                     0\n",
              "message_gold           5000\n",
              "source                    0\n",
              "text                      0\n",
              "dtype: int64"
            ],
            "text/html": [
              "<div>\n",
              "<style scoped>\n",
              "    .dataframe tbody tr th:only-of-type {\n",
              "        vertical-align: middle;\n",
              "    }\n",
              "\n",
              "    .dataframe tbody tr th {\n",
              "        vertical-align: top;\n",
              "    }\n",
              "\n",
              "    .dataframe thead th {\n",
              "        text-align: right;\n",
              "    }\n",
              "</style>\n",
              "<table border=\"1\" class=\"dataframe\">\n",
              "  <thead>\n",
              "    <tr style=\"text-align: right;\">\n",
              "      <th></th>\n",
              "      <th>0</th>\n",
              "    </tr>\n",
              "  </thead>\n",
              "  <tbody>\n",
              "    <tr>\n",
              "      <th>_unit_id</th>\n",
              "      <td>0</td>\n",
              "    </tr>\n",
              "    <tr>\n",
              "      <th>_golden</th>\n",
              "      <td>0</td>\n",
              "    </tr>\n",
              "    <tr>\n",
              "      <th>_unit_state</th>\n",
              "      <td>0</td>\n",
              "    </tr>\n",
              "    <tr>\n",
              "      <th>_trusted_judgments</th>\n",
              "      <td>0</td>\n",
              "    </tr>\n",
              "    <tr>\n",
              "      <th>_last_judgment_at</th>\n",
              "      <td>0</td>\n",
              "    </tr>\n",
              "    <tr>\n",
              "      <th>audience</th>\n",
              "      <td>0</td>\n",
              "    </tr>\n",
              "    <tr>\n",
              "      <th>audience:confidence</th>\n",
              "      <td>0</td>\n",
              "    </tr>\n",
              "    <tr>\n",
              "      <th>bias</th>\n",
              "      <td>0</td>\n",
              "    </tr>\n",
              "    <tr>\n",
              "      <th>bias:confidence</th>\n",
              "      <td>0</td>\n",
              "    </tr>\n",
              "    <tr>\n",
              "      <th>message</th>\n",
              "      <td>0</td>\n",
              "    </tr>\n",
              "    <tr>\n",
              "      <th>message:confidence</th>\n",
              "      <td>0</td>\n",
              "    </tr>\n",
              "    <tr>\n",
              "      <th>orig__golden</th>\n",
              "      <td>5000</td>\n",
              "    </tr>\n",
              "    <tr>\n",
              "      <th>audience_gold</th>\n",
              "      <td>5000</td>\n",
              "    </tr>\n",
              "    <tr>\n",
              "      <th>bias_gold</th>\n",
              "      <td>5000</td>\n",
              "    </tr>\n",
              "    <tr>\n",
              "      <th>bioid</th>\n",
              "      <td>0</td>\n",
              "    </tr>\n",
              "    <tr>\n",
              "      <th>embed</th>\n",
              "      <td>0</td>\n",
              "    </tr>\n",
              "    <tr>\n",
              "      <th>id</th>\n",
              "      <td>0</td>\n",
              "    </tr>\n",
              "    <tr>\n",
              "      <th>label</th>\n",
              "      <td>0</td>\n",
              "    </tr>\n",
              "    <tr>\n",
              "      <th>message_gold</th>\n",
              "      <td>5000</td>\n",
              "    </tr>\n",
              "    <tr>\n",
              "      <th>source</th>\n",
              "      <td>0</td>\n",
              "    </tr>\n",
              "    <tr>\n",
              "      <th>text</th>\n",
              "      <td>0</td>\n",
              "    </tr>\n",
              "  </tbody>\n",
              "</table>\n",
              "</div><br><label><b>dtype:</b> int64</label>"
            ]
          },
          "metadata": {},
          "execution_count": 153
        }
      ]
    },
    {
      "cell_type": "code",
      "source": [
        "col_to_be_dropped = ['_unit_id', '_unit_state', '_golden', 'orig__golden', 'audience_gold', 'bias_gold', 'embed', 'id', 'message_gold', 'bioid','label', '_last_judgment_at']\n",
        "#biod, label\n",
        "df.drop(col_to_be_dropped, axis = 1, inplace = True)"
      ],
      "metadata": {
        "id": "-l58L0EQDwqQ"
      },
      "execution_count": 154,
      "outputs": []
    },
    {
      "cell_type": "code",
      "source": [
        "\n",
        "\n",
        "# Apply OneHotEncoding to 'audience' and 'source' columns\n",
        "col_transform = ColumnTransformer([('encoder', OneHotEncoder(drop='first', sparse_output=False), ['audience', 'source','message'])], remainder='passthrough')\n",
        "\n",
        "# Transform the data\n",
        "df = col_transform.fit_transform(df)\n",
        "\n",
        "# Convert transformed data to DataFrame with correct column names\n",
        "df = pd.DataFrame(df, columns=col_transform.get_feature_names_out())\n",
        "\n",
        "# Rename columns by removing 'encoder__' and 'remainder__' prefixes\n",
        "df.columns = df.columns.str.replace(r'encoder__|remainder__', '', regex=True)\n",
        "\n",
        "df['bias'] = df['bias'].apply(lambda x: 1 if x == 'partisan' else 0)\n"
      ],
      "metadata": {
        "id": "3ws8DoklEK04"
      },
      "execution_count": 155,
      "outputs": []
    },
    {
      "cell_type": "code",
      "source": [
        "y = df.iloc[:,12].values"
      ],
      "metadata": {
        "id": "_Ttlt1FuESoC"
      },
      "execution_count": 156,
      "outputs": []
    },
    {
      "cell_type": "code",
      "source": [
        "df.drop('bias', axis = 1, inplace = True)"
      ],
      "metadata": {
        "id": "4o8NpQhAFPKO"
      },
      "execution_count": 157,
      "outputs": []
    },
    {
      "cell_type": "code",
      "source": [
        "# Download necessary NLTK resources\n",
        "nltk.download('punkt')\n",
        "nltk.download('punkt_tab')  # Punkt tokenizer data\n",
        "nltk.download('wordnet')\n",
        "nltk.download('stopwords')\n",
        "\n",
        "# Initialize lemmatizer and stopwords list\n",
        "lemmatizer = WordNetLemmatizer()\n",
        "stop_words = set(stopwords.words('english'))  # Set of common English stopwords\n",
        "\n",
        "def preprocess_text(text):\n",
        "    # Remove URLs\n",
        "    text = re.sub(r'http\\S+', '', text)\n",
        "\n",
        "    # Remove mentions and hashtags\n",
        "    text = re.sub(r'@\\w+', '', text)\n",
        "    text = re.sub(r'#\\w+', '', text)\n",
        "\n",
        "    # Remove special characters and digits\n",
        "    text = re.sub(r'[^a-zA-Z\\s]', '', text)\n",
        "\n",
        "    # Convert to lowercase\n",
        "    text = text.lower()\n",
        "\n",
        "    # Tokenization\n",
        "    words = word_tokenize(text)\n",
        "\n",
        "    # Remove stopwords and perform lemmatization\n",
        "    lemmatized_words = [lemmatizer.lemmatize(word) for word in words if word not in stop_words]\n",
        "\n",
        "    # Reconstruct sentence\n",
        "    text = \" \".join(lemmatized_words)\n",
        "\n",
        "    return text\n",
        "\n",
        "# Apply preprocessing to the 'text' column\n",
        "df['cleaned_text'] = df['text'].apply(preprocess_text)\n"
      ],
      "metadata": {
        "colab": {
          "base_uri": "https://localhost:8080/"
        },
        "id": "TEBtOafAFUFx",
        "outputId": "229c21b6-3139-4113-e367-580e2a6ec444"
      },
      "execution_count": 158,
      "outputs": [
        {
          "output_type": "stream",
          "name": "stderr",
          "text": [
            "[nltk_data] Downloading package punkt to /root/nltk_data...\n",
            "[nltk_data]   Package punkt is already up-to-date!\n",
            "[nltk_data] Downloading package punkt_tab to /root/nltk_data...\n",
            "[nltk_data]   Package punkt_tab is already up-to-date!\n",
            "[nltk_data] Downloading package wordnet to /root/nltk_data...\n",
            "[nltk_data]   Package wordnet is already up-to-date!\n",
            "[nltk_data] Downloading package stopwords to /root/nltk_data...\n",
            "[nltk_data]   Package stopwords is already up-to-date!\n"
          ]
        }
      ]
    },
    {
      "cell_type": "code",
      "source": [
        "\n",
        "\n",
        "# Download necessary NLTK resources\n",
        "nltk.download('punkt')\n",
        "\n",
        "def count_unique_words(text_column):\n",
        "    all_words = []\n",
        "    for text in text_column:\n",
        "        words = word_tokenize(str(text).lower())  # Convert to lowercase and tokenize\n",
        "        all_words.extend(words)\n",
        "    return len(set(all_words))  # Count unique words\n",
        "\n",
        "# Count unique words before and after preprocessing\n",
        "raw_unique_words = count_unique_words(df['text'])\n",
        "cleaned_unique_words = count_unique_words(df['cleaned_text'])\n",
        "\n",
        "print(\"Total unique words in raw data:\", raw_unique_words)\n",
        "print(\"Total unique words after preprocessing:\", cleaned_unique_words)\n"
      ],
      "metadata": {
        "colab": {
          "base_uri": "https://localhost:8080/"
        },
        "id": "IpFSlfoOFtcP",
        "outputId": "70ac5d87-a59c-4a5e-ba12-c331c69472d0"
      },
      "execution_count": 159,
      "outputs": [
        {
          "output_type": "stream",
          "name": "stderr",
          "text": [
            "[nltk_data] Downloading package punkt to /root/nltk_data...\n",
            "[nltk_data]   Package punkt is already up-to-date!\n"
          ]
        },
        {
          "output_type": "stream",
          "name": "stdout",
          "text": [
            "Total unique words in raw data: 19663\n",
            "Total unique words after preprocessing: 11666\n"
          ]
        }
      ]
    },
    {
      "cell_type": "markdown",
      "source": [
        "#TF-IDF VECTORISATION for Text Data Preprocessing"
      ],
      "metadata": {
        "id": "AJzsoumuHCU3"
      }
    },
    {
      "cell_type": "code",
      "source": [
        "# Initializing TF-IDF Vectorizer\n",
        "tfidf = TfidfVectorizer(max_features=5000, stop_words='english')\n",
        "tfidf_matrix = tfidf.fit_transform(df['cleaned_text'])\n",
        "\n",
        "tfidf_df = pd.DataFrame(tfidf_matrix.toarray(), columns=tfidf.get_feature_names_out())\n",
        "\n",
        "# Concatenating with original DataFrame\n",
        "\n",
        "TFdata = pd.concat([df, tfidf_df], axis=1)\n"
      ],
      "metadata": {
        "id": "tHNu0XxuGHRt"
      },
      "execution_count": 160,
      "outputs": []
    },
    {
      "cell_type": "code",
      "source": [
        "TFdata.drop('text', axis = 1, inplace = True)\n",
        "TFdata.drop('cleaned_text', axis = 1, inplace = True)"
      ],
      "metadata": {
        "id": "3OyBe9_jGpjU"
      },
      "execution_count": 161,
      "outputs": []
    },
    {
      "cell_type": "code",
      "source": [
        "TFdata_train, TFdata_test, y_train, y_test = train_test_split(TFdata, y, test_size=0.2, random_state=42)"
      ],
      "metadata": {
        "id": "aBmhpnNyGpkT"
      },
      "execution_count": 162,
      "outputs": []
    },
    {
      "cell_type": "markdown",
      "source": [
        "#Implementing classification using Classical Models on TFIDF-vectorized data\n",
        "\n",
        "\n",
        "\n"
      ],
      "metadata": {
        "id": "WLOe1El_IMbe"
      }
    },
    {
      "cell_type": "code",
      "source": [
        "models_to_be_deployed = {\n",
        "\n",
        "\n",
        "    'LOGISTIC REGRESSION': LogisticRegression(), # Time Complexity: O(n * d)\n",
        "\n",
        "    'LINEAR SVC': SVC(kernel='linear'), # Training Complexity: O(n^2 * d)\n",
        "\n",
        "    #'KERNEL SVC': SVC(kernel='rbf'), # Training Complexity: O(n^3) (Extremely slow for large datasets)\n",
        "\n",
        "    #'K NEIGHBORS CLASSIFIER': KNeighborsClassifier(n_neighbors=5, metric='euclidean', algorithm='kd_tree'),\n",
        "\n",
        "    'DECISION TREE CLASSIFIER': DecisionTreeClassifier(criterion='entropy', random_state=40), # Training Complexity: O(n * d log n)\n",
        "\n",
        "    'RANDOM FOREST CLASSIFIER': RandomForestClassifier(n_estimators=10, criterion='entropy', random_state=70), # Training Complexity: O(t * n * d log n) (t = number of trees)\n",
        "\n",
        "    'GAUSSIAN NAIVE BAYES': GaussianNB(), # Training Complexity: O(n * d)\n",
        "\n",
        "    #'MULTINOMIAL NAIVE BAYES': MultinomialNB(),'COMPLEMENT NAIVE BAYES': ComplementNB(alpha=1.0, norm=False),\n",
        "\n",
        "    'BERNOULLI NAIVE BAYES': BernoulliNB(alpha=1.0, binarize=0.0, fit_prior=True), # Training Complexity: O(n * d)\n",
        "\n",
        "    'GRADIENT BOOSTING CLASSIFIER': GradientBoostingClassifier(n_estimators=50, learning_rate=0.1, max_depth=3, subsample=0.8),  # Training Complexity: O(t * n * d) (t = number of boosting iterations)'ADABOOST CLASSIFIER': AdaBoostClassifier(n_estimators=50, learning_rate=1.0),   # Training Complexity: O(t * n * d)\n",
        "\n",
        "    'EXTRA TREES CLASSIFIER': ExtraTreesClassifier(n_estimators=50, max_depth=None, min_samples_split=2, n_jobs=-1)  # Training Complexity: O(t * n log n)\n",
        "}"
      ],
      "metadata": {
        "id": "k3_lxD6XHIlc"
      },
      "execution_count": 163,
      "outputs": []
    },
    {
      "cell_type": "code",
      "source": [
        "# Dictionary to store evaluation metrics for each model\n",
        "metrics_to_be_calculated = {}\n",
        "\n",
        "for model_name, model in models_to_be_deployed.items(): #iterating through the models\n",
        "\n",
        "    model.fit(TFdata_train, y_train) # training\n",
        "\n",
        "\n",
        "    y_predicted = model.predict(TFdata_test) #prediction\n",
        "\n",
        "\n",
        "    metrics_to_be_calculated[model_name] = {\n",
        "     \"accuracy_score\": accuracy_score(y_test, y_predicted),\n",
        "    \"precision_score\": precision_score(y_test, y_predicted, average = 'weighted'),\n",
        "    \"f1_score\": f1_score(y_test, y_predicted, average = 'weighted'),\n",
        "    \"recall_score\": recall_score(y_test, y_predicted, average = 'weighted')\n",
        "\n",
        "\n",
        "    }\n",
        "\n",
        "\n",
        "# Accuracy = (TP + TN) / (TP + TN + FP + FN) : Measures the overall correctness of predictions.\n",
        "\n",
        "# Precision = TP / (TP + FP) :  Indicates the proportion of correctly predicted positive instances out of total predicted positives. 'Weighted' accounts for class imbalance\n",
        "\n",
        "# F1 Score = 2 * (Precision * Recall) / (Precision + Recall) : Harmonic mean of precision and recall, useful for imbalanced datasets.\n",
        "\n",
        "# Recall = TP / (TP + FN) : Measures how many actual positives were correctly predicted."
      ],
      "metadata": {
        "colab": {
          "base_uri": "https://localhost:8080/"
        },
        "id": "q5uPfhfxHOvG",
        "outputId": "0ff3718c-bb03-44eb-ff44-595a8ac5ed76"
      },
      "execution_count": 164,
      "outputs": [
        {
          "output_type": "stream",
          "name": "stderr",
          "text": [
            "/usr/local/lib/python3.11/dist-packages/sklearn/linear_model/_logistic.py:458: ConvergenceWarning: lbfgs failed to converge (status=1):\n",
            "STOP: TOTAL NO. of ITERATIONS REACHED LIMIT.\n",
            "\n",
            "Increase the number of iterations (max_iter) or scale the data as shown in:\n",
            "    https://scikit-learn.org/stable/modules/preprocessing.html\n",
            "Please also refer to the documentation for alternative solver options:\n",
            "    https://scikit-learn.org/stable/modules/linear_model.html#logistic-regression\n",
            "  n_iter_i = _check_optimize_result(\n"
          ]
        }
      ]
    },
    {
      "cell_type": "markdown",
      "source": [
        "#Evaluating the classical models"
      ],
      "metadata": {
        "id": "qcdrcnN4l4QA"
      }
    },
    {
      "cell_type": "code",
      "source": [
        "metrics_df = pd.DataFrame.from_dict(metrics_to_be_calculated, orient='index') ## Convert the dictionary of calculated metrics into a DataFrame for better visualization\n",
        "\n",
        "pd.set_option('display.max_columns', None)\n",
        "pd.set_option('display.width', 200)\n",
        "print(metrics_df)"
      ],
      "metadata": {
        "colab": {
          "base_uri": "https://localhost:8080/"
        },
        "id": "PsGQ0--jHkII",
        "outputId": "a5341c3e-1c10-498f-b6ce-92287f016b52"
      },
      "execution_count": 165,
      "outputs": [
        {
          "output_type": "stream",
          "name": "stdout",
          "text": [
            "                              accuracy_score  precision_score  f1_score  recall_score\n",
            "LOGISTIC REGRESSION                    0.806         0.791643  0.794882         0.806\n",
            "LINEAR SVC                             0.800         0.788460  0.792362         0.800\n",
            "DECISION TREE CLASSIFIER               0.723         0.737588  0.729442         0.723\n",
            "RANDOM FOREST CLASSIFIER               0.772         0.747328  0.753441         0.772\n",
            "GAUSSIAN NAIVE BAYES                   0.581         0.671305  0.611089         0.581\n",
            "BERNOULLI NAIVE BAYES                  0.775         0.774664  0.774831         0.775\n",
            "GRADIENT BOOSTING CLASSIFIER           0.784         0.755137  0.752174         0.784\n",
            "EXTRA TREES CLASSIFIER                 0.778         0.762826  0.768162         0.778\n"
          ]
        }
      ]
    },
    {
      "cell_type": "markdown",
      "source": [
        "#Implementing classification using ANN on TFIDF-vectorized data"
      ],
      "metadata": {
        "id": "t8UQbs8dIPdg"
      }
    },
    {
      "cell_type": "markdown",
      "source": [
        "Using class weights"
      ],
      "metadata": {
        "id": "jhDJKPAedzto"
      }
    },
    {
      "cell_type": "code",
      "source": [
        "from sklearn.utils.class_weight import compute_class_weight\n",
        "import numpy as np\n",
        "\n",
        "class_weights = compute_class_weight('balanced', classes=np.unique(y_train), y=y_train)\n",
        "class_weight_dict = {i: class_weights[i] for i in range(len(class_weights))}\n"
      ],
      "metadata": {
        "id": "-9ctsiABKMpB"
      },
      "execution_count": 166,
      "outputs": []
    },
    {
      "cell_type": "markdown",
      "source": [
        "Initialising the ANN"
      ],
      "metadata": {
        "id": "Lr49h3A3d39e"
      }
    },
    {
      "cell_type": "code",
      "source": [
        "ann = tf.keras.models.Sequential()\n",
        "ann.add(tf.keras.layers.Dense(units=64, activation='relu', input_shape=(TFdata_train.shape[1],)))  # Define input shape\n",
        "ann.add(tf.keras.layers.BatchNormalization())\n",
        "ann.add(tf.keras.layers.Dropout(0.3))\n",
        "\n",
        "ann.add(tf.keras.layers.Dense(units=32, activation='relu'))\n",
        "ann.add(tf.keras.layers.BatchNormalization())\n",
        "ann.add(tf.keras.layers.Dropout(0.3))\n",
        "\n",
        "ann.add(tf.keras.layers.Dense(units=8, activation='relu'))\n",
        "ann.add(tf.keras.layers.Dense(units=1, activation='sigmoid'))\n",
        "\n",
        "\n",
        "ann.compile(optimizer='adam', loss=tfa.losses.SigmoidFocalCrossEntropy(from_logits=False), metrics=['accuracy'])\n",
        "#from_logits = False\n",
        "# Convert data types to numeric and handle missing values before fitting\n",
        "TFdata_train = TFdata_train.apply(pd.to_numeric, errors='coerce').fillna(0)\n",
        "TFdata_test = TFdata_test.apply(pd.to_numeric, errors='coerce').fillna(0)\n",
        "\n",
        "ann.fit(TFdata_train, y_train, batch_size=64, epochs=25, validation_data=(TFdata_test, y_test), class_weight = class_weight_dict)"
      ],
      "metadata": {
        "colab": {
          "base_uri": "https://localhost:8080/"
        },
        "id": "7diN-YWtIRwA",
        "outputId": "b3dc3a48-4855-403b-ae25-8803b5130741"
      },
      "execution_count": 167,
      "outputs": [
        {
          "output_type": "stream",
          "name": "stdout",
          "text": [
            "Epoch 1/25\n",
            "63/63 [==============================] - 5s 54ms/step - loss: 0.1219 - accuracy: 0.6367 - val_loss: 0.0870 - val_accuracy: 0.7670\n",
            "Epoch 2/25\n",
            "63/63 [==============================] - 1s 10ms/step - loss: 0.0734 - accuracy: 0.7398 - val_loss: 0.0932 - val_accuracy: 0.7720\n",
            "Epoch 3/25\n",
            "63/63 [==============================] - 1s 9ms/step - loss: 0.0620 - accuracy: 0.7607 - val_loss: 0.0987 - val_accuracy: 0.7390\n",
            "Epoch 4/25\n",
            "63/63 [==============================] - 1s 10ms/step - loss: 0.0514 - accuracy: 0.8027 - val_loss: 0.0940 - val_accuracy: 0.7150\n",
            "Epoch 5/25\n",
            "63/63 [==============================] - 1s 9ms/step - loss: 0.0434 - accuracy: 0.8415 - val_loss: 0.0767 - val_accuracy: 0.7720\n",
            "Epoch 6/25\n",
            "63/63 [==============================] - 1s 8ms/step - loss: 0.0376 - accuracy: 0.8673 - val_loss: 0.0616 - val_accuracy: 0.7910\n",
            "Epoch 7/25\n",
            "63/63 [==============================] - 1s 8ms/step - loss: 0.0313 - accuracy: 0.8947 - val_loss: 0.0527 - val_accuracy: 0.7870\n",
            "Epoch 8/25\n",
            "63/63 [==============================] - 1s 10ms/step - loss: 0.0270 - accuracy: 0.9095 - val_loss: 0.0656 - val_accuracy: 0.7790\n",
            "Epoch 9/25\n",
            "63/63 [==============================] - 1s 9ms/step - loss: 0.0237 - accuracy: 0.9245 - val_loss: 0.0647 - val_accuracy: 0.7770\n",
            "Epoch 10/25\n",
            "63/63 [==============================] - 1s 12ms/step - loss: 0.0205 - accuracy: 0.9410 - val_loss: 0.0726 - val_accuracy: 0.7690\n",
            "Epoch 11/25\n",
            "63/63 [==============================] - 2s 29ms/step - loss: 0.0163 - accuracy: 0.9485 - val_loss: 0.0936 - val_accuracy: 0.7610\n",
            "Epoch 12/25\n",
            "63/63 [==============================] - 1s 14ms/step - loss: 0.0153 - accuracy: 0.9590 - val_loss: 0.0901 - val_accuracy: 0.7740\n",
            "Epoch 13/25\n",
            "63/63 [==============================] - 1s 9ms/step - loss: 0.0135 - accuracy: 0.9640 - val_loss: 0.0947 - val_accuracy: 0.7610\n",
            "Epoch 14/25\n",
            "63/63 [==============================] - 1s 8ms/step - loss: 0.0125 - accuracy: 0.9632 - val_loss: 0.1448 - val_accuracy: 0.7400\n",
            "Epoch 15/25\n",
            "63/63 [==============================] - 1s 8ms/step - loss: 0.0102 - accuracy: 0.9735 - val_loss: 0.1386 - val_accuracy: 0.7620\n",
            "Epoch 16/25\n",
            "63/63 [==============================] - 1s 8ms/step - loss: 0.0112 - accuracy: 0.9725 - val_loss: 0.1256 - val_accuracy: 0.7690\n",
            "Epoch 17/25\n",
            "63/63 [==============================] - 1s 9ms/step - loss: 0.0103 - accuracy: 0.9740 - val_loss: 0.1356 - val_accuracy: 0.7560\n",
            "Epoch 18/25\n",
            "63/63 [==============================] - 1s 8ms/step - loss: 0.0088 - accuracy: 0.9765 - val_loss: 0.1380 - val_accuracy: 0.7640\n",
            "Epoch 19/25\n",
            "63/63 [==============================] - 1s 9ms/step - loss: 0.0069 - accuracy: 0.9803 - val_loss: 0.1870 - val_accuracy: 0.7550\n",
            "Epoch 20/25\n",
            "63/63 [==============================] - 0s 8ms/step - loss: 0.0067 - accuracy: 0.9852 - val_loss: 0.1800 - val_accuracy: 0.7530\n",
            "Epoch 21/25\n",
            "63/63 [==============================] - 1s 8ms/step - loss: 0.0063 - accuracy: 0.9825 - val_loss: 0.1616 - val_accuracy: 0.7640\n",
            "Epoch 22/25\n",
            "63/63 [==============================] - 1s 8ms/step - loss: 0.0054 - accuracy: 0.9845 - val_loss: 0.1898 - val_accuracy: 0.7680\n",
            "Epoch 23/25\n",
            "63/63 [==============================] - 1s 8ms/step - loss: 0.0050 - accuracy: 0.9870 - val_loss: 0.1708 - val_accuracy: 0.7630\n",
            "Epoch 24/25\n",
            "63/63 [==============================] - 0s 8ms/step - loss: 0.0052 - accuracy: 0.9862 - val_loss: 0.3052 - val_accuracy: 0.7110\n",
            "Epoch 25/25\n",
            "63/63 [==============================] - 1s 8ms/step - loss: 0.0053 - accuracy: 0.9880 - val_loss: 0.2354 - val_accuracy: 0.7380\n"
          ]
        },
        {
          "output_type": "execute_result",
          "data": {
            "text/plain": [
              "<keras.callbacks.History at 0x7dcc64e99810>"
            ]
          },
          "metadata": {},
          "execution_count": 167
        }
      ]
    },
    {
      "cell_type": "markdown",
      "source": [
        "Determining the optimal threshold"
      ],
      "metadata": {
        "id": "t8PA6ceBd9Y1"
      }
    },
    {
      "cell_type": "code",
      "source": [
        "\n",
        "\n",
        "def find_best_threshold_accuracy(y_true, y_pred_probs):\n",
        "    \"\"\"\n",
        "    Finds the optimal threshold that maximizes accuracy.\n",
        "\n",
        "    Parameters:\n",
        "    y_true (array): True binary labels (0 or 1).\n",
        "    y_pred_probs (array): Predicted probabilities.\n",
        "\n",
        "    Returns:\n",
        "    best_threshold (float): Threshold that gives the highest accuracy.\n",
        "    \"\"\"\n",
        "    thresholds = np.linspace(0, 1, 100)  # Generate 100 thresholds from 0 to 1\n",
        "    accuracies = []\n",
        "\n",
        "    for threshold in thresholds:\n",
        "        y_pred = (y_pred_probs >= threshold).astype(int)\n",
        "        acc = accuracy_score(y_true, y_pred)\n",
        "        accuracies.append(acc)\n",
        "\n",
        "    best_threshold = thresholds[np.argmax(accuracies)]  # Get threshold with max accuracy\n",
        "\n",
        "    return best_threshold\n",
        "\n",
        "# Get probabilities for class 1\n",
        "y_pred_probs = ann.predict(TFdata_test).flatten()\n",
        "\n",
        "# Find the best threshold based on Accuracy\n",
        "optimal_threshold = find_best_threshold_accuracy(y_test, y_pred_probs)\n",
        "print(f\"OPTIMAL THRESHOLD (Accuracy-based): {optimal_threshold:.4f}\")\n",
        "\n",
        "# Apply threshold to get final predictions\n",
        "y_prediction = (ann.predict(TFdata_test) > optimal_threshold).astype(int)\n"
      ],
      "metadata": {
        "colab": {
          "base_uri": "https://localhost:8080/"
        },
        "id": "5VDfgBffhzpr",
        "outputId": "4c4ad1be-00c0-470a-816c-4d3fd26696c6"
      },
      "execution_count": 168,
      "outputs": [
        {
          "output_type": "stream",
          "name": "stdout",
          "text": [
            "32/32 [==============================] - 0s 2ms/step\n",
            "OPTIMAL THRESHOLD (Accuracy-based): 0.9293\n",
            "32/32 [==============================] - 0s 2ms/step\n"
          ]
        }
      ]
    },
    {
      "cell_type": "markdown",
      "source": [
        "#Evaluating the ANN model"
      ],
      "metadata": {
        "id": "q_1QR7JLl8sE"
      }
    },
    {
      "cell_type": "code",
      "source": [
        "metrics_dict = {\n",
        "    \"accuracy_score\": accuracy_score(y_test, y_prediction),\n",
        "    \"precision_score\": precision_score(y_test, y_prediction, average = 'weighted'),\n",
        "    \"f1_score\": f1_score(y_test, y_prediction, average = 'weighted'),\n",
        "    \"recall_score\": recall_score(y_test, y_prediction, average = 'weighted')\n",
        "\n",
        "}\n",
        "\n",
        "# Print results\n",
        "for metric, value in metrics_dict.items():\n",
        "    print(f\"{metric}: {value:.4f}\")"
      ],
      "metadata": {
        "colab": {
          "base_uri": "https://localhost:8080/"
        },
        "id": "i4LstND2JYDy",
        "outputId": "fd3b6ce4-b7ab-4e49-af01-217c30220a38"
      },
      "execution_count": 169,
      "outputs": [
        {
          "output_type": "stream",
          "name": "stdout",
          "text": [
            "accuracy_score: 0.7730\n",
            "precision_score: 0.7336\n",
            "f1_score: 0.7268\n",
            "recall_score: 0.7730\n"
          ]
        }
      ]
    },
    {
      "cell_type": "code",
      "source": [
        "preds = ann.predict(TFdata_test)\n",
        "plt.hist(preds, bins = 50)\n",
        "plt.xlabel('Predicted_Probabilties')\n",
        "plt.ylabel('Frequency')\n",
        "plt.title('Distribution of Predictions')\n",
        "plt.show()"
      ],
      "metadata": {
        "colab": {
          "base_uri": "https://localhost:8080/",
          "height": 489
        },
        "id": "QkKMPALlJoTC",
        "outputId": "6c52bf5b-8e5d-48f1-940b-666dcc9b2c01"
      },
      "execution_count": 170,
      "outputs": [
        {
          "output_type": "stream",
          "name": "stdout",
          "text": [
            "32/32 [==============================] - 0s 2ms/step\n"
          ]
        },
        {
          "output_type": "display_data",
          "data": {
            "text/plain": [
              "<Figure size 640x480 with 1 Axes>"
            ],
            "image/png": "[encoded data removed]"
          },
          "metadata": {}
        }
      ]
    },
    {
      "cell_type": "markdown",
      "source": [
        "NOW OPTIMISING OUR APPROACH BY USING TRUNCATED TF-IDF VECTORIZATION"
      ],
      "metadata": {
        "id": "4e0aYf1tgVnu"
      }
    },
    {
      "cell_type": "markdown",
      "source": [
        "#TRUNCATED TF-IDF VECTORISATION for Text Data Preprocessing"
      ],
      "metadata": {
        "id": "5sWpUYZIPGy2"
      }
    },
    {
      "cell_type": "code",
      "source": [
        "# Apply Truncated SVD\n",
        "svd = TruncatedSVD(n_components=500)  # Adjust components based on dataset size\n",
        "tfidf_reduced = svd.fit_transform(tfidf_matrix)  # Now it's a dense matrix\n",
        "\n",
        "# Convert to DataFrame and concatenate\n",
        "tfidf_reduced_df = pd.DataFrame(tfidf_reduced, columns=[f\"svd_{i}\" for i in range(500)])\n",
        "tfdatared = pd.concat([df, tfidf_reduced_df], axis=1)"
      ],
      "metadata": {
        "id": "x8vED73YPQLC"
      },
      "execution_count": 171,
      "outputs": []
    },
    {
      "cell_type": "code",
      "source": [
        "tfdatared.drop('text', axis = 1, inplace = True)\n",
        "tfdatared.drop('cleaned_text', axis = 1, inplace = True)"
      ],
      "metadata": {
        "id": "rmzLnQ8XQZRl"
      },
      "execution_count": 172,
      "outputs": []
    },
    {
      "cell_type": "code",
      "source": [
        "tfdatared_train, tfdatared_test, y_train, y_test = train_test_split(tfdatared, y, test_size=0.2, random_state=42)"
      ],
      "metadata": {
        "id": "ndBeCOovQfqp"
      },
      "execution_count": 173,
      "outputs": []
    },
    {
      "cell_type": "markdown",
      "source": [
        "#CLASSICAL MODEL ON TRUNCATED TFIDF"
      ],
      "metadata": {
        "id": "EYH3s9zaPQeb"
      }
    },
    {
      "cell_type": "code",
      "source": [
        "metrics_to_be_calculated = {}\n",
        "\n",
        "for model_name, model in models_to_be_deployed.items(): #iterating through the models\n",
        "\n",
        "    model.fit(tfdatared_train, y_train) # training\n",
        "\n",
        "\n",
        "    y_predicted = model.predict(tfdatared_test) #prediction\n",
        "\n",
        "\n",
        "    metrics_to_be_calculated[model_name] = {\n",
        "     \"accuracy_score\": accuracy_score(y_test, y_predicted),\n",
        "    \"precision_score\": precision_score(y_test, y_predicted, average = 'weighted'),\n",
        "    \"f1_score\": f1_score(y_test, y_predicted, average = 'weighted'),\n",
        "    \"recall_score\": recall_score(y_test, y_predicted, average = 'weighted')\n",
        "\n",
        "\n",
        "    }\n",
        "\n"
      ],
      "metadata": {
        "colab": {
          "base_uri": "https://localhost:8080/"
        },
        "id": "GWgQPTEJPQu2",
        "outputId": "453420d2-cbaf-4254-ab3e-509616fb3bbb"
      },
      "execution_count": 174,
      "outputs": [
        {
          "output_type": "stream",
          "name": "stderr",
          "text": [
            "/usr/local/lib/python3.11/dist-packages/sklearn/linear_model/_logistic.py:458: ConvergenceWarning: lbfgs failed to converge (status=1):\n",
            "STOP: TOTAL NO. of ITERATIONS REACHED LIMIT.\n",
            "\n",
            "Increase the number of iterations (max_iter) or scale the data as shown in:\n",
            "    https://scikit-learn.org/stable/modules/preprocessing.html\n",
            "Please also refer to the documentation for alternative solver options:\n",
            "    https://scikit-learn.org/stable/modules/linear_model.html#logistic-regression\n",
            "  n_iter_i = _check_optimize_result(\n"
          ]
        }
      ]
    },
    {
      "cell_type": "markdown",
      "source": [
        "#Evaluating Classical Model"
      ],
      "metadata": {
        "id": "UbIstTkvlfWn"
      }
    },
    {
      "cell_type": "code",
      "source": [
        "metrics_df = pd.DataFrame.from_dict(metrics_to_be_calculated, orient='index') ## Convert the dictionary of calculated metrics into a DataFrame for better visualization\n",
        "\n",
        "pd.set_option('display.max_columns', None)\n",
        "pd.set_option('display.width', 200)\n",
        "print(metrics_df)\n"
      ],
      "metadata": {
        "colab": {
          "base_uri": "https://localhost:8080/"
        },
        "id": "xuZRFb8PQnmQ",
        "outputId": "d4b15e0e-bad5-4308-de11-cbd4eb1ca877"
      },
      "execution_count": 175,
      "outputs": [
        {
          "output_type": "stream",
          "name": "stdout",
          "text": [
            "                              accuracy_score  precision_score  f1_score  recall_score\n",
            "LOGISTIC REGRESSION                    0.810         0.796219  0.799111         0.810\n",
            "LINEAR SVC                             0.798         0.786282  0.790285         0.798\n",
            "DECISION TREE CLASSIFIER               0.692         0.707421  0.698981         0.692\n",
            "RANDOM FOREST CLASSIFIER               0.755         0.695283  0.700867         0.755\n",
            "GAUSSIAN NAIVE BAYES                   0.730         0.785340  0.746652         0.730\n",
            "BERNOULLI NAIVE BAYES                  0.769         0.773568  0.771147         0.769\n",
            "GRADIENT BOOSTING CLASSIFIER           0.781         0.762302  0.767702         0.781\n",
            "EXTRA TREES CLASSIFIER                 0.774         0.734613  0.713569         0.774\n"
          ]
        }
      ]
    },
    {
      "cell_type": "markdown",
      "source": [
        "#NEURAL NETWORK ON TRUNCATED TFIDF"
      ],
      "metadata": {
        "id": "hFBp906zPQ3n"
      }
    },
    {
      "cell_type": "code",
      "source": [
        "#ANN MODELS\n",
        "\n",
        "ann = tf.keras.models.Sequential()\n",
        "ann.add(tf.keras.layers.Dense(units=64, activation='relu', input_shape= (tfdatared_train.shape[1],))) # Change input_shape to match tfdatared_train\n",
        "ann.add(tf.keras.layers.BatchNormalization())  # Normalize activations to stabilize training\n",
        "ann.add(tf.keras.layers.Dropout(0.3))\n",
        "\n",
        "ann.add(tf.keras.layers.Dense(units=32, activation='relu'))\n",
        "ann.add(tf.keras.layers.BatchNormalization())  # Normalize activations to stabilize training\n",
        "ann.add(tf.keras.layers.Dropout(0.3))\n",
        "\n",
        "ann.add(tf.keras.layers.Dense(units=8, activation='relu'))\n",
        "\n",
        "ann.add(tf.keras.layers.Dense(units=1, activation='sigmoid'))\n",
        "\n",
        "ann.compile(optimizer='adam', loss=tfa.losses.SigmoidFocalCrossEntropy(from_logits=False), metrics=['accuracy'])\n",
        "tfdatared_train = tfdatared_train.apply(pd.to_numeric, errors='coerce').fillna(0)\n",
        "tfdatared_test = tfdatared_test.apply(pd.to_numeric, errors='coerce').fillna(0)\n",
        "ann.fit(tfdatared_train, y_train, batch_size=64, epochs=25, validation_data=(tfdatared_test, y_test))\n"
      ],
      "metadata": {
        "colab": {
          "base_uri": "https://localhost:8080/"
        },
        "id": "LdBlbQxlPRJi",
        "outputId": "8cd4406c-cd67-495c-eb43-6c95240e7674"
      },
      "execution_count": 176,
      "outputs": [
        {
          "output_type": "stream",
          "name": "stdout",
          "text": [
            "Epoch 1/25\n",
            "63/63 [==============================] - 2s 10ms/step - loss: 0.1846 - accuracy: 0.6227 - val_loss: 0.0645 - val_accuracy: 0.7670\n",
            "Epoch 2/25\n",
            "63/63 [==============================] - 0s 4ms/step - loss: 0.0813 - accuracy: 0.7042 - val_loss: 0.0536 - val_accuracy: 0.7670\n",
            "Epoch 3/25\n",
            "63/63 [==============================] - 0s 4ms/step - loss: 0.0649 - accuracy: 0.7320 - val_loss: 0.0511 - val_accuracy: 0.7670\n",
            "Epoch 4/25\n",
            "63/63 [==============================] - 0s 4ms/step - loss: 0.0615 - accuracy: 0.7337 - val_loss: 0.0480 - val_accuracy: 0.7670\n",
            "Epoch 5/25\n",
            "63/63 [==============================] - 0s 4ms/step - loss: 0.0572 - accuracy: 0.7420 - val_loss: 0.0466 - val_accuracy: 0.7670\n",
            "Epoch 6/25\n",
            "63/63 [==============================] - 0s 4ms/step - loss: 0.0544 - accuracy: 0.7458 - val_loss: 0.0460 - val_accuracy: 0.7670\n",
            "Epoch 7/25\n",
            "63/63 [==============================] - 0s 4ms/step - loss: 0.0525 - accuracy: 0.7492 - val_loss: 0.0448 - val_accuracy: 0.7670\n",
            "Epoch 8/25\n",
            "63/63 [==============================] - 0s 4ms/step - loss: 0.0502 - accuracy: 0.7467 - val_loss: 0.0443 - val_accuracy: 0.7660\n",
            "Epoch 9/25\n",
            "63/63 [==============================] - 0s 5ms/step - loss: 0.0486 - accuracy: 0.7575 - val_loss: 0.0439 - val_accuracy: 0.7710\n",
            "Epoch 10/25\n",
            "63/63 [==============================] - 0s 4ms/step - loss: 0.0466 - accuracy: 0.7620 - val_loss: 0.0438 - val_accuracy: 0.7750\n",
            "Epoch 11/25\n",
            "63/63 [==============================] - 0s 4ms/step - loss: 0.0455 - accuracy: 0.7715 - val_loss: 0.0438 - val_accuracy: 0.7800\n",
            "Epoch 12/25\n",
            "63/63 [==============================] - 0s 4ms/step - loss: 0.0445 - accuracy: 0.7688 - val_loss: 0.0435 - val_accuracy: 0.7880\n",
            "Epoch 13/25\n",
            "63/63 [==============================] - 0s 4ms/step - loss: 0.0439 - accuracy: 0.7732 - val_loss: 0.0434 - val_accuracy: 0.7840\n",
            "Epoch 14/25\n",
            "63/63 [==============================] - 0s 4ms/step - loss: 0.0423 - accuracy: 0.7780 - val_loss: 0.0436 - val_accuracy: 0.7910\n",
            "Epoch 15/25\n",
            "63/63 [==============================] - 0s 4ms/step - loss: 0.0403 - accuracy: 0.7868 - val_loss: 0.0444 - val_accuracy: 0.7970\n",
            "Epoch 16/25\n",
            "63/63 [==============================] - 0s 4ms/step - loss: 0.0397 - accuracy: 0.7912 - val_loss: 0.0461 - val_accuracy: 0.7920\n",
            "Epoch 17/25\n",
            "63/63 [==============================] - 0s 4ms/step - loss: 0.0392 - accuracy: 0.7930 - val_loss: 0.0445 - val_accuracy: 0.7900\n",
            "Epoch 18/25\n",
            "63/63 [==============================] - 0s 4ms/step - loss: 0.0382 - accuracy: 0.7980 - val_loss: 0.0448 - val_accuracy: 0.7930\n",
            "Epoch 19/25\n",
            "63/63 [==============================] - 0s 4ms/step - loss: 0.0373 - accuracy: 0.7990 - val_loss: 0.0458 - val_accuracy: 0.7980\n",
            "Epoch 20/25\n",
            "63/63 [==============================] - 0s 4ms/step - loss: 0.0364 - accuracy: 0.8105 - val_loss: 0.0468 - val_accuracy: 0.8040\n",
            "Epoch 21/25\n",
            "63/63 [==============================] - 0s 5ms/step - loss: 0.0360 - accuracy: 0.8155 - val_loss: 0.0467 - val_accuracy: 0.8000\n",
            "Epoch 22/25\n",
            "63/63 [==============================] - 0s 4ms/step - loss: 0.0344 - accuracy: 0.8120 - val_loss: 0.0480 - val_accuracy: 0.8000\n",
            "Epoch 23/25\n",
            "63/63 [==============================] - 0s 4ms/step - loss: 0.0334 - accuracy: 0.8305 - val_loss: 0.0481 - val_accuracy: 0.7990\n",
            "Epoch 24/25\n",
            "63/63 [==============================] - 0s 4ms/step - loss: 0.0327 - accuracy: 0.8330 - val_loss: 0.0491 - val_accuracy: 0.8010\n",
            "Epoch 25/25\n",
            "63/63 [==============================] - 0s 4ms/step - loss: 0.0331 - accuracy: 0.8313 - val_loss: 0.0504 - val_accuracy: 0.7950\n"
          ]
        },
        {
          "output_type": "execute_result",
          "data": {
            "text/plain": [
              "<keras.callbacks.History at 0x7dcc5152ee50>"
            ]
          },
          "metadata": {},
          "execution_count": 176
        }
      ]
    },
    {
      "cell_type": "code",
      "source": [
        "import numpy as np\n",
        "from sklearn.metrics import accuracy_score\n",
        "\n",
        "def find_best_threshold_accuracy(y_true, y_pred_probs):\n",
        "    \"\"\"\n",
        "    Finds the optimal threshold that maximizes accuracy.\n",
        "\n",
        "    Parameters:\n",
        "    y_true (array): True binary labels (0 or 1).\n",
        "    y_pred_probs (array): Predicted probabilities.\n",
        "\n",
        "    Returns:\n",
        "    best_threshold (float): Threshold that gives the highest accuracy.\n",
        "    \"\"\"\n",
        "    thresholds = np.linspace(0, 1, 100)  # Generate 100 thresholds from 0 to 1\n",
        "    accuracies = []\n",
        "\n",
        "    for threshold in thresholds:\n",
        "        y_pred = (y_pred_probs >= threshold).astype(int)\n",
        "        acc = accuracy_score(y_true, y_pred)\n",
        "        accuracies.append(acc)\n",
        "\n",
        "    best_threshold = thresholds[np.argmax(accuracies)]  # Get threshold with max accuracy\n",
        "\n",
        "    return best_threshold\n",
        "\n",
        "# Get probabilities for class 1\n",
        "y_pred_probs = ann.predict(tfdatared_test).flatten()\n",
        "\n",
        "# Find the best threshold based on Accuracy\n",
        "optimal_threshold = find_best_threshold_accuracy(y_test, y_pred_probs)\n",
        "print(f\"OPTIMAL THRESHOLD (Accuracy-based): {optimal_threshold:.4f}\")\n",
        "\n",
        "# Apply threshold to get final predictions\n",
        "y_prediction = (ann.predict(tfdatared_test) > optimal_threshold).astype(int)\n"
      ],
      "metadata": {
        "colab": {
          "base_uri": "https://localhost:8080/"
        },
        "id": "Cx3VOqv0iPii",
        "outputId": "e78f6e51-dc6e-416f-ccf1-df578a2c88b2"
      },
      "execution_count": 177,
      "outputs": [
        {
          "output_type": "stream",
          "name": "stdout",
          "text": [
            "32/32 [==============================] - 0s 1ms/step\n",
            "OPTIMAL THRESHOLD (Accuracy-based): 0.5253\n",
            "32/32 [==============================] - 0s 1ms/step\n"
          ]
        }
      ]
    },
    {
      "cell_type": "markdown",
      "source": [
        "#Evaluating the ANN model"
      ],
      "metadata": {
        "id": "MlMIrGJCloAi"
      }
    },
    {
      "cell_type": "code",
      "source": [
        "metrics_dict = {\n",
        "    \"accuracy_score\": accuracy_score(y_test, y_prediction),\n",
        "    \"precision_score\": precision_score(y_test, y_prediction, average = 'weighted'),\n",
        "    \"f1_score\": f1_score(y_test, y_prediction, average = 'weighted'),\n",
        "    \"recall_score\": recall_score(y_test, y_prediction, average = 'weighted')\n",
        "\n",
        "}\n",
        "\n",
        "# Print results\n",
        "for metric, value in metrics_dict.items():\n",
        "    print(f\"{metric}: {value:.4f}\")"
      ],
      "metadata": {
        "colab": {
          "base_uri": "https://localhost:8080/"
        },
        "id": "iKWgLXFTQxzj",
        "outputId": "dd2fe1f5-b1a2-4ff2-86e6-77ac8aee59df"
      },
      "execution_count": 178,
      "outputs": [
        {
          "output_type": "stream",
          "name": "stdout",
          "text": [
            "accuracy_score: 0.8010\n",
            "precision_score: 0.7897\n",
            "f1_score: 0.7579\n",
            "recall_score: 0.8010\n"
          ]
        }
      ]
    },
    {
      "cell_type": "code",
      "source": [
        "preds = ann.predict(tfdatared_test)\n",
        "plt.hist(preds, bins = 50)\n",
        "plt.xlabel('Predicted_Probabilties')\n",
        "plt.ylabel('Frequency')\n",
        "plt.title('Distribution of Predictions')\n",
        "plt.show()"
      ],
      "metadata": {
        "colab": {
          "base_uri": "https://localhost:8080/",
          "height": 489
        },
        "id": "qNhlIuJSRTBE",
        "outputId": "c026cdda-9977-40ce-fa21-5296e386bf6b"
      },
      "execution_count": 179,
      "outputs": [
        {
          "output_type": "stream",
          "name": "stdout",
          "text": [
            "32/32 [==============================] - 0s 2ms/step\n"
          ]
        },
        {
          "output_type": "display_data",
          "data": {
            "text/plain": [
              "<Figure size 640x480 with 1 Axes>"
            ],
            "image/png": "[encoded data removed]"
          },
          "metadata": {}
        }
      ]
    },
    {
      "cell_type": "code",
      "source": [
        "#OUR NEXT APPROACH WILL INCLUDE GloVe & FastText feature_extraction METHODS\n",
        "\n",
        "#GloVe and FastText applied on different .ipynb file"
      ],
      "metadata": {
        "id": "vtulAnSEDIIK"
      },
      "execution_count": 181,
      "outputs": []
    }
  ]
}