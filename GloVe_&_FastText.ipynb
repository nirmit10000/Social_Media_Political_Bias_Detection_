{
  "nbformat": 4,
  "nbformat_minor": 0,
  "metadata": {
    "colab": {
      "provenance": [],
      "collapsed_sections": [
        "25FDs7LHVFQV",
        "YWEzMucCVFg0",
        "aZ3_BOTAVFtE",
        "-awV3an-VF5s",
        "hw9_ohgcVGLO",
        "-4mNr7YG7OJd",
        "n-mRrtZnVGhM",
        "JvB07xeVVGsM",
        "nH-iHsDJV1wA"
      ],
      "authorship_tag": "ABX9TyPcogLgiQiwCg7z8K6a98AE",
      "include_colab_link": true
    },
    "kernelspec": {
      "name": "python3",
      "display_name": "Python 3"
    },
    "language_info": {
      "name": "python"
    }
  },
  "cells": [
    {
      "cell_type": "markdown",
      "metadata": {
        "id": "view-in-github",
        "colab_type": "text"
      },
      "source": [
        "<a href=\"https://colab.research.google.com/github/nirmit10000/Social_Media_Political_Bias_Detection_/blob/main/GloVe_%26_FastText.ipynb\" target=\"_parent\"><img src=\"https://colab.research.google.com/assets/colab-badge.svg\" alt=\"Open In Colab\"/></a>"
      ]
    },
    {
      "cell_type": "markdown",
      "source": [
        "#Installing python packages, importing libraries and utilities"
      ],
      "metadata": {
        "id": "25FDs7LHVFQV"
      }
    },
    {
      "cell_type": "code",
      "source": [
        "!pip install -U numpy==1.23.5 pandas==1.5.3 scikit-learn==1.2.2 tensorflow==2.12.0"
      ],
      "metadata": {
        "colab": {
          "base_uri": "https://localhost:8080/"
        },
        "id": "tjwnUDwwVFZM",
        "outputId": "dfb84ab4-8a4e-444b-f23b-92a3955757a5",
        "collapsed": true
      },
      "execution_count": 102,
      "outputs": [
        {
          "output_type": "stream",
          "name": "stdout",
          "text": [
            "\u001b[33mWARNING: Ignoring invalid distribution ~ensorflow (/usr/local/lib/python3.11/dist-packages)\u001b[0m\u001b[33m\n",
            "\u001b[0m\u001b[33mWARNING: Ignoring invalid distribution ~ensorflow (/usr/local/lib/python3.11/dist-packages)\u001b[0m\u001b[33m\n",
            "\u001b[0mRequirement already satisfied: numpy==1.23.5 in /usr/local/lib/python3.11/dist-packages (1.23.5)\n",
            "Requirement already satisfied: pandas==1.5.3 in /usr/local/lib/python3.11/dist-packages (1.5.3)\n",
            "Requirement already satisfied: scikit-learn==1.2.2 in /usr/local/lib/python3.11/dist-packages (1.2.2)\n",
            "Requirement already satisfied: tensorflow==2.12.0 in /usr/local/lib/python3.11/dist-packages (2.12.0)\n",
            "Requirement already satisfied: python-dateutil>=2.8.1 in /usr/local/lib/python3.11/dist-packages (from pandas==1.5.3) (2.8.2)\n",
            "Requirement already satisfied: pytz>=2020.1 in /usr/local/lib/python3.11/dist-packages (from pandas==1.5.3) (2025.1)\n",
            "Requirement already satisfied: scipy>=1.3.2 in /usr/local/lib/python3.11/dist-packages (from scikit-learn==1.2.2) (1.13.1)\n",
            "Requirement already satisfied: joblib>=1.1.1 in /usr/local/lib/python3.11/dist-packages (from scikit-learn==1.2.2) (1.4.2)\n",
            "Requirement already satisfied: threadpoolctl>=2.0.0 in /usr/local/lib/python3.11/dist-packages (from scikit-learn==1.2.2) (3.6.0)\n",
            "Requirement already satisfied: absl-py>=1.0.0 in /usr/local/lib/python3.11/dist-packages (from tensorflow==2.12.0) (1.4.0)\n",
            "Requirement already satisfied: astunparse>=1.6.0 in /usr/local/lib/python3.11/dist-packages (from tensorflow==2.12.0) (1.6.3)\n",
            "Requirement already satisfied: flatbuffers>=2.0 in /usr/local/lib/python3.11/dist-packages (from tensorflow==2.12.0) (25.2.10)\n",
            "Requirement already satisfied: gast<=0.4.0,>=0.2.1 in /usr/local/lib/python3.11/dist-packages (from tensorflow==2.12.0) (0.4.0)\n",
            "Requirement already satisfied: google-pasta>=0.1.1 in /usr/local/lib/python3.11/dist-packages (from tensorflow==2.12.0) (0.2.0)\n",
            "Requirement already satisfied: grpcio<2.0,>=1.24.3 in /usr/local/lib/python3.11/dist-packages (from tensorflow==2.12.0) (1.71.0)\n",
            "Requirement already satisfied: h5py>=2.9.0 in /usr/local/lib/python3.11/dist-packages (from tensorflow==2.12.0) (3.13.0)\n",
            "Requirement already satisfied: jax>=0.3.15 in /usr/local/lib/python3.11/dist-packages (from tensorflow==2.12.0) (0.4.30)\n",
            "Requirement already satisfied: keras<2.13,>=2.12.0 in /usr/local/lib/python3.11/dist-packages (from tensorflow==2.12.0) (2.12.0)\n",
            "Requirement already satisfied: libclang>=13.0.0 in /usr/local/lib/python3.11/dist-packages (from tensorflow==2.12.0) (18.1.1)\n",
            "Requirement already satisfied: opt-einsum>=2.3.2 in /usr/local/lib/python3.11/dist-packages (from tensorflow==2.12.0) (3.4.0)\n",
            "Requirement already satisfied: packaging in /usr/local/lib/python3.11/dist-packages (from tensorflow==2.12.0) (24.2)\n",
            "Requirement already satisfied: protobuf!=4.21.0,!=4.21.1,!=4.21.2,!=4.21.3,!=4.21.4,!=4.21.5,<5.0.0dev,>=3.20.3 in /usr/local/lib/python3.11/dist-packages (from tensorflow==2.12.0) (4.25.6)\n",
            "Requirement already satisfied: setuptools in /usr/local/lib/python3.11/dist-packages (from tensorflow==2.12.0) (75.1.0)\n",
            "Requirement already satisfied: six>=1.12.0 in /usr/local/lib/python3.11/dist-packages (from tensorflow==2.12.0) (1.17.0)\n",
            "Requirement already satisfied: tensorboard<2.13,>=2.12 in /usr/local/lib/python3.11/dist-packages (from tensorflow==2.12.0) (2.12.3)\n",
            "Requirement already satisfied: tensorflow-estimator<2.13,>=2.12.0 in /usr/local/lib/python3.11/dist-packages (from tensorflow==2.12.0) (2.12.0)\n",
            "Requirement already satisfied: termcolor>=1.1.0 in /usr/local/lib/python3.11/dist-packages (from tensorflow==2.12.0) (2.5.0)\n",
            "Requirement already satisfied: typing-extensions>=3.6.6 in /usr/local/lib/python3.11/dist-packages (from tensorflow==2.12.0) (4.12.2)\n",
            "Requirement already satisfied: wrapt<1.15,>=1.11.0 in /usr/local/lib/python3.11/dist-packages (from tensorflow==2.12.0) (1.14.1)\n",
            "Requirement already satisfied: tensorflow-io-gcs-filesystem>=0.23.1 in /usr/local/lib/python3.11/dist-packages (from tensorflow==2.12.0) (0.37.1)\n",
            "Requirement already satisfied: wheel<1.0,>=0.23.0 in /usr/local/lib/python3.11/dist-packages (from astunparse>=1.6.0->tensorflow==2.12.0) (0.45.1)\n",
            "Requirement already satisfied: jaxlib<=0.4.30,>=0.4.27 in /usr/local/lib/python3.11/dist-packages (from jax>=0.3.15->tensorflow==2.12.0) (0.4.30)\n",
            "Requirement already satisfied: ml-dtypes>=0.2.0 in /usr/local/lib/python3.11/dist-packages (from jax>=0.3.15->tensorflow==2.12.0) (0.4.1)\n",
            "Requirement already satisfied: google-auth<3,>=1.6.3 in /usr/local/lib/python3.11/dist-packages (from tensorboard<2.13,>=2.12->tensorflow==2.12.0) (2.38.0)\n",
            "Requirement already satisfied: google-auth-oauthlib<1.1,>=0.5 in /usr/local/lib/python3.11/dist-packages (from tensorboard<2.13,>=2.12->tensorflow==2.12.0) (1.0.0)\n",
            "Requirement already satisfied: markdown>=2.6.8 in /usr/local/lib/python3.11/dist-packages (from tensorboard<2.13,>=2.12->tensorflow==2.12.0) (3.7)\n",
            "Requirement already satisfied: requests<3,>=2.21.0 in /usr/local/lib/python3.11/dist-packages (from tensorboard<2.13,>=2.12->tensorflow==2.12.0) (2.32.3)\n",
            "Requirement already satisfied: tensorboard-data-server<0.8.0,>=0.7.0 in /usr/local/lib/python3.11/dist-packages (from tensorboard<2.13,>=2.12->tensorflow==2.12.0) (0.7.2)\n",
            "Requirement already satisfied: werkzeug>=1.0.1 in /usr/local/lib/python3.11/dist-packages (from tensorboard<2.13,>=2.12->tensorflow==2.12.0) (3.1.3)\n",
            "Requirement already satisfied: cachetools<6.0,>=2.0.0 in /usr/local/lib/python3.11/dist-packages (from google-auth<3,>=1.6.3->tensorboard<2.13,>=2.12->tensorflow==2.12.0) (5.5.2)\n",
            "Requirement already satisfied: pyasn1-modules>=0.2.1 in /usr/local/lib/python3.11/dist-packages (from google-auth<3,>=1.6.3->tensorboard<2.13,>=2.12->tensorflow==2.12.0) (0.4.1)\n",
            "Requirement already satisfied: rsa<5,>=3.1.4 in /usr/local/lib/python3.11/dist-packages (from google-auth<3,>=1.6.3->tensorboard<2.13,>=2.12->tensorflow==2.12.0) (4.9)\n",
            "Requirement already satisfied: requests-oauthlib>=0.7.0 in /usr/local/lib/python3.11/dist-packages (from google-auth-oauthlib<1.1,>=0.5->tensorboard<2.13,>=2.12->tensorflow==2.12.0) (2.0.0)\n",
            "Requirement already satisfied: charset-normalizer<4,>=2 in /usr/local/lib/python3.11/dist-packages (from requests<3,>=2.21.0->tensorboard<2.13,>=2.12->tensorflow==2.12.0) (3.4.1)\n",
            "Requirement already satisfied: idna<4,>=2.5 in /usr/local/lib/python3.11/dist-packages (from requests<3,>=2.21.0->tensorboard<2.13,>=2.12->tensorflow==2.12.0) (3.10)\n",
            "Requirement already satisfied: urllib3<3,>=1.21.1 in /usr/local/lib/python3.11/dist-packages (from requests<3,>=2.21.0->tensorboard<2.13,>=2.12->tensorflow==2.12.0) (2.3.0)\n",
            "Requirement already satisfied: certifi>=2017.4.17 in /usr/local/lib/python3.11/dist-packages (from requests<3,>=2.21.0->tensorboard<2.13,>=2.12->tensorflow==2.12.0) (2025.1.31)\n",
            "Requirement already satisfied: MarkupSafe>=2.1.1 in /usr/local/lib/python3.11/dist-packages (from werkzeug>=1.0.1->tensorboard<2.13,>=2.12->tensorflow==2.12.0) (3.0.2)\n",
            "Requirement already satisfied: pyasn1<0.7.0,>=0.4.6 in /usr/local/lib/python3.11/dist-packages (from pyasn1-modules>=0.2.1->google-auth<3,>=1.6.3->tensorboard<2.13,>=2.12->tensorflow==2.12.0) (0.6.1)\n",
            "Requirement already satisfied: oauthlib>=3.0.0 in /usr/local/lib/python3.11/dist-packages (from requests-oauthlib>=0.7.0->google-auth-oauthlib<1.1,>=0.5->tensorboard<2.13,>=2.12->tensorflow==2.12.0) (3.2.2)\n",
            "\u001b[33mWARNING: Ignoring invalid distribution ~ensorflow (/usr/local/lib/python3.11/dist-packages)\u001b[0m\u001b[33m\n",
            "\u001b[0m\u001b[33mWARNING: Ignoring invalid distribution ~ensorflow (/usr/local/lib/python3.11/dist-packages)\u001b[0m\u001b[33m\n",
            "\u001b[0m"
          ]
        }
      ]
    },
    {
      "cell_type": "code",
      "source": [
        "!pip install matplotlib"
      ],
      "metadata": {
        "colab": {
          "base_uri": "https://localhost:8080/"
        },
        "id": "3S5wJvh6p_wf",
        "outputId": "1752283c-a0d3-4ec1-87d1-da6adb0b36cc"
      },
      "execution_count": 103,
      "outputs": [
        {
          "output_type": "stream",
          "name": "stdout",
          "text": [
            "\u001b[33mWARNING: Ignoring invalid distribution ~ensorflow (/usr/local/lib/python3.11/dist-packages)\u001b[0m\u001b[33m\n",
            "\u001b[0m\u001b[33mWARNING: Ignoring invalid distribution ~ensorflow (/usr/local/lib/python3.11/dist-packages)\u001b[0m\u001b[33m\n",
            "\u001b[0mRequirement already satisfied: matplotlib in /usr/local/lib/python3.11/dist-packages (3.10.1)\n",
            "Requirement already satisfied: contourpy>=1.0.1 in /usr/local/lib/python3.11/dist-packages (from matplotlib) (1.3.1)\n",
            "Requirement already satisfied: cycler>=0.10 in /usr/local/lib/python3.11/dist-packages (from matplotlib) (0.12.1)\n",
            "Requirement already satisfied: fonttools>=4.22.0 in /usr/local/lib/python3.11/dist-packages (from matplotlib) (4.56.0)\n",
            "Requirement already satisfied: kiwisolver>=1.3.1 in /usr/local/lib/python3.11/dist-packages (from matplotlib) (1.4.8)\n",
            "Requirement already satisfied: numpy>=1.23 in /usr/local/lib/python3.11/dist-packages (from matplotlib) (1.23.5)\n",
            "Requirement already satisfied: packaging>=20.0 in /usr/local/lib/python3.11/dist-packages (from matplotlib) (24.2)\n",
            "Requirement already satisfied: pillow>=8 in /usr/local/lib/python3.11/dist-packages (from matplotlib) (11.1.0)\n",
            "Requirement already satisfied: pyparsing>=2.3.1 in /usr/local/lib/python3.11/dist-packages (from matplotlib) (3.2.1)\n",
            "Requirement already satisfied: python-dateutil>=2.7 in /usr/local/lib/python3.11/dist-packages (from matplotlib) (2.8.2)\n",
            "Requirement already satisfied: six>=1.5 in /usr/local/lib/python3.11/dist-packages (from python-dateutil>=2.7->matplotlib) (1.17.0)\n",
            "\u001b[33mWARNING: Ignoring invalid distribution ~ensorflow (/usr/local/lib/python3.11/dist-packages)\u001b[0m\u001b[33m\n",
            "\u001b[0m\u001b[33mWARNING: Ignoring invalid distribution ~ensorflow (/usr/local/lib/python3.11/dist-packages)\u001b[0m\u001b[33m\n",
            "\u001b[0m"
          ]
        }
      ]
    },
    {
      "cell_type": "code",
      "source": [
        "import numpy as np\n",
        "import pandas as pd\n",
        "import tensorflow as tf\n",
        "import sklearn\n",
        "import matplotlib.pyplot as plt\n"
      ],
      "metadata": {
        "id": "0pFwr2elWOHG"
      },
      "execution_count": 104,
      "outputs": []
    },
    {
      "cell_type": "code",
      "source": [
        "import nltk\n",
        "import re\n",
        "from nltk.tokenize import word_tokenize\n",
        "from nltk.corpus import stopwords\n",
        "from nltk.stem import WordNetLemmatizer"
      ],
      "metadata": {
        "id": "d8forjEnWQyT"
      },
      "execution_count": 105,
      "outputs": []
    },
    {
      "cell_type": "code",
      "source": [
        "from tensorflow.keras.preprocessing.text import Tokenizer\n",
        "from tensorflow.keras.preprocessing.sequence import pad_sequences"
      ],
      "metadata": {
        "id": "ItkoJ5p6ay0U"
      },
      "execution_count": 106,
      "outputs": []
    },
    {
      "cell_type": "code",
      "source": [
        "!pip install tensorflow-addons\n",
        "import tensorflow_addons as tfa\n"
      ],
      "metadata": {
        "colab": {
          "base_uri": "https://localhost:8080/"
        },
        "id": "nKIxMSWuWTp0",
        "outputId": "0c02be7f-4240-4e81-9f4d-5cd7c8aa2964",
        "collapsed": true
      },
      "execution_count": 107,
      "outputs": [
        {
          "output_type": "stream",
          "name": "stdout",
          "text": [
            "\u001b[33mWARNING: Ignoring invalid distribution ~ensorflow (/usr/local/lib/python3.11/dist-packages)\u001b[0m\u001b[33m\n",
            "\u001b[0m\u001b[33mWARNING: Ignoring invalid distribution ~ensorflow (/usr/local/lib/python3.11/dist-packages)\u001b[0m\u001b[33m\n",
            "\u001b[0mRequirement already satisfied: tensorflow-addons in /usr/local/lib/python3.11/dist-packages (0.23.0)\n",
            "Requirement already satisfied: packaging in /usr/local/lib/python3.11/dist-packages (from tensorflow-addons) (24.2)\n",
            "Requirement already satisfied: typeguard<3.0.0,>=2.7 in /usr/local/lib/python3.11/dist-packages (from tensorflow-addons) (2.13.3)\n",
            "\u001b[33mWARNING: Ignoring invalid distribution ~ensorflow (/usr/local/lib/python3.11/dist-packages)\u001b[0m\u001b[33m\n",
            "\u001b[0m\u001b[33mWARNING: Ignoring invalid distribution ~ensorflow (/usr/local/lib/python3.11/dist-packages)\u001b[0m\u001b[33m\n",
            "\u001b[0m"
          ]
        }
      ]
    },
    {
      "cell_type": "code",
      "source": [
        "import gensim.downloader as api\n",
        "\n",
        "# Load a smaller GloVe model (50D instead of 300D)\n",
        "glove_model = api.load('glove-wiki-gigaword-50')\n",
        "from gensim.models import FastText"
      ],
      "metadata": {
        "id": "y4JOuRsJBv2r"
      },
      "execution_count": 109,
      "outputs": []
    },
    {
      "cell_type": "code",
      "source": [
        "from sklearn.compose import ColumnTransformer\n",
        "from sklearn.preprocessing import OneHotEncoder\n",
        "from sklearn.preprocessing import StandardScaler\n",
        "from sklearn.model_selection import train_test_split\n"
      ],
      "metadata": {
        "id": "6_ZyIyiDWV6R"
      },
      "execution_count": 110,
      "outputs": []
    },
    {
      "cell_type": "code",
      "source": [
        "from sklearn.metrics import accuracy_score, precision_score, f1_score, recall_score, confusion_matrix, precision_recall_curve"
      ],
      "metadata": {
        "id": "QarzjQyuaGFO"
      },
      "execution_count": 111,
      "outputs": []
    },
    {
      "cell_type": "code",
      "source": [
        "!pip install tensorflow-addons\n",
        "import tensorflow_addons as tfa"
      ],
      "metadata": {
        "colab": {
          "base_uri": "https://localhost:8080/"
        },
        "id": "idS92_d0Zs6C",
        "outputId": "b76b538b-ac52-4d44-8845-caaab92b59fb"
      },
      "execution_count": 112,
      "outputs": [
        {
          "output_type": "stream",
          "name": "stdout",
          "text": [
            "\u001b[33mWARNING: Ignoring invalid distribution ~ensorflow (/usr/local/lib/python3.11/dist-packages)\u001b[0m\u001b[33m\n",
            "\u001b[0m\u001b[33mWARNING: Ignoring invalid distribution ~ensorflow (/usr/local/lib/python3.11/dist-packages)\u001b[0m\u001b[33m\n",
            "\u001b[0mRequirement already satisfied: tensorflow-addons in /usr/local/lib/python3.11/dist-packages (0.23.0)\n",
            "Requirement already satisfied: packaging in /usr/local/lib/python3.11/dist-packages (from tensorflow-addons) (24.2)\n",
            "Requirement already satisfied: typeguard<3.0.0,>=2.7 in /usr/local/lib/python3.11/dist-packages (from tensorflow-addons) (2.13.3)\n",
            "\u001b[33mWARNING: Ignoring invalid distribution ~ensorflow (/usr/local/lib/python3.11/dist-packages)\u001b[0m\u001b[33m\n",
            "\u001b[0m\u001b[33mWARNING: Ignoring invalid distribution ~ensorflow (/usr/local/lib/python3.11/dist-packages)\u001b[0m\u001b[33m\n",
            "\u001b[0m"
          ]
        }
      ]
    },
    {
      "cell_type": "code",
      "source": [
        "from tensorflow.keras.models import Model\n",
        "from tensorflow.keras.layers import Input, Dense, Dropout, BatchNormalization\n",
        "\n",
        "from tensorflow.keras.models import Sequential\n",
        "from tensorflow.keras.layers import LSTM"
      ],
      "metadata": {
        "id": "_-DUwoT7Wazz"
      },
      "execution_count": 113,
      "outputs": []
    },
    {
      "cell_type": "code",
      "source": [
        "# Upgrade pip to avoid version conflicts\n",
        "!pip install --upgrade pip\n",
        "\n",
        "# Core Data Science & ML Libraries\n",
        "!pip install numpy pandas matplotlib seaborn scikit-learn scipy\n",
        "\n",
        "# NLP-Specific Libraries\n",
        "!pip install nltk spacy transformers datasets sentencepiece\n",
        "!python -m spacy download en_core_web_sm  # Download English model for spaCy\n",
        "\n",
        "# Deep Learning Frameworks (Ensure Compatibility)\n",
        "!pip install torch torchvision torchaudio --index-url https://download.pytorch.org/whl/cpu\n",
        "!pip install tensorflow keras\n",
        "\n",
        "# Word Embeddings (GloVe, Word2Vec, FastText)\n",
        "!pip install gensim\n",
        "\n",
        "# Utilities\n",
        "!pip install tqdm joblib\n",
        "\n",
        "# Ensure all installations are properly set\n",
        "import numpy as np\n",
        "import pandas as pd\n",
        "import matplotlib.pyplot as plt\n",
        "import seaborn as sns\n",
        "import torch\n",
        "import tensorflow as tf\n",
        "import nltk\n",
        "import spacy\n",
        "import transformers\n",
        "import gensim\n",
        "import sklearn\n"
      ],
      "metadata": {
        "colab": {
          "base_uri": "https://localhost:8080/"
        },
        "id": "N-essDbqWj2I",
        "outputId": "262f80ae-44dc-41dd-a445-34d257ad9078",
        "collapsed": true
      },
      "execution_count": 114,
      "outputs": [
        {
          "output_type": "stream",
          "name": "stdout",
          "text": [
            "\u001b[33mWARNING: Ignoring invalid distribution ~ensorflow (/usr/local/lib/python3.11/dist-packages)\u001b[0m\u001b[33m\n",
            "\u001b[0m\u001b[33mWARNING: Ignoring invalid distribution ~ensorflow (/usr/local/lib/python3.11/dist-packages)\u001b[0m\u001b[33m\n",
            "\u001b[0mRequirement already satisfied: pip in /usr/local/lib/python3.11/dist-packages (25.0.1)\n",
            "\u001b[33mWARNING: Ignoring invalid distribution ~ensorflow (/usr/local/lib/python3.11/dist-packages)\u001b[0m\u001b[33m\n",
            "\u001b[0m\u001b[33mWARNING: Ignoring invalid distribution ~ensorflow (/usr/local/lib/python3.11/dist-packages)\u001b[0m\u001b[33m\n",
            "\u001b[0m\u001b[33mWARNING: Ignoring invalid distribution ~ensorflow (/usr/local/lib/python3.11/dist-packages)\u001b[0m\u001b[33m\n",
            "\u001b[0m\u001b[33mWARNING: Ignoring invalid distribution ~ensorflow (/usr/local/lib/python3.11/dist-packages)\u001b[0m\u001b[33m\n",
            "\u001b[0mRequirement already satisfied: numpy in /usr/local/lib/python3.11/dist-packages (1.23.5)\n",
            "Requirement already satisfied: pandas in /usr/local/lib/python3.11/dist-packages (1.5.3)\n",
            "Requirement already satisfied: matplotlib in /usr/local/lib/python3.11/dist-packages (3.10.1)\n",
            "Requirement already satisfied: seaborn in /usr/local/lib/python3.11/dist-packages (0.13.2)\n",
            "Requirement already satisfied: scikit-learn in /usr/local/lib/python3.11/dist-packages (1.2.2)\n",
            "Requirement already satisfied: scipy in /usr/local/lib/python3.11/dist-packages (1.13.1)\n",
            "Requirement already satisfied: python-dateutil>=2.8.1 in /usr/local/lib/python3.11/dist-packages (from pandas) (2.8.2)\n",
            "Requirement already satisfied: pytz>=2020.1 in /usr/local/lib/python3.11/dist-packages (from pandas) (2025.1)\n",
            "Requirement already satisfied: contourpy>=1.0.1 in /usr/local/lib/python3.11/dist-packages (from matplotlib) (1.3.1)\n",
            "Requirement already satisfied: cycler>=0.10 in /usr/local/lib/python3.11/dist-packages (from matplotlib) (0.12.1)\n",
            "Requirement already satisfied: fonttools>=4.22.0 in /usr/local/lib/python3.11/dist-packages (from matplotlib) (4.56.0)\n",
            "Requirement already satisfied: kiwisolver>=1.3.1 in /usr/local/lib/python3.11/dist-packages (from matplotlib) (1.4.8)\n",
            "Requirement already satisfied: packaging>=20.0 in /usr/local/lib/python3.11/dist-packages (from matplotlib) (24.2)\n",
            "Requirement already satisfied: pillow>=8 in /usr/local/lib/python3.11/dist-packages (from matplotlib) (11.1.0)\n",
            "Requirement already satisfied: pyparsing>=2.3.1 in /usr/local/lib/python3.11/dist-packages (from matplotlib) (3.2.1)\n",
            "Requirement already satisfied: joblib>=1.1.1 in /usr/local/lib/python3.11/dist-packages (from scikit-learn) (1.4.2)\n",
            "Requirement already satisfied: threadpoolctl>=2.0.0 in /usr/local/lib/python3.11/dist-packages (from scikit-learn) (3.6.0)\n",
            "Requirement already satisfied: six>=1.5 in /usr/local/lib/python3.11/dist-packages (from python-dateutil>=2.8.1->pandas) (1.17.0)\n",
            "\u001b[33mWARNING: Ignoring invalid distribution ~ensorflow (/usr/local/lib/python3.11/dist-packages)\u001b[0m\u001b[33m\n",
            "\u001b[0m\u001b[33mWARNING: Ignoring invalid distribution ~ensorflow (/usr/local/lib/python3.11/dist-packages)\u001b[0m\u001b[33m\n",
            "\u001b[0m\u001b[33mWARNING: Ignoring invalid distribution ~ensorflow (/usr/local/lib/python3.11/dist-packages)\u001b[0m\u001b[33m\n",
            "\u001b[0m\u001b[33mWARNING: Ignoring invalid distribution ~ensorflow (/usr/local/lib/python3.11/dist-packages)\u001b[0m\u001b[33m\n",
            "\u001b[0mRequirement already satisfied: nltk in /usr/local/lib/python3.11/dist-packages (3.9.1)\n",
            "Requirement already satisfied: spacy in /usr/local/lib/python3.11/dist-packages (3.8.4)\n",
            "Requirement already satisfied: transformers in /usr/local/lib/python3.11/dist-packages (4.49.0)\n",
            "Requirement already satisfied: datasets in /usr/local/lib/python3.11/dist-packages (3.4.1)\n",
            "Requirement already satisfied: sentencepiece in /usr/local/lib/python3.11/dist-packages (0.2.0)\n",
            "Requirement already satisfied: click in /usr/local/lib/python3.11/dist-packages (from nltk) (8.1.8)\n",
            "Requirement already satisfied: joblib in /usr/local/lib/python3.11/dist-packages (from nltk) (1.4.2)\n",
            "Requirement already satisfied: regex>=2021.8.3 in /usr/local/lib/python3.11/dist-packages (from nltk) (2024.11.6)\n",
            "Requirement already satisfied: tqdm in /usr/local/lib/python3.11/dist-packages (from nltk) (4.67.1)\n",
            "Requirement already satisfied: spacy-legacy<3.1.0,>=3.0.11 in /usr/local/lib/python3.11/dist-packages (from spacy) (3.0.12)\n",
            "Requirement already satisfied: spacy-loggers<2.0.0,>=1.0.0 in /usr/local/lib/python3.11/dist-packages (from spacy) (1.0.5)\n",
            "Requirement already satisfied: murmurhash<1.1.0,>=0.28.0 in /usr/local/lib/python3.11/dist-packages (from spacy) (1.0.12)\n",
            "Requirement already satisfied: cymem<2.1.0,>=2.0.2 in /usr/local/lib/python3.11/dist-packages (from spacy) (2.0.11)\n",
            "Requirement already satisfied: preshed<3.1.0,>=3.0.2 in /usr/local/lib/python3.11/dist-packages (from spacy) (3.0.9)\n",
            "Requirement already satisfied: thinc<8.4.0,>=8.3.4 in /usr/local/lib/python3.11/dist-packages (from spacy) (8.3.4)\n",
            "Requirement already satisfied: wasabi<1.2.0,>=0.9.1 in /usr/local/lib/python3.11/dist-packages (from spacy) (1.1.3)\n",
            "Requirement already satisfied: srsly<3.0.0,>=2.4.3 in /usr/local/lib/python3.11/dist-packages (from spacy) (2.5.1)\n",
            "Requirement already satisfied: catalogue<2.1.0,>=2.0.6 in /usr/local/lib/python3.11/dist-packages (from spacy) (2.0.10)\n",
            "Requirement already satisfied: weasel<0.5.0,>=0.1.0 in /usr/local/lib/python3.11/dist-packages (from spacy) (0.4.1)\n",
            "Requirement already satisfied: typer<1.0.0,>=0.3.0 in /usr/local/lib/python3.11/dist-packages (from spacy) (0.15.2)\n",
            "Requirement already satisfied: numpy>=1.19.0 in /usr/local/lib/python3.11/dist-packages (from spacy) (1.23.5)\n",
            "Requirement already satisfied: requests<3.0.0,>=2.13.0 in /usr/local/lib/python3.11/dist-packages (from spacy) (2.32.3)\n",
            "Requirement already satisfied: pydantic!=1.8,!=1.8.1,<3.0.0,>=1.7.4 in /usr/local/lib/python3.11/dist-packages (from spacy) (2.10.6)\n",
            "Requirement already satisfied: jinja2 in /usr/local/lib/python3.11/dist-packages (from spacy) (3.1.6)\n",
            "Requirement already satisfied: setuptools in /usr/local/lib/python3.11/dist-packages (from spacy) (75.1.0)\n",
            "Requirement already satisfied: packaging>=20.0 in /usr/local/lib/python3.11/dist-packages (from spacy) (24.2)\n",
            "Requirement already satisfied: langcodes<4.0.0,>=3.2.0 in /usr/local/lib/python3.11/dist-packages (from spacy) (3.5.0)\n",
            "Requirement already satisfied: filelock in /usr/local/lib/python3.11/dist-packages (from transformers) (3.18.0)\n",
            "Requirement already satisfied: huggingface-hub<1.0,>=0.26.0 in /usr/local/lib/python3.11/dist-packages (from transformers) (0.29.3)\n",
            "Requirement already satisfied: pyyaml>=5.1 in /usr/local/lib/python3.11/dist-packages (from transformers) (6.0.2)\n",
            "Requirement already satisfied: tokenizers<0.22,>=0.21 in /usr/local/lib/python3.11/dist-packages (from transformers) (0.21.1)\n",
            "Requirement already satisfied: safetensors>=0.4.1 in /usr/local/lib/python3.11/dist-packages (from transformers) (0.5.3)\n",
            "Requirement already satisfied: pyarrow>=15.0.0 in /usr/local/lib/python3.11/dist-packages (from datasets) (18.1.0)\n",
            "Requirement already satisfied: dill<0.3.9,>=0.3.0 in /usr/local/lib/python3.11/dist-packages (from datasets) (0.3.8)\n",
            "Requirement already satisfied: pandas in /usr/local/lib/python3.11/dist-packages (from datasets) (1.5.3)\n",
            "Requirement already satisfied: xxhash in /usr/local/lib/python3.11/dist-packages (from datasets) (3.5.0)\n",
            "Requirement already satisfied: multiprocess<0.70.17 in /usr/local/lib/python3.11/dist-packages (from datasets) (0.70.16)\n",
            "Requirement already satisfied: fsspec<=2024.12.0,>=2023.1.0 in /usr/local/lib/python3.11/dist-packages (from fsspec[http]<=2024.12.0,>=2023.1.0->datasets) (2024.12.0)\n",
            "Requirement already satisfied: aiohttp in /usr/local/lib/python3.11/dist-packages (from datasets) (3.11.14)\n",
            "Requirement already satisfied: aiohappyeyeballs>=2.3.0 in /usr/local/lib/python3.11/dist-packages (from aiohttp->datasets) (2.6.1)\n",
            "Requirement already satisfied: aiosignal>=1.1.2 in /usr/local/lib/python3.11/dist-packages (from aiohttp->datasets) (1.3.2)\n",
            "Requirement already satisfied: attrs>=17.3.0 in /usr/local/lib/python3.11/dist-packages (from aiohttp->datasets) (25.3.0)\n",
            "Requirement already satisfied: frozenlist>=1.1.1 in /usr/local/lib/python3.11/dist-packages (from aiohttp->datasets) (1.5.0)\n",
            "Requirement already satisfied: multidict<7.0,>=4.5 in /usr/local/lib/python3.11/dist-packages (from aiohttp->datasets) (6.2.0)\n",
            "Requirement already satisfied: propcache>=0.2.0 in /usr/local/lib/python3.11/dist-packages (from aiohttp->datasets) (0.3.0)\n",
            "Requirement already satisfied: yarl<2.0,>=1.17.0 in /usr/local/lib/python3.11/dist-packages (from aiohttp->datasets) (1.18.3)\n",
            "Requirement already satisfied: typing-extensions>=3.7.4.3 in /usr/local/lib/python3.11/dist-packages (from huggingface-hub<1.0,>=0.26.0->transformers) (4.12.2)\n",
            "Requirement already satisfied: language-data>=1.2 in /usr/local/lib/python3.11/dist-packages (from langcodes<4.0.0,>=3.2.0->spacy) (1.3.0)\n",
            "Requirement already satisfied: annotated-types>=0.6.0 in /usr/local/lib/python3.11/dist-packages (from pydantic!=1.8,!=1.8.1,<3.0.0,>=1.7.4->spacy) (0.7.0)\n",
            "Requirement already satisfied: pydantic-core==2.27.2 in /usr/local/lib/python3.11/dist-packages (from pydantic!=1.8,!=1.8.1,<3.0.0,>=1.7.4->spacy) (2.27.2)\n",
            "Requirement already satisfied: charset-normalizer<4,>=2 in /usr/local/lib/python3.11/dist-packages (from requests<3.0.0,>=2.13.0->spacy) (3.4.1)\n",
            "Requirement already satisfied: idna<4,>=2.5 in /usr/local/lib/python3.11/dist-packages (from requests<3.0.0,>=2.13.0->spacy) (3.10)\n",
            "Requirement already satisfied: urllib3<3,>=1.21.1 in /usr/local/lib/python3.11/dist-packages (from requests<3.0.0,>=2.13.0->spacy) (2.3.0)\n",
            "Requirement already satisfied: certifi>=2017.4.17 in /usr/local/lib/python3.11/dist-packages (from requests<3.0.0,>=2.13.0->spacy) (2025.1.31)\n",
            "Requirement already satisfied: blis<1.3.0,>=1.2.0 in /usr/local/lib/python3.11/dist-packages (from thinc<8.4.0,>=8.3.4->spacy) (1.2.0)\n",
            "Requirement already satisfied: confection<1.0.0,>=0.0.1 in /usr/local/lib/python3.11/dist-packages (from thinc<8.4.0,>=8.3.4->spacy) (0.1.5)\n",
            "Requirement already satisfied: shellingham>=1.3.0 in /usr/local/lib/python3.11/dist-packages (from typer<1.0.0,>=0.3.0->spacy) (1.5.4)\n",
            "Requirement already satisfied: rich>=10.11.0 in /usr/local/lib/python3.11/dist-packages (from typer<1.0.0,>=0.3.0->spacy) (13.9.4)\n",
            "Requirement already satisfied: cloudpathlib<1.0.0,>=0.7.0 in /usr/local/lib/python3.11/dist-packages (from weasel<0.5.0,>=0.1.0->spacy) (0.21.0)\n",
            "Requirement already satisfied: smart-open<8.0.0,>=5.2.1 in /usr/local/lib/python3.11/dist-packages (from weasel<0.5.0,>=0.1.0->spacy) (7.1.0)\n",
            "Requirement already satisfied: MarkupSafe>=2.0 in /usr/local/lib/python3.11/dist-packages (from jinja2->spacy) (3.0.2)\n",
            "Requirement already satisfied: python-dateutil>=2.8.1 in /usr/local/lib/python3.11/dist-packages (from pandas->datasets) (2.8.2)\n",
            "Requirement already satisfied: pytz>=2020.1 in /usr/local/lib/python3.11/dist-packages (from pandas->datasets) (2025.1)\n",
            "Requirement already satisfied: marisa-trie>=1.1.0 in /usr/local/lib/python3.11/dist-packages (from language-data>=1.2->langcodes<4.0.0,>=3.2.0->spacy) (1.2.1)\n",
            "Requirement already satisfied: six>=1.5 in /usr/local/lib/python3.11/dist-packages (from python-dateutil>=2.8.1->pandas->datasets) (1.17.0)\n",
            "Requirement already satisfied: markdown-it-py>=2.2.0 in /usr/local/lib/python3.11/dist-packages (from rich>=10.11.0->typer<1.0.0,>=0.3.0->spacy) (3.0.0)\n",
            "Requirement already satisfied: pygments<3.0.0,>=2.13.0 in /usr/local/lib/python3.11/dist-packages (from rich>=10.11.0->typer<1.0.0,>=0.3.0->spacy) (2.18.0)\n",
            "Requirement already satisfied: wrapt in /usr/local/lib/python3.11/dist-packages (from smart-open<8.0.0,>=5.2.1->weasel<0.5.0,>=0.1.0->spacy) (1.14.1)\n",
            "Requirement already satisfied: mdurl~=0.1 in /usr/local/lib/python3.11/dist-packages (from markdown-it-py>=2.2.0->rich>=10.11.0->typer<1.0.0,>=0.3.0->spacy) (0.1.2)\n",
            "\u001b[33mWARNING: Ignoring invalid distribution ~ensorflow (/usr/local/lib/python3.11/dist-packages)\u001b[0m\u001b[33m\n",
            "\u001b[0m\u001b[33mWARNING: Ignoring invalid distribution ~ensorflow (/usr/local/lib/python3.11/dist-packages)\u001b[0m\u001b[33m\n",
            "\u001b[0m\u001b[33mWARNING: Ignoring invalid distribution ~ensorflow (/usr/local/lib/python3.11/dist-packages)\u001b[0m\u001b[33m\n",
            "\u001b[0m\u001b[33mWARNING: Ignoring invalid distribution ~ensorflow (/usr/local/lib/python3.11/dist-packages)\u001b[0m\u001b[33m\n",
            "\u001b[0mCollecting en-core-web-sm==3.8.0\n",
            "  Downloading https://github.com/explosion/spacy-models/releases/download/en_core_web_sm-3.8.0/en_core_web_sm-3.8.0-py3-none-any.whl (12.8 MB)\n",
            "\u001b[2K     \u001b[90m━━━━━━━━━━━━━━━━━━━━━━━━━━━━━━━━━━━━━━━━\u001b[0m \u001b[32m12.8/12.8 MB\u001b[0m \u001b[31m53.0 MB/s\u001b[0m eta \u001b[36m0:00:00\u001b[0m\n",
            "\u001b[?25h\u001b[33mWARNING: Ignoring invalid distribution ~ensorflow (/usr/local/lib/python3.11/dist-packages)\u001b[0m\u001b[33m\n",
            "\u001b[0m\u001b[33mWARNING: Ignoring invalid distribution ~ensorflow (/usr/local/lib/python3.11/dist-packages)\u001b[0m\u001b[33m\n",
            "\u001b[0m\u001b[38;5;2m✔ Download and installation successful\u001b[0m\n",
            "You can now load the package via spacy.load('en_core_web_sm')\n",
            "\u001b[38;5;3m⚠ Restart to reload dependencies\u001b[0m\n",
            "If you are in a Jupyter or Colab notebook, you may need to restart Python in\n",
            "order to load all the package's dependencies. You can do this by selecting the\n",
            "'Restart kernel' or 'Restart runtime' option.\n",
            "\u001b[33mWARNING: Ignoring invalid distribution ~ensorflow (/usr/local/lib/python3.11/dist-packages)\u001b[0m\u001b[33m\n",
            "\u001b[0m\u001b[33mWARNING: Ignoring invalid distribution ~ensorflow (/usr/local/lib/python3.11/dist-packages)\u001b[0m\u001b[33m\n",
            "\u001b[0mLooking in indexes: https://download.pytorch.org/whl/cpu\n",
            "Requirement already satisfied: torch in /usr/local/lib/python3.11/dist-packages (2.6.0+cpu)\n",
            "Requirement already satisfied: torchvision in /usr/local/lib/python3.11/dist-packages (0.21.0+cu124)\n",
            "Requirement already satisfied: torchaudio in /usr/local/lib/python3.11/dist-packages (2.6.0+cu124)\n",
            "Requirement already satisfied: filelock in /usr/local/lib/python3.11/dist-packages (from torch) (3.18.0)\n",
            "Requirement already satisfied: typing-extensions>=4.10.0 in /usr/local/lib/python3.11/dist-packages (from torch) (4.12.2)\n",
            "Requirement already satisfied: networkx in /usr/local/lib/python3.11/dist-packages (from torch) (3.4.2)\n",
            "Requirement already satisfied: jinja2 in /usr/local/lib/python3.11/dist-packages (from torch) (3.1.6)\n",
            "Requirement already satisfied: fsspec in /usr/local/lib/python3.11/dist-packages (from torch) (2024.12.0)\n",
            "Requirement already satisfied: sympy==1.13.1 in /usr/local/lib/python3.11/dist-packages (from torch) (1.13.1)\n",
            "Requirement already satisfied: mpmath<1.4,>=1.1.0 in /usr/local/lib/python3.11/dist-packages (from sympy==1.13.1->torch) (1.3.0)\n",
            "Requirement already satisfied: numpy in /usr/local/lib/python3.11/dist-packages (from torchvision) (1.23.5)\n",
            "Requirement already satisfied: pillow!=8.3.*,>=5.3.0 in /usr/local/lib/python3.11/dist-packages (from torchvision) (11.1.0)\n",
            "Requirement already satisfied: MarkupSafe>=2.0 in /usr/local/lib/python3.11/dist-packages (from jinja2->torch) (3.0.2)\n",
            "\u001b[33mWARNING: Ignoring invalid distribution ~ensorflow (/usr/local/lib/python3.11/dist-packages)\u001b[0m\u001b[33m\n",
            "\u001b[0m\u001b[33mWARNING: Ignoring invalid distribution ~ensorflow (/usr/local/lib/python3.11/dist-packages)\u001b[0m\u001b[33m\n",
            "\u001b[0m\u001b[33mWARNING: Ignoring invalid distribution ~ensorflow (/usr/local/lib/python3.11/dist-packages)\u001b[0m\u001b[33m\n",
            "\u001b[0m\u001b[33mWARNING: Ignoring invalid distribution ~ensorflow (/usr/local/lib/python3.11/dist-packages)\u001b[0m\u001b[33m\n",
            "\u001b[0mRequirement already satisfied: tensorflow in /usr/local/lib/python3.11/dist-packages (2.12.0)\n",
            "Requirement already satisfied: keras in /usr/local/lib/python3.11/dist-packages (2.12.0)\n",
            "Requirement already satisfied: absl-py>=1.0.0 in /usr/local/lib/python3.11/dist-packages (from tensorflow) (1.4.0)\n",
            "Requirement already satisfied: astunparse>=1.6.0 in /usr/local/lib/python3.11/dist-packages (from tensorflow) (1.6.3)\n",
            "Requirement already satisfied: flatbuffers>=2.0 in /usr/local/lib/python3.11/dist-packages (from tensorflow) (25.2.10)\n",
            "Requirement already satisfied: gast<=0.4.0,>=0.2.1 in /usr/local/lib/python3.11/dist-packages (from tensorflow) (0.4.0)\n",
            "Requirement already satisfied: google-pasta>=0.1.1 in /usr/local/lib/python3.11/dist-packages (from tensorflow) (0.2.0)\n",
            "Requirement already satisfied: grpcio<2.0,>=1.24.3 in /usr/local/lib/python3.11/dist-packages (from tensorflow) (1.71.0)\n",
            "Requirement already satisfied: h5py>=2.9.0 in /usr/local/lib/python3.11/dist-packages (from tensorflow) (3.13.0)\n",
            "Requirement already satisfied: jax>=0.3.15 in /usr/local/lib/python3.11/dist-packages (from tensorflow) (0.4.30)\n",
            "Requirement already satisfied: libclang>=13.0.0 in /usr/local/lib/python3.11/dist-packages (from tensorflow) (18.1.1)\n",
            "Requirement already satisfied: numpy<1.24,>=1.22 in /usr/local/lib/python3.11/dist-packages (from tensorflow) (1.23.5)\n",
            "Requirement already satisfied: opt-einsum>=2.3.2 in /usr/local/lib/python3.11/dist-packages (from tensorflow) (3.4.0)\n",
            "Requirement already satisfied: packaging in /usr/local/lib/python3.11/dist-packages (from tensorflow) (24.2)\n",
            "Requirement already satisfied: protobuf!=4.21.0,!=4.21.1,!=4.21.2,!=4.21.3,!=4.21.4,!=4.21.5,<5.0.0dev,>=3.20.3 in /usr/local/lib/python3.11/dist-packages (from tensorflow) (4.25.6)\n",
            "Requirement already satisfied: setuptools in /usr/local/lib/python3.11/dist-packages (from tensorflow) (75.1.0)\n",
            "Requirement already satisfied: six>=1.12.0 in /usr/local/lib/python3.11/dist-packages (from tensorflow) (1.17.0)\n",
            "Requirement already satisfied: tensorboard<2.13,>=2.12 in /usr/local/lib/python3.11/dist-packages (from tensorflow) (2.12.3)\n",
            "Requirement already satisfied: tensorflow-estimator<2.13,>=2.12.0 in /usr/local/lib/python3.11/dist-packages (from tensorflow) (2.12.0)\n",
            "Requirement already satisfied: termcolor>=1.1.0 in /usr/local/lib/python3.11/dist-packages (from tensorflow) (2.5.0)\n",
            "Requirement already satisfied: typing-extensions>=3.6.6 in /usr/local/lib/python3.11/dist-packages (from tensorflow) (4.12.2)\n",
            "Requirement already satisfied: wrapt<1.15,>=1.11.0 in /usr/local/lib/python3.11/dist-packages (from tensorflow) (1.14.1)\n",
            "Requirement already satisfied: tensorflow-io-gcs-filesystem>=0.23.1 in /usr/local/lib/python3.11/dist-packages (from tensorflow) (0.37.1)\n",
            "Requirement already satisfied: wheel<1.0,>=0.23.0 in /usr/local/lib/python3.11/dist-packages (from astunparse>=1.6.0->tensorflow) (0.45.1)\n",
            "Requirement already satisfied: jaxlib<=0.4.30,>=0.4.27 in /usr/local/lib/python3.11/dist-packages (from jax>=0.3.15->tensorflow) (0.4.30)\n",
            "Requirement already satisfied: ml-dtypes>=0.2.0 in /usr/local/lib/python3.11/dist-packages (from jax>=0.3.15->tensorflow) (0.4.1)\n",
            "Requirement already satisfied: scipy>=1.9 in /usr/local/lib/python3.11/dist-packages (from jax>=0.3.15->tensorflow) (1.13.1)\n",
            "Requirement already satisfied: google-auth<3,>=1.6.3 in /usr/local/lib/python3.11/dist-packages (from tensorboard<2.13,>=2.12->tensorflow) (2.38.0)\n",
            "Requirement already satisfied: google-auth-oauthlib<1.1,>=0.5 in /usr/local/lib/python3.11/dist-packages (from tensorboard<2.13,>=2.12->tensorflow) (1.0.0)\n",
            "Requirement already satisfied: markdown>=2.6.8 in /usr/local/lib/python3.11/dist-packages (from tensorboard<2.13,>=2.12->tensorflow) (3.7)\n",
            "Requirement already satisfied: requests<3,>=2.21.0 in /usr/local/lib/python3.11/dist-packages (from tensorboard<2.13,>=2.12->tensorflow) (2.32.3)\n",
            "Requirement already satisfied: tensorboard-data-server<0.8.0,>=0.7.0 in /usr/local/lib/python3.11/dist-packages (from tensorboard<2.13,>=2.12->tensorflow) (0.7.2)\n",
            "Requirement already satisfied: werkzeug>=1.0.1 in /usr/local/lib/python3.11/dist-packages (from tensorboard<2.13,>=2.12->tensorflow) (3.1.3)\n",
            "Requirement already satisfied: cachetools<6.0,>=2.0.0 in /usr/local/lib/python3.11/dist-packages (from google-auth<3,>=1.6.3->tensorboard<2.13,>=2.12->tensorflow) (5.5.2)\n",
            "Requirement already satisfied: pyasn1-modules>=0.2.1 in /usr/local/lib/python3.11/dist-packages (from google-auth<3,>=1.6.3->tensorboard<2.13,>=2.12->tensorflow) (0.4.1)\n",
            "Requirement already satisfied: rsa<5,>=3.1.4 in /usr/local/lib/python3.11/dist-packages (from google-auth<3,>=1.6.3->tensorboard<2.13,>=2.12->tensorflow) (4.9)\n",
            "Requirement already satisfied: requests-oauthlib>=0.7.0 in /usr/local/lib/python3.11/dist-packages (from google-auth-oauthlib<1.1,>=0.5->tensorboard<2.13,>=2.12->tensorflow) (2.0.0)\n",
            "Requirement already satisfied: charset-normalizer<4,>=2 in /usr/local/lib/python3.11/dist-packages (from requests<3,>=2.21.0->tensorboard<2.13,>=2.12->tensorflow) (3.4.1)\n",
            "Requirement already satisfied: idna<4,>=2.5 in /usr/local/lib/python3.11/dist-packages (from requests<3,>=2.21.0->tensorboard<2.13,>=2.12->tensorflow) (3.10)\n",
            "Requirement already satisfied: urllib3<3,>=1.21.1 in /usr/local/lib/python3.11/dist-packages (from requests<3,>=2.21.0->tensorboard<2.13,>=2.12->tensorflow) (2.3.0)\n",
            "Requirement already satisfied: certifi>=2017.4.17 in /usr/local/lib/python3.11/dist-packages (from requests<3,>=2.21.0->tensorboard<2.13,>=2.12->tensorflow) (2025.1.31)\n",
            "Requirement already satisfied: MarkupSafe>=2.1.1 in /usr/local/lib/python3.11/dist-packages (from werkzeug>=1.0.1->tensorboard<2.13,>=2.12->tensorflow) (3.0.2)\n",
            "Requirement already satisfied: pyasn1<0.7.0,>=0.4.6 in /usr/local/lib/python3.11/dist-packages (from pyasn1-modules>=0.2.1->google-auth<3,>=1.6.3->tensorboard<2.13,>=2.12->tensorflow) (0.6.1)\n",
            "Requirement already satisfied: oauthlib>=3.0.0 in /usr/local/lib/python3.11/dist-packages (from requests-oauthlib>=0.7.0->google-auth-oauthlib<1.1,>=0.5->tensorboard<2.13,>=2.12->tensorflow) (3.2.2)\n",
            "\u001b[33mWARNING: Ignoring invalid distribution ~ensorflow (/usr/local/lib/python3.11/dist-packages)\u001b[0m\u001b[33m\n",
            "\u001b[0m\u001b[33mWARNING: Ignoring invalid distribution ~ensorflow (/usr/local/lib/python3.11/dist-packages)\u001b[0m\u001b[33m\n",
            "\u001b[0m\u001b[33mWARNING: Ignoring invalid distribution ~ensorflow (/usr/local/lib/python3.11/dist-packages)\u001b[0m\u001b[33m\n",
            "\u001b[0m\u001b[33mWARNING: Ignoring invalid distribution ~ensorflow (/usr/local/lib/python3.11/dist-packages)\u001b[0m\u001b[33m\n",
            "\u001b[0mRequirement already satisfied: gensim in /usr/local/lib/python3.11/dist-packages (4.3.3)\n",
            "Requirement already satisfied: numpy<2.0,>=1.18.5 in /usr/local/lib/python3.11/dist-packages (from gensim) (1.23.5)\n",
            "Requirement already satisfied: scipy<1.14.0,>=1.7.0 in /usr/local/lib/python3.11/dist-packages (from gensim) (1.13.1)\n",
            "Requirement already satisfied: smart-open>=1.8.1 in /usr/local/lib/python3.11/dist-packages (from gensim) (7.1.0)\n",
            "Requirement already satisfied: wrapt in /usr/local/lib/python3.11/dist-packages (from smart-open>=1.8.1->gensim) (1.14.1)\n",
            "\u001b[33mWARNING: Ignoring invalid distribution ~ensorflow (/usr/local/lib/python3.11/dist-packages)\u001b[0m\u001b[33m\n",
            "\u001b[0m\u001b[33mWARNING: Ignoring invalid distribution ~ensorflow (/usr/local/lib/python3.11/dist-packages)\u001b[0m\u001b[33m\n",
            "\u001b[0m\u001b[33mWARNING: Ignoring invalid distribution ~ensorflow (/usr/local/lib/python3.11/dist-packages)\u001b[0m\u001b[33m\n",
            "\u001b[0m\u001b[33mWARNING: Ignoring invalid distribution ~ensorflow (/usr/local/lib/python3.11/dist-packages)\u001b[0m\u001b[33m\n",
            "\u001b[0mRequirement already satisfied: tqdm in /usr/local/lib/python3.11/dist-packages (4.67.1)\n",
            "Requirement already satisfied: joblib in /usr/local/lib/python3.11/dist-packages (1.4.2)\n",
            "\u001b[33mWARNING: Ignoring invalid distribution ~ensorflow (/usr/local/lib/python3.11/dist-packages)\u001b[0m\u001b[33m\n",
            "\u001b[0m\u001b[33mWARNING: Ignoring invalid distribution ~ensorflow (/usr/local/lib/python3.11/dist-packages)\u001b[0m\u001b[33m\n",
            "\u001b[0m"
          ]
        }
      ]
    },
    {
      "cell_type": "code",
      "source": [
        "from gensim.models import KeyedVectors"
      ],
      "metadata": {
        "id": "aAYoH5GaZbCF"
      },
      "execution_count": 115,
      "outputs": []
    },
    {
      "cell_type": "code",
      "source": [
        "import nltk\n",
        "nltk.download('punkt')\n",
        "nltk.download('stopwords')\n",
        "nltk.download('wordnet')\n",
        "nltk.download('punkt_tab')\n"
      ],
      "metadata": {
        "colab": {
          "base_uri": "https://localhost:8080/"
        },
        "id": "HW7dAM_nW3nh",
        "outputId": "13763518-e0ba-4d3e-f373-a4df951d0597"
      },
      "execution_count": 116,
      "outputs": [
        {
          "output_type": "stream",
          "name": "stderr",
          "text": [
            "[nltk_data] Downloading package punkt to /root/nltk_data...\n",
            "[nltk_data]   Package punkt is already up-to-date!\n",
            "[nltk_data] Downloading package stopwords to /root/nltk_data...\n",
            "[nltk_data]   Package stopwords is already up-to-date!\n",
            "[nltk_data] Downloading package wordnet to /root/nltk_data...\n",
            "[nltk_data]   Package wordnet is already up-to-date!\n",
            "[nltk_data] Downloading package punkt_tab to /root/nltk_data...\n",
            "[nltk_data]   Package punkt_tab is already up-to-date!\n"
          ]
        },
        {
          "output_type": "execute_result",
          "data": {
            "text/plain": [
              "True"
            ]
          },
          "metadata": {},
          "execution_count": 116
        }
      ]
    },
    {
      "cell_type": "markdown",
      "source": [
        "#GLOVE FEATURE EXTRACTION"
      ],
      "metadata": {
        "id": "YWEzMucCVFg0"
      }
    },
    {
      "cell_type": "code",
      "source": [
        "df = pd.read_csv('political_social_media.csv', encoding='latin-1')"
      ],
      "metadata": {
        "id": "iiCyzCYvVFm3"
      },
      "execution_count": 117,
      "outputs": []
    },
    {
      "cell_type": "code",
      "source": [
        "col_to_be_dropped = ['_unit_id', '_unit_state', '_golden', 'orig__golden',\n",
        "                     'audience_gold', 'bias_gold', 'embed', 'id', 'message_gold',\n",
        "                     'bioid', 'label', '_last_judgment_at']\n",
        "df.drop(col_to_be_dropped, axis=1, inplace=True)\n",
        "\n",
        "col_transform = ColumnTransformer(\n",
        "    [('encoder', OneHotEncoder(drop='first', sparse_output=False), ['audience', 'source', 'message'])],\n",
        "    remainder='passthrough'\n",
        ")\n",
        "\n",
        "df= col_transform.fit_transform(df)\n",
        "df = pd.DataFrame(df, columns=col_transform.get_feature_names_out())\n",
        "df.columns = df.columns.str.replace(r'encoder__|remainder__', '', regex=True)\n",
        "\n",
        "\n",
        "lemmatizer = WordNetLemmatizer()\n",
        "stop_words = set(stopwords.words('english'))\n",
        "\n",
        "def preprocess_text(text):\n",
        "    text = re.sub(r'http\\S+', '', text)  # Remove URLs\n",
        "    text = re.sub(r'@\\w+|#\\w+', '', text)  # Remove mentions & hashtags\n",
        "    text = re.sub(r'[^a-zA-Z\\s]', '', text)  # Remove special characters\n",
        "    text = text.lower()  # Convert to lowercase\n",
        "    words = word_tokenize(text)  # Tokenization\n",
        "    words = [lemmatizer.lemmatize(word) for word in words if word not in stop_words]  # Lemmatization\n",
        "    return \" \".join(words)\n",
        "\n",
        "df['cleaned_text'] = df['text'].apply(preprocess_text)\n",
        "df.drop('text', axis=1, inplace=True)"
      ],
      "metadata": {
        "id": "KqNl0UmQtDR9"
      },
      "execution_count": 118,
      "outputs": []
    },
    {
      "cell_type": "code",
      "source": [
        "text_col = 'cleaned_text'\n",
        "target_col = 'bias'\n",
        "\n",
        "numerical_cols = ['audience_national', 'source_twitter', 'message_constituency',\n",
        "                  'message_information', 'message_media', 'message_mobilization',\n",
        "                  'message_other', 'message_personal', 'message_policy',\n",
        "                  'message_support', '_trusted_judgments', 'audience:confidence',\n",
        "                  'bias:confidence', 'message:confidence']\n",
        "\n",
        "# Convert bias column to binary\n",
        "df['bias'] = df['bias'].apply(lambda x: 1 if x == 'partisan' else 0)\n",
        "\n",
        "x_train, x_test, y_train, y_test = train_test_split(df[[text_col] + numerical_cols],\n",
        "                                                    df[target_col], test_size=0.2, random_state=55)"
      ],
      "metadata": {
        "id": "Hv-Te-jbtfd2"
      },
      "execution_count": 119,
      "outputs": []
    },
    {
      "cell_type": "code",
      "source": [
        "df.head(5)"
      ],
      "metadata": {
        "colab": {
          "base_uri": "https://localhost:8080/",
          "height": 486
        },
        "id": "QYQx61TwXyYo",
        "outputId": "90d3d4ac-b459-4772-a9cd-d63b9e647c3a"
      },
      "execution_count": 120,
      "outputs": [
        {
          "output_type": "execute_result",
          "data": {
            "text/plain": [
              "  audience_national source_twitter message_constituency message_information  \\\n",
              "0               1.0            1.0                  0.0                 0.0   \n",
              "1               1.0            1.0                  0.0                 0.0   \n",
              "2               1.0            1.0                  0.0                 0.0   \n",
              "3               1.0            1.0                  0.0                 0.0   \n",
              "4               1.0            1.0                  0.0                 0.0   \n",
              "\n",
              "  message_media message_mobilization message_other message_personal  \\\n",
              "0           0.0                  0.0           0.0              0.0   \n",
              "1           0.0                  0.0           0.0              0.0   \n",
              "2           0.0                  0.0           0.0              0.0   \n",
              "3           0.0                  0.0           0.0              0.0   \n",
              "4           0.0                  0.0           0.0              0.0   \n",
              "\n",
              "  message_policy message_support _trusted_judgments audience:confidence  bias  \\\n",
              "0            1.0             0.0                  1                 1.0     1   \n",
              "1            0.0             0.0                  1                 1.0     1   \n",
              "2            0.0             1.0                  1                 1.0     0   \n",
              "3            1.0             0.0                  1                 1.0     0   \n",
              "4            1.0             0.0                  1                 1.0     1   \n",
              "\n",
              "  bias:confidence message:confidence  \\\n",
              "0             1.0                1.0   \n",
              "1             1.0                1.0   \n",
              "2             1.0                1.0   \n",
              "3             1.0                1.0   \n",
              "4             1.0                1.0   \n",
              "\n",
              "                                        cleaned_text  \n",
              "0                           rt rep trey radel r slam  \n",
              "1              video full higher cost broken promise  \n",
              "2  please join today remembering fallen hero hono...  \n",
              "3  rt st step toward senate debate leahycrapo bil...  \n",
              "4  delivery show need update law promote amp prot...  "
            ],
            "text/html": [
              "\n",
              "  <div id=\"df-1a3b9d8c-80cf-4b43-85c4-98ca2e41f7f0\" class=\"colab-df-container\">\n",
              "    <div>\n",
              "<style scoped>\n",
              "    .dataframe tbody tr th:only-of-type {\n",
              "        vertical-align: middle;\n",
              "    }\n",
              "\n",
              "    .dataframe tbody tr th {\n",
              "        vertical-align: top;\n",
              "    }\n",
              "\n",
              "    .dataframe thead th {\n",
              "        text-align: right;\n",
              "    }\n",
              "</style>\n",
              "<table border=\"1\" class=\"dataframe\">\n",
              "  <thead>\n",
              "    <tr style=\"text-align: right;\">\n",
              "      <th></th>\n",
              "      <th>audience_national</th>\n",
              "      <th>source_twitter</th>\n",
              "      <th>message_constituency</th>\n",
              "      <th>message_information</th>\n",
              "      <th>message_media</th>\n",
              "      <th>message_mobilization</th>\n",
              "      <th>message_other</th>\n",
              "      <th>message_personal</th>\n",
              "      <th>message_policy</th>\n",
              "      <th>message_support</th>\n",
              "      <th>_trusted_judgments</th>\n",
              "      <th>audience:confidence</th>\n",
              "      <th>bias</th>\n",
              "      <th>bias:confidence</th>\n",
              "      <th>message:confidence</th>\n",
              "      <th>cleaned_text</th>\n",
              "    </tr>\n",
              "  </thead>\n",
              "  <tbody>\n",
              "    <tr>\n",
              "      <th>0</th>\n",
              "      <td>1.0</td>\n",
              "      <td>1.0</td>\n",
              "      <td>0.0</td>\n",
              "      <td>0.0</td>\n",
              "      <td>0.0</td>\n",
              "      <td>0.0</td>\n",
              "      <td>0.0</td>\n",
              "      <td>0.0</td>\n",
              "      <td>1.0</td>\n",
              "      <td>0.0</td>\n",
              "      <td>1</td>\n",
              "      <td>1.0</td>\n",
              "      <td>1</td>\n",
              "      <td>1.0</td>\n",
              "      <td>1.0</td>\n",
              "      <td>rt rep trey radel r slam</td>\n",
              "    </tr>\n",
              "    <tr>\n",
              "      <th>1</th>\n",
              "      <td>1.0</td>\n",
              "      <td>1.0</td>\n",
              "      <td>0.0</td>\n",
              "      <td>0.0</td>\n",
              "      <td>0.0</td>\n",
              "      <td>0.0</td>\n",
              "      <td>0.0</td>\n",
              "      <td>0.0</td>\n",
              "      <td>0.0</td>\n",
              "      <td>0.0</td>\n",
              "      <td>1</td>\n",
              "      <td>1.0</td>\n",
              "      <td>1</td>\n",
              "      <td>1.0</td>\n",
              "      <td>1.0</td>\n",
              "      <td>video full higher cost broken promise</td>\n",
              "    </tr>\n",
              "    <tr>\n",
              "      <th>2</th>\n",
              "      <td>1.0</td>\n",
              "      <td>1.0</td>\n",
              "      <td>0.0</td>\n",
              "      <td>0.0</td>\n",
              "      <td>0.0</td>\n",
              "      <td>0.0</td>\n",
              "      <td>0.0</td>\n",
              "      <td>0.0</td>\n",
              "      <td>0.0</td>\n",
              "      <td>1.0</td>\n",
              "      <td>1</td>\n",
              "      <td>1.0</td>\n",
              "      <td>0</td>\n",
              "      <td>1.0</td>\n",
              "      <td>1.0</td>\n",
              "      <td>please join today remembering fallen hero hono...</td>\n",
              "    </tr>\n",
              "    <tr>\n",
              "      <th>3</th>\n",
              "      <td>1.0</td>\n",
              "      <td>1.0</td>\n",
              "      <td>0.0</td>\n",
              "      <td>0.0</td>\n",
              "      <td>0.0</td>\n",
              "      <td>0.0</td>\n",
              "      <td>0.0</td>\n",
              "      <td>0.0</td>\n",
              "      <td>1.0</td>\n",
              "      <td>0.0</td>\n",
              "      <td>1</td>\n",
              "      <td>1.0</td>\n",
              "      <td>0</td>\n",
              "      <td>1.0</td>\n",
              "      <td>1.0</td>\n",
              "      <td>rt st step toward senate debate leahycrapo bil...</td>\n",
              "    </tr>\n",
              "    <tr>\n",
              "      <th>4</th>\n",
              "      <td>1.0</td>\n",
              "      <td>1.0</td>\n",
              "      <td>0.0</td>\n",
              "      <td>0.0</td>\n",
              "      <td>0.0</td>\n",
              "      <td>0.0</td>\n",
              "      <td>0.0</td>\n",
              "      <td>0.0</td>\n",
              "      <td>1.0</td>\n",
              "      <td>0.0</td>\n",
              "      <td>1</td>\n",
              "      <td>1.0</td>\n",
              "      <td>1</td>\n",
              "      <td>1.0</td>\n",
              "      <td>1.0</td>\n",
              "      <td>delivery show need update law promote amp prot...</td>\n",
              "    </tr>\n",
              "  </tbody>\n",
              "</table>\n",
              "</div>\n",
              "    <div class=\"colab-df-buttons\">\n",
              "\n",
              "  <div class=\"colab-df-container\">\n",
              "    <button class=\"colab-df-convert\" onclick=\"convertToInteractive('df-1a3b9d8c-80cf-4b43-85c4-98ca2e41f7f0')\"\n",
              "            title=\"Convert this dataframe to an interactive table.\"\n",
              "            style=\"display:none;\">\n",
              "\n",
              "  <svg xmlns=\"http://www.w3.org/2000/svg\" height=\"24px\" viewBox=\"0 -960 960 960\">\n",
              "    <path d=\"M120-120v-720h720v720H120Zm60-500h600v-160H180v160Zm220 220h160v-160H400v160Zm0 220h160v-160H400v160ZM180-400h160v-160H180v160Zm440 0h160v-160H620v160ZM180-180h160v-160H180v160Zm440 0h160v-160H620v160Z\"/>\n",
              "  </svg>\n",
              "    </button>\n",
              "\n",
              "  <style>\n",
              "    .colab-df-container {\n",
              "      display:flex;\n",
              "      gap: 12px;\n",
              "    }\n",
              "\n",
              "    .colab-df-convert {\n",
              "      background-color: #E8F0FE;\n",
              "      border: none;\n",
              "      border-radius: 50%;\n",
              "      cursor: pointer;\n",
              "      display: none;\n",
              "      fill: #1967D2;\n",
              "      height: 32px;\n",
              "      padding: 0 0 0 0;\n",
              "      width: 32px;\n",
              "    }\n",
              "\n",
              "    .colab-df-convert:hover {\n",
              "      background-color: #E2EBFA;\n",
              "      box-shadow: 0px 1px 2px rgba(60, 64, 67, 0.3), 0px 1px 3px 1px rgba(60, 64, 67, 0.15);\n",
              "      fill: #174EA6;\n",
              "    }\n",
              "\n",
              "    .colab-df-buttons div {\n",
              "      margin-bottom: 4px;\n",
              "    }\n",
              "\n",
              "    [theme=dark] .colab-df-convert {\n",
              "      background-color: #3B4455;\n",
              "      fill: #D2E3FC;\n",
              "    }\n",
              "\n",
              "    [theme=dark] .colab-df-convert:hover {\n",
              "      background-color: #434B5C;\n",
              "      box-shadow: 0px 1px 3px 1px rgba(0, 0, 0, 0.15);\n",
              "      filter: drop-shadow(0px 1px 2px rgba(0, 0, 0, 0.3));\n",
              "      fill: #FFFFFF;\n",
              "    }\n",
              "  </style>\n",
              "\n",
              "    <script>\n",
              "      const buttonEl =\n",
              "        document.querySelector('#df-1a3b9d8c-80cf-4b43-85c4-98ca2e41f7f0 button.colab-df-convert');\n",
              "      buttonEl.style.display =\n",
              "        google.colab.kernel.accessAllowed ? 'block' : 'none';\n",
              "\n",
              "      async function convertToInteractive(key) {\n",
              "        const element = document.querySelector('#df-1a3b9d8c-80cf-4b43-85c4-98ca2e41f7f0');\n",
              "        const dataTable =\n",
              "          await google.colab.kernel.invokeFunction('convertToInteractive',\n",
              "                                                    [key], {});\n",
              "        if (!dataTable) return;\n",
              "\n",
              "        const docLinkHtml = 'Like what you see? Visit the ' +\n",
              "          '<a target=\"_blank\" href=https://colab.research.google.com/notebooks/data_table.ipynb>data table notebook</a>'\n",
              "          + ' to learn more about interactive tables.';\n",
              "        element.innerHTML = '';\n",
              "        dataTable['output_type'] = 'display_data';\n",
              "        await google.colab.output.renderOutput(dataTable, element);\n",
              "        const docLink = document.createElement('div');\n",
              "        docLink.innerHTML = docLinkHtml;\n",
              "        element.appendChild(docLink);\n",
              "      }\n",
              "    </script>\n",
              "  </div>\n",
              "\n",
              "\n",
              "<div id=\"df-30258c08-415c-4180-8b6e-c49f28bf2645\">\n",
              "  <button class=\"colab-df-quickchart\" onclick=\"quickchart('df-30258c08-415c-4180-8b6e-c49f28bf2645')\"\n",
              "            title=\"Suggest charts\"\n",
              "            style=\"display:none;\">\n",
              "\n",
              "<svg xmlns=\"http://www.w3.org/2000/svg\" height=\"24px\"viewBox=\"0 0 24 24\"\n",
              "     width=\"24px\">\n",
              "    <g>\n",
              "        <path d=\"M19 3H5c-1.1 0-2 .9-2 2v14c0 1.1.9 2 2 2h14c1.1 0 2-.9 2-2V5c0-1.1-.9-2-2-2zM9 17H7v-7h2v7zm4 0h-2V7h2v10zm4 0h-2v-4h2v4z\"/>\n",
              "    </g>\n",
              "</svg>\n",
              "  </button>\n",
              "\n",
              "<style>\n",
              "  .colab-df-quickchart {\n",
              "      --bg-color: #E8F0FE;\n",
              "      --fill-color: #1967D2;\n",
              "      --hover-bg-color: #E2EBFA;\n",
              "      --hover-fill-color: #174EA6;\n",
              "      --disabled-fill-color: #AAA;\n",
              "      --disabled-bg-color: #DDD;\n",
              "  }\n",
              "\n",
              "  [theme=dark] .colab-df-quickchart {\n",
              "      --bg-color: #3B4455;\n",
              "      --fill-color: #D2E3FC;\n",
              "      --hover-bg-color: #434B5C;\n",
              "      --hover-fill-color: #FFFFFF;\n",
              "      --disabled-bg-color: #3B4455;\n",
              "      --disabled-fill-color: #666;\n",
              "  }\n",
              "\n",
              "  .colab-df-quickchart {\n",
              "    background-color: var(--bg-color);\n",
              "    border: none;\n",
              "    border-radius: 50%;\n",
              "    cursor: pointer;\n",
              "    display: none;\n",
              "    fill: var(--fill-color);\n",
              "    height: 32px;\n",
              "    padding: 0;\n",
              "    width: 32px;\n",
              "  }\n",
              "\n",
              "  .colab-df-quickchart:hover {\n",
              "    background-color: var(--hover-bg-color);\n",
              "    box-shadow: 0 1px 2px rgba(60, 64, 67, 0.3), 0 1px 3px 1px rgba(60, 64, 67, 0.15);\n",
              "    fill: var(--button-hover-fill-color);\n",
              "  }\n",
              "\n",
              "  .colab-df-quickchart-complete:disabled,\n",
              "  .colab-df-quickchart-complete:disabled:hover {\n",
              "    background-color: var(--disabled-bg-color);\n",
              "    fill: var(--disabled-fill-color);\n",
              "    box-shadow: none;\n",
              "  }\n",
              "\n",
              "  .colab-df-spinner {\n",
              "    border: 2px solid var(--fill-color);\n",
              "    border-color: transparent;\n",
              "    border-bottom-color: var(--fill-color);\n",
              "    animation:\n",
              "      spin 1s steps(1) infinite;\n",
              "  }\n",
              "\n",
              "  @keyframes spin {\n",
              "    0% {\n",
              "      border-color: transparent;\n",
              "      border-bottom-color: var(--fill-color);\n",
              "      border-left-color: var(--fill-color);\n",
              "    }\n",
              "    20% {\n",
              "      border-color: transparent;\n",
              "      border-left-color: var(--fill-color);\n",
              "      border-top-color: var(--fill-color);\n",
              "    }\n",
              "    30% {\n",
              "      border-color: transparent;\n",
              "      border-left-color: var(--fill-color);\n",
              "      border-top-color: var(--fill-color);\n",
              "      border-right-color: var(--fill-color);\n",
              "    }\n",
              "    40% {\n",
              "      border-color: transparent;\n",
              "      border-right-color: var(--fill-color);\n",
              "      border-top-color: var(--fill-color);\n",
              "    }\n",
              "    60% {\n",
              "      border-color: transparent;\n",
              "      border-right-color: var(--fill-color);\n",
              "    }\n",
              "    80% {\n",
              "      border-color: transparent;\n",
              "      border-right-color: var(--fill-color);\n",
              "      border-bottom-color: var(--fill-color);\n",
              "    }\n",
              "    90% {\n",
              "      border-color: transparent;\n",
              "      border-bottom-color: var(--fill-color);\n",
              "    }\n",
              "  }\n",
              "</style>\n",
              "\n",
              "  <script>\n",
              "    async function quickchart(key) {\n",
              "      const quickchartButtonEl =\n",
              "        document.querySelector('#' + key + ' button');\n",
              "      quickchartButtonEl.disabled = true;  // To prevent multiple clicks.\n",
              "      quickchartButtonEl.classList.add('colab-df-spinner');\n",
              "      try {\n",
              "        const charts = await google.colab.kernel.invokeFunction(\n",
              "            'suggestCharts', [key], {});\n",
              "      } catch (error) {\n",
              "        console.error('Error during call to suggestCharts:', error);\n",
              "      }\n",
              "      quickchartButtonEl.classList.remove('colab-df-spinner');\n",
              "      quickchartButtonEl.classList.add('colab-df-quickchart-complete');\n",
              "    }\n",
              "    (() => {\n",
              "      let quickchartButtonEl =\n",
              "        document.querySelector('#df-30258c08-415c-4180-8b6e-c49f28bf2645 button');\n",
              "      quickchartButtonEl.style.display =\n",
              "        google.colab.kernel.accessAllowed ? 'block' : 'none';\n",
              "    })();\n",
              "  </script>\n",
              "</div>\n",
              "\n",
              "    </div>\n",
              "  </div>\n"
            ],
            "application/vnd.google.colaboratory.intrinsic+json": {
              "type": "dataframe",
              "variable_name": "df",
              "summary": "{\n  \"name\": \"df\",\n  \"rows\": 5000,\n  \"fields\": [\n    {\n      \"column\": \"audience_national\",\n      \"properties\": {\n        \"dtype\": \"date\",\n        \"min\": 0.0,\n        \"max\": 1.0,\n        \"num_unique_values\": 2,\n        \"samples\": [\n          0.0,\n          1.0\n        ],\n        \"semantic_type\": \"\",\n        \"description\": \"\"\n      }\n    },\n    {\n      \"column\": \"source_twitter\",\n      \"properties\": {\n        \"dtype\": \"date\",\n        \"min\": 0.0,\n        \"max\": 1.0,\n        \"num_unique_values\": 2,\n        \"samples\": [\n          0.0,\n          1.0\n        ],\n        \"semantic_type\": \"\",\n        \"description\": \"\"\n      }\n    },\n    {\n      \"column\": \"message_constituency\",\n      \"properties\": {\n        \"dtype\": \"date\",\n        \"min\": 0.0,\n        \"max\": 1.0,\n        \"num_unique_values\": 2,\n        \"samples\": [\n          1.0,\n          0.0\n        ],\n        \"semantic_type\": \"\",\n        \"description\": \"\"\n      }\n    },\n    {\n      \"column\": \"message_information\",\n      \"properties\": {\n        \"dtype\": \"date\",\n        \"min\": 0.0,\n        \"max\": 1.0,\n        \"num_unique_values\": 2,\n        \"samples\": [\n          1.0,\n          0.0\n        ],\n        \"semantic_type\": \"\",\n        \"description\": \"\"\n      }\n    },\n    {\n      \"column\": \"message_media\",\n      \"properties\": {\n        \"dtype\": \"date\",\n        \"min\": 0.0,\n        \"max\": 1.0,\n        \"num_unique_values\": 2,\n        \"samples\": [\n          1.0,\n          0.0\n        ],\n        \"semantic_type\": \"\",\n        \"description\": \"\"\n      }\n    },\n    {\n      \"column\": \"message_mobilization\",\n      \"properties\": {\n        \"dtype\": \"date\",\n        \"min\": 0.0,\n        \"max\": 1.0,\n        \"num_unique_values\": 2,\n        \"samples\": [\n          1.0,\n          0.0\n        ],\n        \"semantic_type\": \"\",\n        \"description\": \"\"\n      }\n    },\n    {\n      \"column\": \"message_other\",\n      \"properties\": {\n        \"dtype\": \"date\",\n        \"min\": 0.0,\n        \"max\": 1.0,\n        \"num_unique_values\": 2,\n        \"samples\": [\n          1.0,\n          0.0\n        ],\n        \"semantic_type\": \"\",\n        \"description\": \"\"\n      }\n    },\n    {\n      \"column\": \"message_personal\",\n      \"properties\": {\n        \"dtype\": \"date\",\n        \"min\": 0.0,\n        \"max\": 1.0,\n        \"num_unique_values\": 2,\n        \"samples\": [\n          1.0,\n          0.0\n        ],\n        \"semantic_type\": \"\",\n        \"description\": \"\"\n      }\n    },\n    {\n      \"column\": \"message_policy\",\n      \"properties\": {\n        \"dtype\": \"date\",\n        \"min\": 0.0,\n        \"max\": 1.0,\n        \"num_unique_values\": 2,\n        \"samples\": [\n          0.0,\n          1.0\n        ],\n        \"semantic_type\": \"\",\n        \"description\": \"\"\n      }\n    },\n    {\n      \"column\": \"message_support\",\n      \"properties\": {\n        \"dtype\": \"date\",\n        \"min\": 0.0,\n        \"max\": 1.0,\n        \"num_unique_values\": 2,\n        \"samples\": [\n          1.0,\n          0.0\n        ],\n        \"semantic_type\": \"\",\n        \"description\": \"\"\n      }\n    },\n    {\n      \"column\": \"_trusted_judgments\",\n      \"properties\": {\n        \"dtype\": \"date\",\n        \"min\": 1,\n        \"max\": 3,\n        \"num_unique_values\": 3,\n        \"samples\": [\n          1,\n          2\n        ],\n        \"semantic_type\": \"\",\n        \"description\": \"\"\n      }\n    },\n    {\n      \"column\": \"audience:confidence\",\n      \"properties\": {\n        \"dtype\": \"date\",\n        \"min\": 0.5055,\n        \"max\": 1.0,\n        \"num_unique_values\": 31,\n        \"samples\": [\n          0.5058,\n          0.5096\n        ],\n        \"semantic_type\": \"\",\n        \"description\": \"\"\n      }\n    },\n    {\n      \"column\": \"bias\",\n      \"properties\": {\n        \"dtype\": \"number\",\n        \"std\": 0,\n        \"min\": 0,\n        \"max\": 1,\n        \"num_unique_values\": 2,\n        \"samples\": [\n          0,\n          1\n        ],\n        \"semantic_type\": \"\",\n        \"description\": \"\"\n      }\n    },\n    {\n      \"column\": \"bias:confidence\",\n      \"properties\": {\n        \"dtype\": \"date\",\n        \"min\": 0.502,\n        \"max\": 1.0,\n        \"num_unique_values\": 35,\n        \"samples\": [\n          0.502,\n          0.5102\n        ],\n        \"semantic_type\": \"\",\n        \"description\": \"\"\n      }\n    },\n    {\n      \"column\": \"message:confidence\",\n      \"properties\": {\n        \"dtype\": \"date\",\n        \"min\": 0.502,\n        \"max\": 1.0,\n        \"num_unique_values\": 23,\n        \"samples\": [\n          0.5102,\n          0.5163\n        ],\n        \"semantic_type\": \"\",\n        \"description\": \"\"\n      }\n    },\n    {\n      \"column\": \"cleaned_text\",\n      \"properties\": {\n        \"dtype\": \"string\",\n        \"num_unique_values\": 4973,\n        \"samples\": [\n          \"google plus additional update information follow\",\n          \"tune starting ct live video us north dakota christening ceremony\"\n        ],\n        \"semantic_type\": \"\",\n        \"description\": \"\"\n      }\n    }\n  ]\n}"
            }
          },
          "metadata": {},
          "execution_count": 120
        }
      ]
    },
    {
      "cell_type": "code",
      "source": [
        "!wget http://nlp.stanford.edu/data/glove.6B.zip"
      ],
      "metadata": {
        "colab": {
          "base_uri": "https://localhost:8080/"
        },
        "id": "UWMGm8LPXHa1",
        "outputId": "8911959b-a229-4eec-d3d1-eeb1f3722233"
      },
      "execution_count": 121,
      "outputs": [
        {
          "output_type": "stream",
          "name": "stdout",
          "text": [
            "--2025-03-21 00:07:50--  http://nlp.stanford.edu/data/glove.6B.zip\n",
            "Resolving nlp.stanford.edu (nlp.stanford.edu)... 171.64.67.140\n",
            "Connecting to nlp.stanford.edu (nlp.stanford.edu)|171.64.67.140|:80... connected.\n",
            "HTTP request sent, awaiting response... 302 Found\n",
            "Location: https://nlp.stanford.edu/data/glove.6B.zip [following]\n",
            "--2025-03-21 00:07:50--  https://nlp.stanford.edu/data/glove.6B.zip\n",
            "Connecting to nlp.stanford.edu (nlp.stanford.edu)|171.64.67.140|:443... connected.\n",
            "HTTP request sent, awaiting response... 301 Moved Permanently\n",
            "Location: https://downloads.cs.stanford.edu/nlp/data/glove.6B.zip [following]\n",
            "--2025-03-21 00:07:50--  https://downloads.cs.stanford.edu/nlp/data/glove.6B.zip\n",
            "Resolving downloads.cs.stanford.edu (downloads.cs.stanford.edu)... 171.64.64.22\n",
            "Connecting to downloads.cs.stanford.edu (downloads.cs.stanford.edu)|171.64.64.22|:443... connected.\n",
            "HTTP request sent, awaiting response... 200 OK\n",
            "Length: 862182613 (822M) [application/zip]\n",
            "Saving to: ‘glove.6B.zip.5’\n",
            "\n",
            "glove.6B.zip.5      100%[===================>] 822.24M  5.01MB/s    in 2m 39s  \n",
            "\n",
            "2025-03-21 00:10:30 (5.16 MB/s) - ‘glove.6B.zip.5’ saved [862182613/862182613]\n",
            "\n"
          ]
        }
      ]
    },
    {
      "cell_type": "code",
      "source": [
        "!unzip glove.6B.zip glove.6B.100d.txt -d glove/\n"
      ],
      "metadata": {
        "colab": {
          "base_uri": "https://localhost:8080/"
        },
        "id": "K3v2tv6kXHdz",
        "outputId": "a69e01e0-b40d-4499-ef9a-76fa85a91336"
      },
      "execution_count": 122,
      "outputs": [
        {
          "output_type": "stream",
          "name": "stdout",
          "text": [
            "Archive:  glove.6B.zip\n",
            "replace glove/glove.6B.100d.txt? [y]es, [n]o, [A]ll, [N]one, [r]ename: "
          ]
        }
      ]
    },
    {
      "cell_type": "code",
      "source": [
        "\n",
        "glove_input_file = 'glove/glove.6B.100d.txt'\n",
        "word2vec_output_file = 'glove/glove.6B.100d.word2vec.txt'\n",
        "\n",
        "from gensim.scripts.glove2word2vec import glove2word2vec\n",
        "glove2word2vec(glove_input_file, word2vec_output_file)\n"
      ],
      "metadata": {
        "colab": {
          "base_uri": "https://localhost:8080/"
        },
        "id": "HEFLdzjktoG9",
        "outputId": "14801135-e731-44d5-f7ef-df8302b4fd65"
      },
      "execution_count": 123,
      "outputs": [
        {
          "output_type": "stream",
          "name": "stderr",
          "text": [
            "<ipython-input-123-487e6135eca8>:5: DeprecationWarning: Call to deprecated `glove2word2vec` (KeyedVectors.load_word2vec_format(.., binary=False, no_header=True) loads GLoVE text vectors.).\n",
            "  glove2word2vec(glove_input_file, word2vec_output_file)\n"
          ]
        },
        {
          "output_type": "execute_result",
          "data": {
            "text/plain": [
              "(400000, 100)"
            ]
          },
          "metadata": {},
          "execution_count": 123
        }
      ]
    },
    {
      "cell_type": "code",
      "source": [
        "glove_model = KeyedVectors.load_word2vec_format(word2vec_output_file, binary=False)\n",
        "#glove_model is the embedding matrix containing the pretrained_glove_info_vectors"
      ],
      "metadata": {
        "id": "xbwwM9c3YXYq"
      },
      "execution_count": 124,
      "outputs": []
    },
    {
      "cell_type": "code",
      "source": [
        "def document_vector(doc, model, vector_size=100):\n",
        "    words = doc.split()\n",
        "    word_vectors = [model[word] for word in words if word in model]\n",
        "    if len(word_vectors) == 0:\n",
        "        return np.zeros(vector_size)\n",
        "    return np.mean(word_vectors, axis=0)\n",
        "\n",
        "x_train_glove = np.array([document_vector(doc, glove_model) for doc in x_train[text_col]])\n",
        "x_test_glove = np.array([document_vector(doc, glove_model) for doc in x_test[text_col]])\n"
      ],
      "metadata": {
        "id": "qNYDkKNRYXbz"
      },
      "execution_count": 125,
      "outputs": []
    },
    {
      "cell_type": "markdown",
      "source": [
        "#GLOVE ANN"
      ],
      "metadata": {
        "id": "aZ3_BOTAVFtE"
      }
    },
    {
      "cell_type": "code",
      "source": [
        "glove_ann = tf.keras.models.Sequential()\n",
        "\n",
        "glove_ann.add(tf.keras.layers.Dense(units = 64, activation = 'relu', input_shape=(x_train_glove.shape[1],))) # Define input shape\n",
        "glove_ann.add(tf.keras.layers.BatchNormalization())\n",
        "glove_ann.add(tf.keras.layers.Dropout(0.3))\n",
        "\n",
        "glove_ann.add(tf.keras.layers.Dense(units = 32, activation = 'relu'))\n",
        "glove_ann.add(tf.keras.layers.BatchNormalization())\n",
        "glove_ann.add(tf.keras.layers.Dropout(0.3))\n",
        "\n",
        "glove_ann.add(tf.keras.layers.Dense(units = 16, activation = 'relu'))\n",
        "\n",
        "glove_ann.add(tf.keras.layers.Dense(units = 8, activation = 'relu'))\n",
        "\n",
        "glove_ann.add(tf.keras.layers.Dense(units = 1, activation = 'sigmoid'))\n",
        "\n",
        "glove_ann.compile(optimizer = 'adam', loss = tfa.losses.SigmoidFocalCrossEntropy(alpha = 0.3, gamma = 1.5), metrics = ['accuracy'])"
      ],
      "metadata": {
        "id": "yKDO2VnAYwKC"
      },
      "execution_count": 126,
      "outputs": []
    },
    {
      "cell_type": "code",
      "source": [
        "model = glove_ann.fit(x_train_glove, y_train, batch_size = 32, epochs = 10, verbose = 1, validation_data = (x_test_glove, y_test))"
      ],
      "metadata": {
        "colab": {
          "base_uri": "https://localhost:8080/"
        },
        "id": "ZGxJGiEYYwNL",
        "outputId": "74a94202-48b2-474a-ca70-c794e81e7209"
      },
      "execution_count": 127,
      "outputs": [
        {
          "output_type": "stream",
          "name": "stdout",
          "text": [
            "Epoch 1/10\n",
            "125/125 [==============================] - 5s 10ms/step - loss: 0.1420 - accuracy: 0.6260 - val_loss: 0.0845 - val_accuracy: 0.7360\n",
            "Epoch 2/10\n",
            "125/125 [==============================] - 1s 9ms/step - loss: 0.0852 - accuracy: 0.7372 - val_loss: 0.0780 - val_accuracy: 0.7360\n",
            "Epoch 3/10\n",
            "125/125 [==============================] - 1s 8ms/step - loss: 0.0796 - accuracy: 0.7390 - val_loss: 0.0768 - val_accuracy: 0.7370\n",
            "Epoch 4/10\n",
            "125/125 [==============================] - 1s 8ms/step - loss: 0.0782 - accuracy: 0.7400 - val_loss: 0.0758 - val_accuracy: 0.7370\n",
            "Epoch 5/10\n",
            "125/125 [==============================] - 1s 8ms/step - loss: 0.0767 - accuracy: 0.7383 - val_loss: 0.0752 - val_accuracy: 0.7350\n",
            "Epoch 6/10\n",
            "125/125 [==============================] - 1s 8ms/step - loss: 0.0752 - accuracy: 0.7380 - val_loss: 0.0751 - val_accuracy: 0.7390\n",
            "Epoch 7/10\n",
            "125/125 [==============================] - 2s 12ms/step - loss: 0.0743 - accuracy: 0.7377 - val_loss: 0.0748 - val_accuracy: 0.7360\n",
            "Epoch 8/10\n",
            "125/125 [==============================] - 2s 13ms/step - loss: 0.0733 - accuracy: 0.7393 - val_loss: 0.0749 - val_accuracy: 0.7370\n",
            "Epoch 9/10\n",
            "125/125 [==============================] - 1s 11ms/step - loss: 0.0731 - accuracy: 0.7387 - val_loss: 0.0746 - val_accuracy: 0.7360\n",
            "Epoch 10/10\n",
            "125/125 [==============================] - 1s 9ms/step - loss: 0.0723 - accuracy: 0.7383 - val_loss: 0.0754 - val_accuracy: 0.7380\n"
          ]
        }
      ]
    },
    {
      "cell_type": "code",
      "source": [
        "\n",
        "def find_best_threshold_accuracy(y_true, y_pred_probs):\n",
        "    \"\"\"\n",
        "    Finds the optimal threshold that maximizes accuracy.\n",
        "\n",
        "    Parameters:\n",
        "    y_true (array): True binary labels (0 or 1).\n",
        "    y_pred_probs (array): Predicted probabilities.\n",
        "\n",
        "    Returns:\n",
        "    best_threshold (float): Threshold that gives the highest accuracy.\n",
        "    \"\"\"\n",
        "    thresholds = np.linspace(0, 1, 100)  # Generate 100 thresholds from 0 to 1\n",
        "    accuracies = []\n",
        "\n",
        "    for threshold in thresholds:\n",
        "        y_pred = (y_pred_probs >= threshold).astype(int)\n",
        "        acc = accuracy_score(y_true, y_pred)\n",
        "        accuracies.append(acc)\n",
        "\n",
        "    best_threshold = thresholds[np.argmax(accuracies)]  # Get threshold with max accuracy\n",
        "\n",
        "    return best_threshold\n",
        "\n",
        "# Get probabilities for class 1\n",
        "y_pred_probs = glove_ann.predict(x_test_glove).flatten()\n",
        "\n",
        "# Find the best threshold based on Accuracy\n",
        "optimal_threshold = find_best_threshold_accuracy(y_test, y_pred_probs)\n",
        "print(f\"OPTIMAL THRESHOLD (Accuracy-based): {optimal_threshold:.4f}\")\n",
        "\n",
        "# Apply threshold to get final predictions\n",
        "y_prediction = (glove_ann.predict(x_test_glove) > optimal_threshold).astype(int)\n"
      ],
      "metadata": {
        "colab": {
          "base_uri": "https://localhost:8080/"
        },
        "id": "kn2tvKZWvONi",
        "outputId": "6c1359d7-b393-43c3-b145-f1fbb7b12dc2"
      },
      "execution_count": 128,
      "outputs": [
        {
          "output_type": "stream",
          "name": "stdout",
          "text": [
            "32/32 [==============================] - 0s 2ms/step\n",
            "OPTIMAL THRESHOLD (Accuracy-based): 0.4444\n",
            "32/32 [==============================] - 0s 2ms/step\n"
          ]
        }
      ]
    },
    {
      "cell_type": "code",
      "source": [
        "metrics_dict = {\n",
        "    \"accuracy_score\": accuracy_score(y_test, y_prediction),\n",
        "    \"precision_score\": precision_score(y_test, y_prediction,average = 'weighted'),\n",
        "    \"f1_score\": f1_score(y_test, y_prediction, average = 'weighted'),\n",
        "    \"recall_score\": recall_score(y_test, y_prediction, average = 'weighted')\n",
        "\n",
        "}\n",
        "\n",
        "# Print results\n",
        "for metric, value in metrics_dict.items():\n",
        "    print(f\"{metric}: {value:.4f}\")"
      ],
      "metadata": {
        "colab": {
          "base_uri": "https://localhost:8080/"
        },
        "id": "YtDWjYSEaJwH",
        "outputId": "5676787a-ede4-4dd6-9138-f0b896b86bae"
      },
      "execution_count": 129,
      "outputs": [
        {
          "output_type": "stream",
          "name": "stdout",
          "text": [
            "accuracy_score: 0.7490\n",
            "precision_score: 0.7154\n",
            "f1_score: 0.6963\n",
            "recall_score: 0.7490\n"
          ]
        }
      ]
    },
    {
      "cell_type": "code",
      "source": [
        "\n",
        "\n",
        "preds = glove_ann.predict(x_test_glove)  # Get raw probabilities\n",
        "plt.hist(preds, bins=50)\n",
        "plt.xlabel(\"Predicted Probability\")\n",
        "plt.ylabel(\"Frequency\")\n",
        "plt.title(\"Distribution of Predictions\")\n",
        "plt.show()"
      ],
      "metadata": {
        "colab": {
          "base_uri": "https://localhost:8080/",
          "height": 489
        },
        "id": "-Bh-elUjaBaK",
        "outputId": "036a262b-953e-4c2f-9aea-fe993cd709b7"
      },
      "execution_count": 130,
      "outputs": [
        {
          "output_type": "stream",
          "name": "stdout",
          "text": [
            "32/32 [==============================] - 0s 6ms/step\n"
          ]
        },
        {
          "output_type": "display_data",
          "data": {
            "text/plain": [
              "<Figure size 640x480 with 1 Axes>"
            ],
            "image/png": "[encoded data removed]"
          },
          "metadata": {}
        }
      ]
    },
    {
      "cell_type": "markdown",
      "source": [
        "#GLOVE LSTM"
      ],
      "metadata": {
        "id": "-awV3an-VF5s"
      }
    },
    {
      "cell_type": "code",
      "source": [
        "embedding_matrix = glove_model"
      ],
      "metadata": {
        "id": "m9p5ukLPVGEE"
      },
      "execution_count": 132,
      "outputs": []
    },
    {
      "cell_type": "code",
      "source": [
        "vocab_size = 400000\n",
        "embedding_dim = 100\n",
        "embedding_matrix = glove_model.vectors #.vectors important\n",
        "max_length = 51\n",
        "\n",
        "tokenizer = Tokenizer(num_words=vocab_size, oov_token='<OOV>') # num_words set to vocab_size\n",
        "tokenizer.fit_on_texts(x_train[text_col]) # fit only on training data\n",
        "word_index = tokenizer.word_index\n",
        "\n",
        "# Convert text to sequences of word indices\n",
        "x_train_sequences = tokenizer.texts_to_sequences(x_train[text_col])\n",
        "x_test_sequences = tokenizer.texts_to_sequences(x_test[text_col])\n",
        "\n",
        "# Padding sequences\n",
        "x_train_padded = pad_sequences(x_train_sequences, maxlen=max_length, padding='post', truncating='post')\n",
        "x_test_padded = pad_sequences(x_test_sequences, maxlen=max_length, padding='post', truncating='post')"
      ],
      "metadata": {
        "id": "XpfwNGtibIgr"
      },
      "execution_count": 133,
      "outputs": []
    },
    {
      "cell_type": "code",
      "source": [
        "from sklearn.utils.class_weight import compute_class_weight\n",
        "import numpy as np\n",
        "\n",
        "# Compute class weights\n",
        "class_weights = compute_class_weight('balanced', classes=np.unique(y_train), y=y_train)\n",
        "class_weights_dict = dict(enumerate(class_weights))"
      ],
      "metadata": {
        "id": "u6EX3-kzbNat"
      },
      "execution_count": 134,
      "outputs": []
    },
    {
      "cell_type": "code",
      "source": [
        "glove_lstm = tf.keras.models.Sequential()\n",
        "\n",
        "vocab_size = 400000\n",
        "embedding_dim = 100\n",
        "embedding_matrix = glove_model.vectors #.vectors important\n",
        "max_length = 51\n",
        "\n",
        "glove_lstm.add(tf.keras.layers.Embedding(input_dim=vocab_size, output_dim=embedding_dim,\n",
        "                                         weights=[embedding_matrix], input_length=max_length, trainable=False))\n",
        "#vocab_size = no. of unique words\n",
        "#embedding_dim = dim_of_glove\n",
        "#embedding_matrix = glove_weights\n",
        "#max_length = max_length_of_a_sentence\n",
        "\n",
        "\n",
        "\n",
        "glove_lstm.add(tf.keras.layers.LSTM(units=128, return_sequences=False)) # LSTM layer\n",
        "glove_lstm.add(tf.keras.layers.Dropout(0.3))\n",
        "\n",
        "glove_lstm.add(tf.keras.layers.Dense(units=64, activation='relu'))\n",
        "glove_lstm.add(tf.keras.layers.BatchNormalization())\n",
        "glove_lstm.add(tf.keras.layers.Dropout(0.3))\n",
        "\n",
        "glove_lstm.add(tf.keras.layers.Dense(units=32, activation='relu'))\n",
        "\n",
        "glove_lstm.add(tf.keras.layers.Dense(units=1, activation='sigmoid'))\n",
        "\n",
        "glove_lstm.compile(optimizer='adam', loss=tfa.losses.SigmoidFocalCrossEntropy(alpha=0.3, gamma=1.5), metrics=['accuracy'])\n",
        "\n",
        "glove_lstm.summary()\n"
      ],
      "metadata": {
        "colab": {
          "base_uri": "https://localhost:8080/"
        },
        "id": "u4cgZHlQbN2g",
        "outputId": "f36458da-5e6e-405c-b69d-537727e5114d"
      },
      "execution_count": 135,
      "outputs": [
        {
          "output_type": "stream",
          "name": "stdout",
          "text": [
            "Model: \"sequential_10\"\n",
            "_________________________________________________________________\n",
            " Layer (type)                Output Shape              Param #   \n",
            "=================================================================\n",
            " embedding_2 (Embedding)     (None, 51, 100)           40000000  \n",
            "                                                                 \n",
            " lstm_7 (LSTM)               (None, 128)               117248    \n",
            "                                                                 \n",
            " dropout_14 (Dropout)        (None, 128)               0         \n",
            "                                                                 \n",
            " dense_42 (Dense)            (None, 64)                8256      \n",
            "                                                                 \n",
            " batch_normalization_12 (Bat  (None, 64)               256       \n",
            " chNormalization)                                                \n",
            "                                                                 \n",
            " dropout_15 (Dropout)        (None, 64)                0         \n",
            "                                                                 \n",
            " dense_43 (Dense)            (None, 32)                2080      \n",
            "                                                                 \n",
            " dense_44 (Dense)            (None, 1)                 33        \n",
            "                                                                 \n",
            "=================================================================\n",
            "Total params: 40,127,873\n",
            "Trainable params: 127,745\n",
            "Non-trainable params: 40,000,128\n",
            "_________________________________________________________________\n"
          ]
        }
      ]
    },
    {
      "cell_type": "code",
      "source": [
        "glove_lstm.fit(x_train_padded, y_train, batch_size = 32, epochs = 10, validation_data=(x_test_padded, y_test), verbose = 1, class_weight = class_weights_dict)"
      ],
      "metadata": {
        "colab": {
          "base_uri": "https://localhost:8080/"
        },
        "id": "U6HVxRUFbWC3",
        "outputId": "086bf376-072a-4943-a39b-3717c201307b"
      },
      "execution_count": 136,
      "outputs": [
        {
          "output_type": "stream",
          "name": "stdout",
          "text": [
            "Epoch 1/10\n",
            "125/125 [==============================] - 26s 183ms/step - loss: 0.1357 - accuracy: 0.6288 - val_loss: 0.0999 - val_accuracy: 0.7360\n",
            "Epoch 2/10\n",
            "125/125 [==============================] - 19s 154ms/step - loss: 0.1213 - accuracy: 0.6773 - val_loss: 0.1110 - val_accuracy: 0.7360\n",
            "Epoch 3/10\n",
            "125/125 [==============================] - 12s 93ms/step - loss: 0.1162 - accuracy: 0.6963 - val_loss: 0.1120 - val_accuracy: 0.7360\n",
            "Epoch 4/10\n",
            "125/125 [==============================] - 12s 96ms/step - loss: 0.1140 - accuracy: 0.7205 - val_loss: 0.1262 - val_accuracy: 0.7360\n",
            "Epoch 5/10\n",
            "125/125 [==============================] - 13s 101ms/step - loss: 0.1135 - accuracy: 0.7193 - val_loss: 0.1153 - val_accuracy: 0.7360\n",
            "Epoch 6/10\n",
            "125/125 [==============================] - 12s 93ms/step - loss: 0.1130 - accuracy: 0.7215 - val_loss: 0.1002 - val_accuracy: 0.7360\n",
            "Epoch 7/10\n",
            "125/125 [==============================] - 13s 105ms/step - loss: 0.1127 - accuracy: 0.7258 - val_loss: 0.1225 - val_accuracy: 0.7360\n",
            "Epoch 8/10\n",
            "125/125 [==============================] - 11s 87ms/step - loss: 0.1122 - accuracy: 0.7312 - val_loss: 0.1162 - val_accuracy: 0.7360\n",
            "Epoch 9/10\n",
            "125/125 [==============================] - 11s 85ms/step - loss: 0.1120 - accuracy: 0.7320 - val_loss: 0.1277 - val_accuracy: 0.7360\n",
            "Epoch 10/10\n",
            "125/125 [==============================] - 12s 98ms/step - loss: 0.1111 - accuracy: 0.7325 - val_loss: 0.1250 - val_accuracy: 0.7360\n"
          ]
        },
        {
          "output_type": "execute_result",
          "data": {
            "text/plain": [
              "<keras.callbacks.History at 0x7dd7ac62f450>"
            ]
          },
          "metadata": {},
          "execution_count": 136
        }
      ]
    },
    {
      "cell_type": "code",
      "source": [
        "\n",
        "def find_best_threshold_accuracy(y_true, y_pred_probs):\n",
        "    \"\"\"\n",
        "    Finds the optimal threshold that maximizes accuracy.\n",
        "\n",
        "    Parameters:\n",
        "    y_true (array): True binary labels (0 or 1).\n",
        "    y_pred_probs (array): Predicted probabilities.\n",
        "\n",
        "    Returns:\n",
        "    best_threshold (float): Threshold that gives the highest accuracy.\n",
        "    \"\"\"\n",
        "    thresholds = np.linspace(0, 1, 100)  # Generate 100 thresholds from 0 to 1\n",
        "    accuracies = []\n",
        "\n",
        "    for threshold in thresholds:\n",
        "        y_pred = (y_pred_probs >= threshold).astype(int)\n",
        "        acc = accuracy_score(y_true, y_pred)\n",
        "        accuracies.append(acc)\n",
        "\n",
        "    best_threshold = thresholds[np.argmax(accuracies)]  # Get threshold with max accuracy\n",
        "\n",
        "    return best_threshold\n",
        "\n",
        "# Get probabilities for class 1\n",
        "y_pred_probs = glove_lstm.predict(x_test_padded).flatten()\n",
        "\n",
        "# Find the best threshold based on Accuracy\n",
        "optimal_threshold = find_best_threshold_accuracy(y_test, y_pred_probs)\n",
        "print(f\"OPTIMAL THRESHOLD (Accuracy-based): {optimal_threshold:.4f}\")\n",
        "\n",
        "# Apply threshold to get final predictions\n",
        "y_prediction = (glove_lstm.predict(x_test_padded) > optimal_threshold).astype(int)"
      ],
      "metadata": {
        "colab": {
          "base_uri": "https://localhost:8080/"
        },
        "id": "Ilp4Hs8_y6q6",
        "outputId": "506a9910-3884-4120-9ebd-0484dca14913"
      },
      "execution_count": 137,
      "outputs": [
        {
          "output_type": "stream",
          "name": "stdout",
          "text": [
            "32/32 [==============================] - 1s 29ms/step\n",
            "OPTIMAL THRESHOLD (Accuracy-based): 0.4646\n",
            "32/32 [==============================] - 1s 28ms/step\n"
          ]
        }
      ]
    },
    {
      "cell_type": "code",
      "source": [
        "metrics_dict = {\n",
        "    \"accuracy_score\": accuracy_score(y_test,y_prediction),\n",
        "    \"precision_score\": precision_score(y_test, y_prediction, average = 'weighted',zero_division=1),\n",
        "    \"f1_score\": f1_score(y_test, y_prediction, average = 'weighted'),\n",
        "    \"recall_score\": recall_score(y_test, y_prediction, average = 'weighted')\n",
        "\n",
        "}\n",
        "\n",
        "# Print results\n",
        "for metric, value in metrics_dict.items():\n",
        "    print(f\"{metric}: {value:.4f}\")"
      ],
      "metadata": {
        "colab": {
          "base_uri": "https://localhost:8080/"
        },
        "id": "oov6MeJcbjAv",
        "outputId": "31f58e76-0208-422a-d140-11e9391d5a92"
      },
      "execution_count": 138,
      "outputs": [
        {
          "output_type": "stream",
          "name": "stdout",
          "text": [
            "accuracy_score: 0.7360\n",
            "precision_score: 0.6747\n",
            "f1_score: 0.6296\n",
            "recall_score: 0.7360\n"
          ]
        }
      ]
    },
    {
      "cell_type": "markdown",
      "source": [
        "#GLOVE BILSTM"
      ],
      "metadata": {
        "id": "hw9_ohgcVGLO"
      }
    },
    {
      "cell_type": "code",
      "source": [
        "glove_bilstm = tf.keras.models.Sequential()\n",
        "\n",
        "vocab_size = 400000\n",
        "embedding_dim = 100\n",
        "embedding_matrix = glove_model.vectors  # .vectors important\n",
        "max_length = 51\n",
        "\n",
        "glove_bilstm.add(tf.keras.layers.Embedding(input_dim=vocab_size, output_dim=embedding_dim,\n",
        "                                           weights=[embedding_matrix], input_length=max_length, trainable=False))\n",
        "# vocab_size = no. of unique words\n",
        "# embedding_dim = dim_of_glove\n",
        "# embedding_matrix = glove_weights\n",
        "# max_length = max_length_of_a_sentence\n",
        "\n",
        "glove_bilstm.add(tf.keras.layers.Bidirectional(tf.keras.layers.LSTM(units=128, return_sequences=True)))  # BiLSTM layer\n",
        "glove_bilstm.add(tf.keras.layers.LSTM(units=64, return_sequences=False))  # LSTM layer\n",
        "glove_bilstm.add(tf.keras.layers.Dropout(0.3))\n",
        "\n",
        "glove_bilstm.add(tf.keras.layers.Dense(units=32, activation='relu'))\n",
        "glove_bilstm.add(tf.keras.layers.BatchNormalization())\n",
        "glove_bilstm.add(tf.keras.layers.Dropout(0.3))\n",
        "\n",
        "glove_bilstm.add(tf.keras.layers.Dense(units=16, activation='relu'))\n",
        "\n",
        "glove_bilstm.add(tf.keras.layers.Dense(units=1, activation='sigmoid'))\n",
        "\n",
        "glove_bilstm.compile(optimizer='adam', loss=tfa.losses.SigmoidFocalCrossEntropy(alpha=0.25, gamma=2.0), metrics=['accuracy'])\n",
        "\n",
        "glove_bilstm.summary()\n"
      ],
      "metadata": {
        "colab": {
          "base_uri": "https://localhost:8080/"
        },
        "id": "VI51EkPWVGRc",
        "outputId": "80c9cc82-da49-4ae3-9928-2f619cc391ce"
      },
      "execution_count": 139,
      "outputs": [
        {
          "output_type": "stream",
          "name": "stdout",
          "text": [
            "Model: \"sequential_11\"\n",
            "_________________________________________________________________\n",
            " Layer (type)                Output Shape              Param #   \n",
            "=================================================================\n",
            " embedding_3 (Embedding)     (None, 51, 100)           40000000  \n",
            "                                                                 \n",
            " bidirectional_2 (Bidirectio  (None, 51, 256)          234496    \n",
            " nal)                                                            \n",
            "                                                                 \n",
            " lstm_9 (LSTM)               (None, 64)                82176     \n",
            "                                                                 \n",
            " dropout_16 (Dropout)        (None, 64)                0         \n",
            "                                                                 \n",
            " dense_45 (Dense)            (None, 32)                2080      \n",
            "                                                                 \n",
            " batch_normalization_13 (Bat  (None, 32)               128       \n",
            " chNormalization)                                                \n",
            "                                                                 \n",
            " dropout_17 (Dropout)        (None, 32)                0         \n",
            "                                                                 \n",
            " dense_46 (Dense)            (None, 16)                528       \n",
            "                                                                 \n",
            " dense_47 (Dense)            (None, 1)                 17        \n",
            "                                                                 \n",
            "=================================================================\n",
            "Total params: 40,319,425\n",
            "Trainable params: 319,361\n",
            "Non-trainable params: 40,000,064\n",
            "_________________________________________________________________\n"
          ]
        }
      ]
    },
    {
      "cell_type": "code",
      "source": [
        "glove_bilstm.fit(x_train_padded, y_train, validation_data=(x_test_padded, y_test), epochs=10, batch_size=32, verbose=1, class_weight = class_weights_dict)"
      ],
      "metadata": {
        "colab": {
          "base_uri": "https://localhost:8080/"
        },
        "id": "DFClpp6yb0rf",
        "outputId": "a3b759eb-0f54-489c-9e80-c34c688eacbc"
      },
      "execution_count": 140,
      "outputs": [
        {
          "output_type": "stream",
          "name": "stdout",
          "text": [
            "Epoch 1/10\n",
            "125/125 [==============================] - 43s 250ms/step - loss: 0.0884 - accuracy: 0.6600 - val_loss: 0.0812 - val_accuracy: 0.7360\n",
            "Epoch 2/10\n",
            "125/125 [==============================] - 30s 239ms/step - loss: 0.0797 - accuracy: 0.7063 - val_loss: 0.0747 - val_accuracy: 0.7360\n",
            "Epoch 3/10\n",
            "125/125 [==============================] - 30s 240ms/step - loss: 0.0767 - accuracy: 0.7175 - val_loss: 0.0748 - val_accuracy: 0.7360\n",
            "Epoch 4/10\n",
            "125/125 [==============================] - 32s 258ms/step - loss: 0.0756 - accuracy: 0.7287 - val_loss: 0.0741 - val_accuracy: 0.7360\n",
            "Epoch 5/10\n",
            "125/125 [==============================] - 30s 241ms/step - loss: 0.0741 - accuracy: 0.7358 - val_loss: 0.0753 - val_accuracy: 0.7360\n",
            "Epoch 6/10\n",
            "125/125 [==============================] - 30s 241ms/step - loss: 0.0741 - accuracy: 0.7368 - val_loss: 0.0748 - val_accuracy: 0.7360\n",
            "Epoch 7/10\n",
            "125/125 [==============================] - 30s 240ms/step - loss: 0.0740 - accuracy: 0.7370 - val_loss: 0.0791 - val_accuracy: 0.7360\n",
            "Epoch 8/10\n",
            "125/125 [==============================] - 31s 249ms/step - loss: 0.0731 - accuracy: 0.7383 - val_loss: 0.0822 - val_accuracy: 0.7360\n",
            "Epoch 9/10\n",
            "125/125 [==============================] - 30s 238ms/step - loss: 0.0733 - accuracy: 0.7365 - val_loss: 0.0771 - val_accuracy: 0.7360\n",
            "Epoch 10/10\n",
            "125/125 [==============================] - 29s 235ms/step - loss: 0.0731 - accuracy: 0.7375 - val_loss: 0.0694 - val_accuracy: 0.7360\n"
          ]
        },
        {
          "output_type": "execute_result",
          "data": {
            "text/plain": [
              "<keras.callbacks.History at 0x7dd74b7eee90>"
            ]
          },
          "metadata": {},
          "execution_count": 140
        }
      ]
    },
    {
      "cell_type": "code",
      "source": [
        "\n",
        "def find_best_threshold_accuracy(y_true, y_pred_probs):\n",
        "    \"\"\"\n",
        "    Finds the optimal threshold that maximizes accuracy.\n",
        "\n",
        "    Parameters:\n",
        "    y_true (array): True binary labels (0 or 1).\n",
        "    y_pred_probs (array): Predicted probabilities.\n",
        "\n",
        "    Returns:\n",
        "    best_threshold (float): Threshold that gives the highest accuracy.\n",
        "    \"\"\"\n",
        "    thresholds = np.linspace(0, 1, 100)  # Generate 100 thresholds from 0 to 1\n",
        "    accuracies = []\n",
        "\n",
        "    for threshold in thresholds:\n",
        "        y_pred = (y_pred_probs >= threshold).astype(int)\n",
        "        acc = accuracy_score(y_true, y_pred)\n",
        "        accuracies.append(acc)\n",
        "\n",
        "    best_threshold = thresholds[np.argmax(accuracies)]  # Get threshold with max accuracy\n",
        "\n",
        "    return best_threshold\n",
        "\n",
        "# Get probabilities for class 1\n",
        "y_pred_probs = glove_bilstm.predict(x_test_padded).flatten()\n",
        "\n",
        "# Find the best threshold based on Accuracy\n",
        "optimal_threshold = find_best_threshold_accuracy(y_test, y_pred_probs)\n",
        "print(f\"OPTIMAL THRESHOLD (Accuracy-based): {optimal_threshold:.4f}\")\n",
        "\n",
        "# Apply threshold to get final predictions\n",
        "y_prediction = (glove_bilstm.predict(x_test_padded) > optimal_threshold).astype(int)"
      ],
      "metadata": {
        "colab": {
          "base_uri": "https://localhost:8080/"
        },
        "id": "JolH1xnh0OYx",
        "outputId": "aa063d7d-1da9-46d3-ebeb-7e5667067e32"
      },
      "execution_count": 141,
      "outputs": [
        {
          "output_type": "stream",
          "name": "stdout",
          "text": [
            "32/32 [==============================] - 5s 73ms/step\n",
            "OPTIMAL THRESHOLD (Accuracy-based): 0.4343\n",
            "32/32 [==============================] - 2s 67ms/step\n"
          ]
        }
      ]
    },
    {
      "cell_type": "code",
      "source": [
        "metrics_dict = {\n",
        "    \"accuracy_score\": accuracy_score(y_test, y_prediction),\n",
        "    \"precision_score\": precision_score(y_test, y_prediction, average = 'weighted',zero_division=1),\n",
        "    \"f1_score\": f1_score(y_test, y_prediction, average = 'weighted'),\n",
        "    \"recall_score\": recall_score(y_test, y_prediction, average = 'weighted')\n",
        "\n",
        "}\n",
        "\n",
        "# Print results\n",
        "for metric, value in metrics_dict.items():\n",
        "    print(f\"{metric}: {value:.4f}\")"
      ],
      "metadata": {
        "colab": {
          "base_uri": "https://localhost:8080/"
        },
        "id": "nUTpTevIb-EP",
        "outputId": "ad1eb23b-66a1-4062-9194-73362c9447de"
      },
      "execution_count": 142,
      "outputs": [
        {
          "output_type": "stream",
          "name": "stdout",
          "text": [
            "accuracy_score: 0.7360\n",
            "precision_score: 0.8057\n",
            "f1_score: 0.6241\n",
            "recall_score: 0.7360\n"
          ]
        }
      ]
    },
    {
      "cell_type": "markdown",
      "source": [
        "#FAST TEXT FEATURE EXTRACTION"
      ],
      "metadata": {
        "id": "-4mNr7YG7OJd"
      }
    },
    {
      "cell_type": "code",
      "source": [
        "data = pd.read_csv('political_social_media.csv', encoding='latin-1')\n",
        "\n",
        "col_to_be_dropped = ['_unit_id', '_unit_state', '_golden', 'orig__golden',\n",
        "                     'audience_gold', 'bias_gold', 'embed', 'id', 'message_gold',\n",
        "                     'bioid', 'label', '_last_judgment_at']\n",
        "data.drop(col_to_be_dropped, axis=1, inplace=True)\n",
        "\n",
        "col_transform = ColumnTransformer(\n",
        "    [('encoder', OneHotEncoder(drop='first', sparse_output=False), ['audience', 'source', 'message'])],\n",
        "    remainder='passthrough'\n",
        ")\n",
        "\n",
        "data = col_transform.fit_transform(data)\n",
        "data = pd.DataFrame(data, columns=col_transform.get_feature_names_out())\n",
        "data.columns = data.columns.str.replace(r'^encoder__|remainder__', '', regex=True)\n",
        "\n",
        "!pip install nltk\n",
        "import nltk\n",
        "\n",
        "nltk.download('punkt')\n",
        "nltk.download('wordnet')\n",
        "nltk.download('stopwords')\n",
        "nltk.download('punkt_tab')  # Download the missing 'punkt_tab' resource\n",
        "\n",
        "lemmatizer = WordNetLemmatizer()\n",
        "stop_words = set(stopwords.words('english'))\n",
        "\n",
        "def preprocess_text(text):\n",
        "    text = re.sub(r\"http\\S+\", '', text)  # Remove URLs\n",
        "    text = re.sub(r\"@\\w+|#\\w+\", '', text)  # Remove mentions & hashtags\n",
        "    text = re.sub(r\"[^A-Za-z\\s]\", '', text)  # Remove special characters\n",
        "    text = text.lower()  # Convert to lowercase\n",
        "    words = word_tokenize(text)  # Tokenization\n",
        "    words = [lemmatizer.lemmatize(word) for word in words if word not in stop_words]  # Lemmatization\n",
        "    return \" \".join(words)\n",
        "\n",
        "data['cleaned_text'] = data['text'].apply(preprocess_text)\n",
        "data.drop('text', axis=1, inplace=True)\n",
        "\n"
      ],
      "metadata": {
        "colab": {
          "base_uri": "https://localhost:8080/"
        },
        "id": "tT3Ie22W7WwX",
        "outputId": "44f3bb94-7606-488d-adbb-0a8581ae9aad"
      },
      "execution_count": 155,
      "outputs": [
        {
          "output_type": "stream",
          "name": "stdout",
          "text": [
            "\u001b[33mWARNING: Ignoring invalid distribution ~ensorflow (/usr/local/lib/python3.11/dist-packages)\u001b[0m\u001b[33m\n",
            "\u001b[0m\u001b[33mWARNING: Ignoring invalid distribution ~ensorflow (/usr/local/lib/python3.11/dist-packages)\u001b[0m\u001b[33m\n",
            "\u001b[0mRequirement already satisfied: nltk in /usr/local/lib/python3.11/dist-packages (3.9.1)\n",
            "Requirement already satisfied: click in /usr/local/lib/python3.11/dist-packages (from nltk) (8.1.8)\n",
            "Requirement already satisfied: joblib in /usr/local/lib/python3.11/dist-packages (from nltk) (1.4.2)\n",
            "Requirement already satisfied: regex>=2021.8.3 in /usr/local/lib/python3.11/dist-packages (from nltk) (2024.11.6)\n",
            "Requirement already satisfied: tqdm in /usr/local/lib/python3.11/dist-packages (from nltk) (4.67.1)\n",
            "\u001b[33mWARNING: Ignoring invalid distribution ~ensorflow (/usr/local/lib/python3.11/dist-packages)\u001b[0m\u001b[33m\n",
            "\u001b[0m\u001b[33mWARNING: Ignoring invalid distribution ~ensorflow (/usr/local/lib/python3.11/dist-packages)\u001b[0m\u001b[33m\n",
            "\u001b[0m"
          ]
        },
        {
          "output_type": "stream",
          "name": "stderr",
          "text": [
            "[nltk_data] Downloading package punkt to /root/nltk_data...\n",
            "[nltk_data]   Package punkt is already up-to-date!\n",
            "[nltk_data] Downloading package wordnet to /root/nltk_data...\n",
            "[nltk_data]   Package wordnet is already up-to-date!\n",
            "[nltk_data] Downloading package stopwords to /root/nltk_data...\n",
            "[nltk_data]   Package stopwords is already up-to-date!\n",
            "[nltk_data] Downloading package punkt_tab to /root/nltk_data...\n",
            "[nltk_data]   Package punkt_tab is already up-to-date!\n"
          ]
        }
      ]
    },
    {
      "cell_type": "code",
      "source": [
        "text_col = 'cleaned_text'\n",
        "target_col = 'bias'\n",
        "\n",
        "numerical_cols = ['audience_national', 'source_twitter', 'message_constituency',\n",
        "                  'message_information', 'message_media', 'message_mobilization',\n",
        "                  'message_other', 'message_personal', 'message_policy',\n",
        "                  'message_support', '_trusted_judgments', 'audience:confidence',\n",
        "                  'bias:confidence', 'message:confidence']\n",
        "\n",
        "# Convert bias column to binary\n",
        "df['bias'] = df['bias'].apply(lambda x: 1 if x == 'partisan' else 0)\n",
        "\n",
        "x_train, x_test, y_train, y_test = train_test_split(df[[text_col] + numerical_cols],\n",
        "                                                    df[target_col], test_size=0.2, random_state=55)"
      ],
      "metadata": {
        "id": "4mZWYigb7XRy"
      },
      "execution_count": 156,
      "outputs": []
    },
    {
      "cell_type": "code",
      "source": [
        "import gensim.downloader as api\n",
        "\n",
        "# Load a smaller GloVe model (50D instead of 300D)\n",
        "glove_model = api.load('glove-wiki-gigaword-50')\n",
        "from gensim.models import FastText"
      ],
      "metadata": {
        "id": "cHPGKis_7xCk"
      },
      "execution_count": 157,
      "outputs": []
    },
    {
      "cell_type": "code",
      "source": [
        "from gensim.models.fasttext import FastText\n",
        "\n",
        "\n",
        "# Assume x_train and x_test contain your tokenized text data\n",
        "sentences = [doc.split() for doc in x_train[text_col]]  # Tokenizing sentences for FastText training\n",
        "\n",
        "# Train FastText model\n",
        "fasttext_model = FastText(sentences, vector_size=100, window=5, min_count=1, workers=4, sg=1)\n",
        "\n",
        "# Save model for later use\n",
        "fasttext_model.save(\"fasttext_model.bin\")"
      ],
      "metadata": {
        "id": "IP4cdxMg9p8_"
      },
      "execution_count": 158,
      "outputs": []
    },
    {
      "cell_type": "code",
      "source": [
        "def document_vector(doc, model, vector_size=100):\n",
        "    words = doc.split()\n",
        "    word_vectors = [model.wv[word] for word in words if word in model.wv]\n",
        "\n",
        "    if len(word_vectors) == 0:\n",
        "        return np.zeros(vector_size)\n",
        "\n",
        "    return np.mean(word_vectors, axis=0)\n",
        "\n",
        "# Convert x_train and x_test into FastText vectors\n",
        "x_train_fasttext = np.array([document_vector(doc, fasttext_model) for doc in x_train[text_col]])\n",
        "x_test_fasttext = np.array([document_vector(doc, fasttext_model) for doc in x_test[text_col]])"
      ],
      "metadata": {
        "id": "ohSwPgYy7xI-"
      },
      "execution_count": 159,
      "outputs": []
    },
    {
      "cell_type": "markdown",
      "source": [
        "#FAST TEXT ANN"
      ],
      "metadata": {
        "id": "n-mRrtZnVGhM"
      }
    },
    {
      "cell_type": "code",
      "source": [
        "ann_model = tf.keras.models.Sequential()\n",
        "\n",
        "input_dim = 100  # Feature vector size from FastText\n",
        "\n",
        "ann_model.add(tf.keras.layers.Dense(units=128, activation='relu', input_shape=(input_dim,)))  # Input layer\n",
        "ann_model.add(tf.keras.layers.Dense(units=64, activation='relu'))\n",
        "ann_model.add(tf.keras.layers.BatchNormalization())\n",
        "ann_model.add(tf.keras.layers.Dropout(0.3))\n",
        "\n",
        "ann_model.add(tf.keras.layers.Dense(units=32, activation='relu'))\n",
        "ann_model.add(tf.keras.layers.Dense(units=16, activation='relu'))\n",
        "ann_model.add(tf.keras.layers.Dense(units=1, activation='sigmoid'))  # Output layer\n",
        "\n",
        "ann_model.compile(optimizer='adam',\n",
        "                  loss=tfa.losses.SigmoidFocalCrossEntropy(alpha=0.25, gamma=2.0),\n",
        "                  metrics=['accuracy'])\n",
        "\n",
        "ann_model.summary()"
      ],
      "metadata": {
        "colab": {
          "base_uri": "https://localhost:8080/"
        },
        "id": "QHv9NMP_VGl9",
        "outputId": "d0e9a85f-2cc7-4a79-8145-a0f81465579f"
      },
      "execution_count": 160,
      "outputs": [
        {
          "output_type": "stream",
          "name": "stdout",
          "text": [
            "Model: \"sequential_14\"\n",
            "_________________________________________________________________\n",
            " Layer (type)                Output Shape              Param #   \n",
            "=================================================================\n",
            " dense_56 (Dense)            (None, 128)               12928     \n",
            "                                                                 \n",
            " dense_57 (Dense)            (None, 64)                8256      \n",
            "                                                                 \n",
            " batch_normalization_16 (Bat  (None, 64)               256       \n",
            " chNormalization)                                                \n",
            "                                                                 \n",
            " dropout_20 (Dropout)        (None, 64)                0         \n",
            "                                                                 \n",
            " dense_58 (Dense)            (None, 32)                2080      \n",
            "                                                                 \n",
            " dense_59 (Dense)            (None, 16)                528       \n",
            "                                                                 \n",
            " dense_60 (Dense)            (None, 1)                 17        \n",
            "                                                                 \n",
            "=================================================================\n",
            "Total params: 24,065\n",
            "Trainable params: 23,937\n",
            "Non-trainable params: 128\n",
            "_________________________________________________________________\n"
          ]
        }
      ]
    },
    {
      "cell_type": "code",
      "source": [
        "ann_model.fit(x_train_fasttext, y_train, validation_data=(x_test_fasttext, y_test), epochs=10, batch_size=32, verbose=1)"
      ],
      "metadata": {
        "colab": {
          "base_uri": "https://localhost:8080/"
        },
        "id": "fQnqEh_EuZJ1",
        "outputId": "483e1856-7b21-431d-f0b3-5ce1de897997"
      },
      "execution_count": 161,
      "outputs": [
        {
          "output_type": "stream",
          "name": "stdout",
          "text": [
            "Epoch 1/10\n",
            "125/125 [==============================] - 2s 4ms/step - loss: 0.0271 - accuracy: 0.9578 - val_loss: 6.1330e-04 - val_accuracy: 1.0000\n",
            "Epoch 2/10\n",
            "125/125 [==============================] - 0s 3ms/step - loss: 2.9398e-04 - accuracy: 1.0000 - val_loss: 4.3606e-04 - val_accuracy: 1.0000\n",
            "Epoch 3/10\n",
            "125/125 [==============================] - 0s 3ms/step - loss: 7.3376e-05 - accuracy: 1.0000 - val_loss: 1.2291e-04 - val_accuracy: 1.0000\n",
            "Epoch 4/10\n",
            "125/125 [==============================] - 1s 6ms/step - loss: 3.3851e-05 - accuracy: 1.0000 - val_loss: 4.2991e-05 - val_accuracy: 1.0000\n",
            "Epoch 5/10\n",
            "125/125 [==============================] - 1s 11ms/step - loss: 2.0739e-05 - accuracy: 1.0000 - val_loss: 1.3811e-05 - val_accuracy: 1.0000\n",
            "Epoch 6/10\n",
            "125/125 [==============================] - 1s 7ms/step - loss: 1.2994e-05 - accuracy: 1.0000 - val_loss: 6.4181e-06 - val_accuracy: 1.0000\n",
            "Epoch 7/10\n",
            "125/125 [==============================] - 1s 6ms/step - loss: 8.8165e-06 - accuracy: 1.0000 - val_loss: 2.9364e-06 - val_accuracy: 1.0000\n",
            "Epoch 8/10\n",
            "125/125 [==============================] - 1s 4ms/step - loss: 6.1171e-06 - accuracy: 1.0000 - val_loss: 1.6213e-06 - val_accuracy: 1.0000\n",
            "Epoch 9/10\n",
            "125/125 [==============================] - 0s 3ms/step - loss: 4.6429e-06 - accuracy: 1.0000 - val_loss: 1.8087e-06 - val_accuracy: 1.0000\n",
            "Epoch 10/10\n",
            "125/125 [==============================] - 0s 3ms/step - loss: 3.7988e-06 - accuracy: 1.0000 - val_loss: 1.4462e-06 - val_accuracy: 1.0000\n"
          ]
        },
        {
          "output_type": "execute_result",
          "data": {
            "text/plain": [
              "<keras.callbacks.History at 0x7dd738123a10>"
            ]
          },
          "metadata": {},
          "execution_count": 161
        }
      ]
    },
    {
      "cell_type": "code",
      "source": [
        "\n",
        "def find_best_threshold_accuracy(y_true, y_pred_probs):\n",
        "    \"\"\"\n",
        "    Finds the optimal threshold that maximizes accuracy.\n",
        "\n",
        "    Parameters:\n",
        "    y_true (array): True binary labels (0 or 1).\n",
        "    y_pred_probs (array): Predicted probabilities.\n",
        "\n",
        "    Returns:\n",
        "    best_threshold (float): Threshold that gives the highest accuracy.\n",
        "    \"\"\"\n",
        "    thresholds = np.linspace(0, 1, 100)  # Generate 100 thresholds from 0 to 1\n",
        "    accuracies = []\n",
        "\n",
        "    for threshold in thresholds:\n",
        "        y_pred = (y_pred_probs >= threshold).astype(int)\n",
        "        acc = accuracy_score(y_true, y_pred)\n",
        "        accuracies.append(acc)\n",
        "\n",
        "    best_threshold = thresholds[np.argmax(accuracies)]  # Get threshold with max accuracy\n",
        "\n",
        "    return best_threshold\n",
        "\n",
        "# Get probabilities for class 1\n",
        "y_pred_probs = ann_model.predict(x_test_fasttext).flatten()\n",
        "\n",
        "# Find the best threshold based on Accuracy\n",
        "optimal_threshold = find_best_threshold_accuracy(y_test, y_pred_probs)\n",
        "print(f\"OPTIMAL THRESHOLD (Accuracy-based): {optimal_threshold:.4f}\")\n",
        "\n",
        "# Apply threshold to get final predictions\n",
        "y_prediction = (ann_model.predict(x_test_fasttext) > 0.016).astype(int)"
      ],
      "metadata": {
        "colab": {
          "base_uri": "https://localhost:8080/"
        },
        "id": "Ef4dcXZS0Zvq",
        "outputId": "63188e58-173b-4681-9d9c-dda437614196"
      },
      "execution_count": 165,
      "outputs": [
        {
          "output_type": "stream",
          "name": "stdout",
          "text": [
            "32/32 [==============================] - 0s 5ms/step\n",
            "OPTIMAL THRESHOLD (Accuracy-based): 0.0404\n",
            "32/32 [==============================] - 0s 3ms/step\n"
          ]
        }
      ]
    },
    {
      "cell_type": "code",
      "source": [
        "metrics_dict = {\n",
        "    \"accuracy_score\": accuracy_score(y_test, y_prediction),\n",
        "    \"precision_score\": precision_score(y_test, y_prediction, average = 'weighted',zero_division=1),\n",
        "    \"f1_score\": f1_score(y_test, y_prediction, average = 'weighted'),\n",
        "    \"recall_score\": recall_score(y_test, y_prediction, average = 'weighted',zero_division=1)\n",
        "\n",
        "}\n",
        "\n",
        "# Print results\n",
        "for metric, value in metrics_dict.items():\n",
        "    print(f\"{metric}: {value:.4f}\")"
      ],
      "metadata": {
        "colab": {
          "base_uri": "https://localhost:8080/"
        },
        "id": "pM9rSsjN19h8",
        "outputId": "0be1bb60-281f-4dbc-8b84-0434b9515446"
      },
      "execution_count": 166,
      "outputs": [
        {
          "output_type": "stream",
          "name": "stdout",
          "text": [
            "accuracy_score: 0.8140\n",
            "precision_score: 1.0000\n",
            "f1_score: 0.8975\n",
            "recall_score: 0.8140\n"
          ]
        }
      ]
    },
    {
      "cell_type": "code",
      "source": [
        "preds = ann_model.predict(x_test_fasttext)  # Get raw probabilities\n",
        "plt.hist(preds, bins=50)\n",
        "plt.xlabel(\"Predicted Probability\")\n",
        "plt.ylabel(\"Frequency\")\n",
        "plt.title(\"Distribution of Predictions\")\n",
        "plt.show()"
      ],
      "metadata": {
        "colab": {
          "base_uri": "https://localhost:8080/",
          "height": 489
        },
        "id": "n7BX14dYdTmu",
        "outputId": "f9fbbff0-ac40-46a3-87cd-3d35ff5e7d59"
      },
      "execution_count": 167,
      "outputs": [
        {
          "output_type": "stream",
          "name": "stdout",
          "text": [
            "32/32 [==============================] - 0s 1ms/step\n"
          ]
        },
        {
          "output_type": "display_data",
          "data": {
            "text/plain": [
              "<Figure size 640x480 with 1 Axes>"
            ],
            "image/png": "[encoded data removed]"
          },
          "metadata": {}
        }
      ]
    },
    {
      "cell_type": "markdown",
      "source": [
        "#FAST TEXT LSTM"
      ],
      "metadata": {
        "id": "JvB07xeVVGsM"
      }
    },
    {
      "cell_type": "code",
      "source": [
        "x_train_fasttext = x_train_fasttext.reshape(x_train_fasttext.shape[0], 1, x_train_fasttext.shape[1])  # Use shape[1] for the last dimension\n",
        "x_test_fasttext = x_test_fasttext.reshape(x_test_fasttext.shape[0], 1, x_test_fasttext.shape[1])  # Use shape[1] for the last dimensio\n",
        "\n",
        "\n",
        "\n",
        "# Create a new LSTM model to avoid variable creation during the fit call\n",
        "lstm_model_new = tf.keras.models.Sequential()\n",
        "\n",
        "input_dim = 100  # Feature vector size from FastText\n",
        "time_steps = 1   # Since input is already averaged\n",
        "\n",
        "lstm_model_new.add(tf.keras.layers.LSTM(units=128, return_sequences=True, input_shape=(time_steps, input_dim)))  # LSTM layer\n",
        "lstm_model_new.add(tf.keras.layers.LSTM(units=64, return_sequences=False))  # Last LSTM layer\n",
        "\n",
        "lstm_model_new.add(tf.keras.layers.Dense(units=32, activation='relu'))\n",
        "lstm_model_new.add(tf.keras.layers.BatchNormalization())\n",
        "lstm_model_new.add(tf.keras.layers.Dropout(0.3))\n",
        "\n",
        "lstm_model_new.add(tf.keras.layers.Dense(units=16, activation='relu'))\n",
        "lstm_model_new.add(tf.keras.layers.Dense(units=1, activation='sigmoid'))  # Output layer\n",
        "\n",
        "lstm_model_new.compile(optimizer='adam',\n",
        "                   loss=tfa.losses.SigmoidFocalCrossEntropy(alpha=0.25, gamma=2.0),\n",
        "                   metrics=['accuracy'])\n",
        "class_weights = compute_class_weight('balanced', classes=np.unique(y_train), y=y_train)\n",
        "class_weights_dict = dict(enumerate(class_weights))\n",
        "\n"
      ],
      "metadata": {
        "id": "Uw8XLzekVGxh"
      },
      "execution_count": 168,
      "outputs": []
    },
    {
      "cell_type": "code",
      "source": [
        "# Fit the new model to avoid variable creation issues.\n",
        "lstm_model_new.fit(x_train_fasttext, y_train, validation_data=(x_test_fasttext, y_test), epochs=10, batch_size=32, verbose=1, class_weight = class_weights_dict)"
      ],
      "metadata": {
        "colab": {
          "base_uri": "https://localhost:8080/"
        },
        "id": "fO5sLhbRdZvz",
        "outputId": "83f8dada-f723-4159-b872-254bc29d448e"
      },
      "execution_count": 169,
      "outputs": [
        {
          "output_type": "stream",
          "name": "stdout",
          "text": [
            "Epoch 1/10\n",
            "125/125 [==============================] - 19s 55ms/step - loss: 0.0291 - accuracy: 0.9970 - val_loss: 0.0023 - val_accuracy: 1.0000\n",
            "Epoch 2/10\n",
            "125/125 [==============================] - 2s 18ms/step - loss: 0.0010 - accuracy: 1.0000 - val_loss: 8.1930e-04 - val_accuracy: 1.0000\n",
            "Epoch 3/10\n",
            "125/125 [==============================] - 2s 15ms/step - loss: 2.8969e-04 - accuracy: 1.0000 - val_loss: 1.6107e-04 - val_accuracy: 1.0000\n",
            "Epoch 4/10\n",
            "125/125 [==============================] - 2s 14ms/step - loss: 1.1947e-04 - accuracy: 1.0000 - val_loss: 5.9209e-05 - val_accuracy: 1.0000\n",
            "Epoch 5/10\n",
            "125/125 [==============================] - 2s 14ms/step - loss: 2.6480e-04 - accuracy: 0.9998 - val_loss: 7.1637e-04 - val_accuracy: 1.0000\n",
            "Epoch 6/10\n",
            "125/125 [==============================] - 2s 16ms/step - loss: 6.7953e-05 - accuracy: 1.0000 - val_loss: 3.0746e-06 - val_accuracy: 1.0000\n",
            "Epoch 7/10\n",
            "125/125 [==============================] - 3s 25ms/step - loss: 4.0135e-05 - accuracy: 1.0000 - val_loss: 5.0374e-06 - val_accuracy: 1.0000\n",
            "Epoch 8/10\n",
            "125/125 [==============================] - 3s 21ms/step - loss: 3.4292e-05 - accuracy: 1.0000 - val_loss: 2.5106e-05 - val_accuracy: 1.0000\n",
            "Epoch 9/10\n",
            "125/125 [==============================] - 2s 15ms/step - loss: 2.7018e-05 - accuracy: 1.0000 - val_loss: 1.8113e-06 - val_accuracy: 1.0000\n",
            "Epoch 10/10\n",
            "125/125 [==============================] - 2s 16ms/step - loss: 1.6540e-05 - accuracy: 1.0000 - val_loss: 1.6391e-06 - val_accuracy: 1.0000\n"
          ]
        },
        {
          "output_type": "execute_result",
          "data": {
            "text/plain": [
              "<keras.callbacks.History at 0x7dd7ab95bed0>"
            ]
          },
          "metadata": {},
          "execution_count": 169
        }
      ]
    },
    {
      "cell_type": "code",
      "source": [
        "\n",
        "def find_best_threshold_accuracy(y_true, y_pred_probs):\n",
        "    \"\"\"\n",
        "    Finds the optimal threshold that maximizes accuracy.\n",
        "\n",
        "    Parameters:\n",
        "    y_true (array): True binary labels (0 or 1).\n",
        "    y_pred_probs (array): Predicted probabilities.\n",
        "\n",
        "    Returns:\n",
        "    best_threshold (float): Threshold that gives the highest accuracy.\n",
        "    \"\"\"\n",
        "    thresholds = np.linspace(0, 1, 100)  # Generate 100 thresholds from 0 to 1\n",
        "    accuracies = []\n",
        "\n",
        "    for threshold in thresholds:\n",
        "        y_pred = (y_pred_probs >= threshold).astype(int)\n",
        "        acc = accuracy_score(y_true, y_pred)\n",
        "        accuracies.append(acc)\n",
        "\n",
        "    best_threshold = thresholds[np.argmax(accuracies)]  # Get threshold with max accuracy\n",
        "\n",
        "    return best_threshold\n",
        "\n",
        "# Get probabilities for class 1\n",
        "y_pred_probs = lstm_model_new.predict(x_test_fasttext).flatten()\n",
        "\n",
        "# Find the best threshold based on Accuracy\n",
        "optimal_threshold = find_best_threshold_accuracy(y_test, y_pred_probs)\n",
        "print(f\"OPTIMAL THRESHOLD (Accuracy-based): {optimal_threshold:.4f}\")\n",
        "\n",
        "# Apply threshold to get final predictions\n",
        "y_prediction = (lstm_model_new.predict(x_test_fasttext) > 0.0176).astype(int)"
      ],
      "metadata": {
        "colab": {
          "base_uri": "https://localhost:8080/"
        },
        "id": "W5bEQ5zW0mDY",
        "outputId": "5817baab-6aee-4c64-fc60-b1830570846b"
      },
      "execution_count": 203,
      "outputs": [
        {
          "output_type": "stream",
          "name": "stdout",
          "text": [
            "32/32 [==============================] - 0s 7ms/step\n",
            "OPTIMAL THRESHOLD (Accuracy-based): 0.0303\n",
            "32/32 [==============================] - 0s 6ms/step\n"
          ]
        }
      ]
    },
    {
      "cell_type": "code",
      "source": [
        "metrics_dict = {\n",
        "    \"accuracy_score\": accuracy_score(y_test, y_prediction),\n",
        "    \"precision_score\": precision_score(y_test, y_prediction, average = 'weighted'),\n",
        "    \"f1_score\": f1_score(y_test, y_prediction, average = 'weighted'),\n",
        "    \"recall_score\": recall_score(y_test, y_prediction, average = 'weighted',zero_division=1)\n",
        "\n",
        "}\n",
        "\n",
        "# Print results\n",
        "for metric, value in metrics_dict.items():\n",
        "    print(f\"{metric}: {value:.4f}\")"
      ],
      "metadata": {
        "colab": {
          "base_uri": "https://localhost:8080/"
        },
        "id": "nCVT2mq_2AGP",
        "outputId": "e014f8a6-dfe7-422b-d9b5-597622732d33"
      },
      "execution_count": 204,
      "outputs": [
        {
          "output_type": "stream",
          "name": "stdout",
          "text": [
            "accuracy_score: 0.8650\n",
            "precision_score: 1.0000\n",
            "f1_score: 0.9276\n",
            "recall_score: 0.8650\n"
          ]
        }
      ]
    },
    {
      "cell_type": "code",
      "source": [
        "preds = lstm_model_new.predict(x_test_fasttext)  # Get raw probabilities\n",
        "plt.hist(preds, bins=50)\n",
        "plt.xlabel(\"Predicted Probability\")\n",
        "plt.ylabel(\"Frequency\")\n",
        "plt.title(\"Distribution of Predictions\")\n",
        "plt.show()"
      ],
      "metadata": {
        "colab": {
          "base_uri": "https://localhost:8080/",
          "height": 489
        },
        "id": "03agkyEAdnhH",
        "outputId": "5d4f0e47-95b7-4f06-e2c9-286c3339c924"
      },
      "execution_count": 172,
      "outputs": [
        {
          "output_type": "stream",
          "name": "stdout",
          "text": [
            "32/32 [==============================] - 0s 3ms/step\n"
          ]
        },
        {
          "output_type": "display_data",
          "data": {
            "text/plain": [
              "<Figure size 640x480 with 1 Axes>"
            ],
            "image/png": "[encoded data removed]"
          },
          "metadata": {}
        }
      ]
    },
    {
      "cell_type": "markdown",
      "source": [
        "#FAST TEXT BILSTM"
      ],
      "metadata": {
        "id": "nH-iHsDJV1wA"
      }
    },
    {
      "cell_type": "code",
      "source": [
        "bilstm_model = tf.keras.models.Sequential()\n",
        "\n",
        "input_dim = 100  # Feature vector size from FastText\n",
        "time_steps = 1   # Since input is already averaged\n",
        "\n",
        "bilstm_model.add(tf.keras.layers.Bidirectional(tf.keras.layers.LSTM(units=128, return_sequences=True), input_shape=(time_steps, input_dim)))  # BiLSTM layer\n",
        "bilstm_model.add(tf.keras.layers.LSTM(units=64, return_sequences=False))  # Last LSTM layer\n",
        "\n",
        "bilstm_model.add(tf.keras.layers.Dense(units=32, activation='relu'))\n",
        "bilstm_model.add(tf.keras.layers.BatchNormalization())\n",
        "bilstm_model.add(tf.keras.layers.Dropout(0.3))\n",
        "\n",
        "bilstm_model.add(tf.keras.layers.Dense(units=16, activation='relu'))\n",
        "bilstm_model.add(tf.keras.layers.Dense(units=1, activation='sigmoid'))  # Output layer\n",
        "\n",
        "bilstm_model.compile(optimizer='adam',\n",
        "                     loss=tfa.losses.SigmoidFocalCrossEntropy(alpha=0.25, gamma=2.0),\n",
        "                     metrics=['accuracy'])\n",
        "\n",
        "bilstm_model.summary()"
      ],
      "metadata": {
        "colab": {
          "base_uri": "https://localhost:8080/"
        },
        "id": "fUM9cYl4V12h",
        "outputId": "152c7d01-cc5e-4d64-987d-90b0e3355aa0"
      },
      "execution_count": 185,
      "outputs": [
        {
          "output_type": "stream",
          "name": "stdout",
          "text": [
            "Model: \"sequential_16\"\n",
            "_________________________________________________________________\n",
            " Layer (type)                Output Shape              Param #   \n",
            "=================================================================\n",
            " bidirectional_3 (Bidirectio  (None, 1, 256)           234496    \n",
            " nal)                                                            \n",
            "                                                                 \n",
            " lstm_15 (LSTM)              (None, 64)                82176     \n",
            "                                                                 \n",
            " dense_64 (Dense)            (None, 32)                2080      \n",
            "                                                                 \n",
            " batch_normalization_18 (Bat  (None, 32)               128       \n",
            " chNormalization)                                                \n",
            "                                                                 \n",
            " dropout_22 (Dropout)        (None, 32)                0         \n",
            "                                                                 \n",
            " dense_65 (Dense)            (None, 16)                528       \n",
            "                                                                 \n",
            " dense_66 (Dense)            (None, 1)                 17        \n",
            "                                                                 \n",
            "=================================================================\n",
            "Total params: 319,425\n",
            "Trainable params: 319,361\n",
            "Non-trainable params: 64\n",
            "_________________________________________________________________\n"
          ]
        }
      ]
    },
    {
      "cell_type": "code",
      "source": [
        "bilstm_model.fit(x_train_fasttext, y_train, validation_data=(x_test_fasttext, y_test), epochs=10, batch_size=32, verbose=1)"
      ],
      "metadata": {
        "colab": {
          "base_uri": "https://localhost:8080/"
        },
        "id": "OBOeGi7Tdq88",
        "outputId": "4a3cdd00-253d-4210-e002-f206cc1be4b2"
      },
      "execution_count": 186,
      "outputs": [
        {
          "output_type": "stream",
          "name": "stdout",
          "text": [
            "Epoch 1/10\n",
            "125/125 [==============================] - 11s 25ms/step - loss: 0.0230 - accuracy: 0.9918 - val_loss: 1.7815e-04 - val_accuracy: 1.0000\n",
            "Epoch 2/10\n",
            "125/125 [==============================] - 1s 12ms/step - loss: 8.9812e-04 - accuracy: 1.0000 - val_loss: 2.9953e-04 - val_accuracy: 1.0000\n",
            "Epoch 3/10\n",
            "125/125 [==============================] - 1s 12ms/step - loss: 3.1730e-04 - accuracy: 0.9998 - val_loss: 4.7356e-04 - val_accuracy: 1.0000\n",
            "Epoch 4/10\n",
            "125/125 [==============================] - 1s 12ms/step - loss: 1.0323e-04 - accuracy: 1.0000 - val_loss: 3.1250e-05 - val_accuracy: 1.0000\n",
            "Epoch 5/10\n",
            "125/125 [==============================] - 3s 24ms/step - loss: 1.5345e-04 - accuracy: 0.9998 - val_loss: 2.8538e-15 - val_accuracy: 1.0000\n",
            "Epoch 6/10\n",
            "125/125 [==============================] - 2s 18ms/step - loss: 4.6982e-05 - accuracy: 1.0000 - val_loss: 2.5513e-12 - val_accuracy: 1.0000\n",
            "Epoch 7/10\n",
            "125/125 [==============================] - 2s 12ms/step - loss: 2.4275e-05 - accuracy: 1.0000 - val_loss: 5.0584e-12 - val_accuracy: 1.0000\n",
            "Epoch 8/10\n",
            "125/125 [==============================] - 2s 12ms/step - loss: 1.5778e-05 - accuracy: 1.0000 - val_loss: 1.5383e-07 - val_accuracy: 1.0000\n",
            "Epoch 9/10\n",
            "125/125 [==============================] - 1s 12ms/step - loss: 1.0493e-05 - accuracy: 1.0000 - val_loss: 1.3460e-08 - val_accuracy: 1.0000\n",
            "Epoch 10/10\n",
            "125/125 [==============================] - 1s 12ms/step - loss: 1.2717e-05 - accuracy: 1.0000 - val_loss: 1.2206e-06 - val_accuracy: 1.0000\n"
          ]
        },
        {
          "output_type": "execute_result",
          "data": {
            "text/plain": [
              "<keras.callbacks.History at 0x7dd71520e750>"
            ]
          },
          "metadata": {},
          "execution_count": 186
        }
      ]
    },
    {
      "cell_type": "code",
      "source": [
        "def find_best_threshold_accuracy(y_true, y_pred_probs):\n",
        "    \"\"\"\n",
        "    Finds the optimal threshold that maximizes accuracy.\n",
        "\n",
        "    Parameters:\n",
        "    y_true (array): True binary labels (0 or 1).\n",
        "    y_pred_probs (array): Predicted probabilities.\n",
        "\n",
        "    Returns:\n",
        "    best_threshold (float): Threshold that gives the highest accuracy.\n",
        "    \"\"\"\n",
        "    thresholds = np.linspace(0, 1, 100)  # Generate 100 thresholds from 0 to 1\n",
        "    accuracies = []\n",
        "\n",
        "    for threshold in thresholds:\n",
        "        y_pred = (y_pred_probs >= threshold).astype(int)\n",
        "        acc = accuracy_score(y_true, y_pred)\n",
        "        accuracies.append(acc)\n",
        "\n",
        "    best_threshold = thresholds[np.argmax(accuracies)]  # Get threshold with max accuracy\n",
        "\n",
        "    return best_threshold\n",
        "\n",
        "# Get probabilities for class 1\n",
        "y_pred_probs = bilstm_model.predict(x_test_fasttext).flatten()\n",
        "\n",
        "# Find the best threshold based on Accuracy\n",
        "optimal_threshold = find_best_threshold_accuracy(y_test, y_pred_probs)\n",
        "print(f\"OPTIMAL THRESHOLD (Accuracy-based): {optimal_threshold:.4f}\")\n",
        "\n",
        "# Apply threshold to get final predictions\n",
        "y_prediction = (bilstm_model.predict(x_test_fasttext) > 0.014).astype(int)"
      ],
      "metadata": {
        "colab": {
          "base_uri": "https://localhost:8080/"
        },
        "id": "APh4VTKM0tbH",
        "outputId": "cab53ea8-7ce0-4094-ff33-541a77db0f7d"
      },
      "execution_count": 200,
      "outputs": [
        {
          "output_type": "stream",
          "name": "stdout",
          "text": [
            "32/32 [==============================] - 0s 11ms/step\n",
            "OPTIMAL THRESHOLD (Accuracy-based): 0.0202\n",
            "32/32 [==============================] - 0s 12ms/step\n"
          ]
        }
      ]
    },
    {
      "cell_type": "code",
      "source": [
        "metrics_dict = {\n",
        "    \"accuracy_score\": accuracy_score(y_test, y_prediction),\n",
        "    \"precision_score\": precision_score(y_test, y_prediction, average = 'weighted',zero_division=1),\n",
        "    \"f1_score\": f1_score(y_test, y_prediction, average = 'weighted',zero_division=1),\n",
        "    \"recall_score\": recall_score(y_test, y_prediction, average = 'weighted',zero_division=1)\n",
        "\n",
        "}\n",
        "\n",
        "# Print results\n",
        "for metric, value in metrics_dict.items():\n",
        "    print(f\"{metric}: {value:.4f}\")"
      ],
      "metadata": {
        "colab": {
          "base_uri": "https://localhost:8080/"
        },
        "id": "96wFZefV2CMF",
        "outputId": "41a99994-7a65-4095-c7ff-7bdc416a004f"
      },
      "execution_count": 201,
      "outputs": [
        {
          "output_type": "stream",
          "name": "stdout",
          "text": [
            "accuracy_score: 0.9330\n",
            "precision_score: 1.0000\n",
            "f1_score: 0.9653\n",
            "recall_score: 0.9330\n"
          ]
        }
      ]
    },
    {
      "cell_type": "code",
      "source": [
        "preds = bilstm_model.predict(x_test_fasttext)\n",
        "plt.hist(preds, bins = 50)\n",
        "plt.xlabel('Predicted_Probabilties')\n",
        "plt.ylabel('Frequency')\n",
        "plt.title('Distribution of Predictions')\n",
        "plt.show()"
      ],
      "metadata": {
        "colab": {
          "base_uri": "https://localhost:8080/",
          "height": 489
        },
        "id": "58nkrx_3d3O2",
        "outputId": "0107a09f-b31d-42ad-bb2b-2a6d16544889"
      },
      "execution_count": 202,
      "outputs": [
        {
          "output_type": "stream",
          "name": "stdout",
          "text": [
            "32/32 [==============================] - 0s 8ms/step\n"
          ]
        },
        {
          "output_type": "display_data",
          "data": {
            "text/plain": [
              "<Figure size 640x480 with 1 Axes>"
            ],
            "image/png": "[encoded data removed]"
          },
          "metadata": {}
        }
      ]
    }
  ]
}